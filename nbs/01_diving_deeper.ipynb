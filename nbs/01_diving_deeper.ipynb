{
 "cells": [
  {
   "cell_type": "markdown",
   "id": "5567b491-b2f0-4e21-8d17-4fd377cc48a9",
   "metadata": {},
   "source": [
    "# Diving Deeper\n",
    "\n",
    "> Matrix math, from scratch"
   ]
  },
  {
   "cell_type": "markdown",
   "id": "20376e3b",
   "metadata": {},
   "source": [
    "Adapted from:\n",
    "- https://www.youtube.com/watch?v=6StU6UtZEbU&list=PLfYUBJiXbdtRUvTUYpLdfHHp9a58nWVXP&index=3&t=1623s"
   ]
  },
  {
   "cell_type": "code",
   "execution_count": 1,
   "id": "73180f67-7ab1-45e7-964b-55341b381c65",
   "metadata": {},
   "outputs": [],
   "source": [
    "#| default_exp diving_deeper"
   ]
  },
  {
   "cell_type": "code",
   "execution_count": 2,
   "id": "6b19d4af-b182-4877-a1c6-9ca592922ac3",
   "metadata": {},
   "outputs": [
    {
     "name": "stderr",
     "output_type": "stream",
     "text": [
      "/Users/jeremiahfisher/miniforge3/envs/slowai/lib/python3.9/site-packages/tqdm/auto.py:21: TqdmWarning: IProgress not found. Please update jupyter and ipywidgets. See https://ipywidgets.readthedocs.io/en/stable/user_install.html\n",
      "  from .autonotebook import tqdm as notebook_tqdm\n"
     ]
    }
   ],
   "source": [
    "#| export\n",
    "import gzip\n",
    "import os\n",
    "import pickle\n",
    "from dataclasses import dataclass\n",
    "from pathlib import Path\n",
    "from typing import Any, List\n",
    "\n",
    "import matplotlib.pyplot as plt\n",
    "import requests\n",
    "import torch\n",
    "\n",
    "from slowai.overview import show_image"
   ]
  },
  {
   "cell_type": "markdown",
   "id": "5cc938e1-4db5-4a51-8ee8-75bd870bf354",
   "metadata": {},
   "source": [
    "## Matrix notation and playing with data\n",
    "### Get the data"
   ]
  },
  {
   "cell_type": "code",
   "execution_count": 3,
   "id": "c284baba-30fd-4d0f-a46e-2a6b82036c1c",
   "metadata": {},
   "outputs": [
    {
     "data": {
      "text/plain": [
       "PosixPath('data/mnist.pkl.gz')"
      ]
     },
     "execution_count": 3,
     "metadata": {},
     "output_type": "execute_result"
    }
   ],
   "source": [
    "#| export\n",
    "# Get the data\n",
    "MNIST_URL = \"https://github.com/mnielsen/neural-networks-and-deep-learning/blob/master/data/mnist.pkl.gz?raw=true\"\n",
    "\n",
    "\n",
    "def download_file(url, destination):\n",
    "    response = requests.get(url, stream=True)\n",
    "    response.raise_for_status()\n",
    "\n",
    "    with open(destination, \"wb\") as file:\n",
    "        for chunk in response.iter_content(chunk_size=8192):\n",
    "            file.write(chunk)\n",
    "\n",
    "\n",
    "def download_mnist(path_gz=Path(\"./data\") / \"mnist.pkl.gz\"):\n",
    "    path_gz.parent.mkdir(exist_ok=True, parents=True)\n",
    "    download_file(MNIST_URL, path_gz)\n",
    "    return path_gz\n",
    "\n",
    "\n",
    "data_fp = download_mnist()\n",
    "data_fp"
   ]
  },
  {
   "cell_type": "code",
   "execution_count": 4,
   "id": "134c3134-a0d9-466d-8a92-eb211a7cd9ce",
   "metadata": {},
   "outputs": [
    {
     "data": {
      "text/plain": [
       "(50000, 784)"
      ]
     },
     "execution_count": 4,
     "metadata": {},
     "output_type": "execute_result"
    }
   ],
   "source": [
    "with gzip.open(data_fp, \"rb\") as f:\n",
    "    data = pickle.load(f, encoding=\"latin-1\")\n",
    "    ((X_trn, y_trn), (X_vld, y_vld), _) = data\n",
    "X_trn.shape"
   ]
  },
  {
   "cell_type": "markdown",
   "id": "db0544f0-92a9-4ed8-b069-6ca0a3537b72",
   "metadata": {},
   "source": [
    "Note that $784 = 28^2$"
   ]
  },
  {
   "cell_type": "code",
   "execution_count": 5,
   "id": "8a3c0518-fcc9-49a9-af24-f46667cdc49d",
   "metadata": {},
   "outputs": [
    {
     "data": {
      "text/plain": [
       "<matplotlib.image.AxesImage at 0x172b266a0>"
      ]
     },
     "execution_count": 5,
     "metadata": {},
     "output_type": "execute_result"
    },
    {
     "data": {
      "image/png": "[encoded data removed]",
      "text/plain": [
       "<Figure size 640x480 with 1 Axes>"
      ]
     },
     "metadata": {},
     "output_type": "display_data"
    }
   ],
   "source": [
    "fig, ax = plt.subplots(1, 1)\n",
    "ax.imshow(X_trn[0].reshape(28, 28))"
   ]
  },
  {
   "cell_type": "markdown",
   "id": "dea32112-d345-4a0b-88d7-44d0e7b0c667",
   "metadata": {},
   "source": [
    "### Writing a matrix class"
   ]
  },
  {
   "cell_type": "code",
   "execution_count": 6,
   "id": "ea9dfee8-e197-4f5a-a2dc-99043bb0ce23",
   "metadata": {},
   "outputs": [],
   "source": [
    "@dataclass\n",
    "class Matrix:\n",
    "    xs: List[List[float]]\n",
    "\n",
    "    def __getitem__(self, idxs):\n",
    "        x, y = idxs\n",
    "        return self.xs[x][y]"
   ]
  },
  {
   "cell_type": "markdown",
   "id": "a9112d5f-813f-48ad-96ec-7c4cebc5f29d",
   "metadata": {},
   "source": [
    "This is implemented by PyTorch (along with all the auto-differentiation stuff)"
   ]
  },
  {
   "cell_type": "code",
   "execution_count": 7,
   "id": "641ed0a6-1282-4b5b-9054-64b9bf7115b6",
   "metadata": {},
   "outputs": [
    {
     "data": {
      "text/plain": [
       "\u001b[0;31mInit signature:\u001b[0m \u001b[0mtorch\u001b[0m\u001b[0;34m.\u001b[0m\u001b[0mTensor\u001b[0m\u001b[0;34m(\u001b[0m\u001b[0mself\u001b[0m\u001b[0;34m,\u001b[0m \u001b[0;34m/\u001b[0m\u001b[0;34m,\u001b[0m \u001b[0;34m*\u001b[0m\u001b[0margs\u001b[0m\u001b[0;34m,\u001b[0m \u001b[0;34m**\u001b[0m\u001b[0mkwargs\u001b[0m\u001b[0;34m)\u001b[0m\u001b[0;34m\u001b[0m\u001b[0;34m\u001b[0m\u001b[0m\n",
       "\u001b[0;31mDocstring:\u001b[0m      <no docstring>\n",
       "\u001b[0;31mFile:\u001b[0m           ~/miniforge3/envs/slowai/lib/python3.9/site-packages/torch/__init__.py\n",
       "\u001b[0;31mType:\u001b[0m           _TensorMeta\n",
       "\u001b[0;31mSubclasses:\u001b[0m     Parameter, UninitializedBuffer, FakeTensor, MaskedTensor"
      ]
     },
     "metadata": {},
     "output_type": "display_data"
    }
   ],
   "source": [
    "torch.Tensor?"
   ]
  },
  {
   "cell_type": "markdown",
   "id": "7ee1742b-ae10-411a-a87b-1a660e119d7e",
   "metadata": {},
   "source": [
    "# History of Tensor Programming\n",
    "\n",
    "This goes back to the invention of the [APL language](dataclass). It started with a mathematical notation that was later adapted as a programming language in the 1960s by Kenneth Iverson and Adin Falkoff. This was extended with their physics research into Tensor Analysis.\n",
    "\n",
    "You can try it [here](http://tryapl.org).\n",
    "\n",
    "## APL functionality\n",
    "\n",
    "Defining a tensor (or \"arrays,\" using their own terminology), `a`.\n",
    "\n",
    "```apl\n",
    "a ⃪ 3 5 6\n",
    "```\n",
    "\n",
    "Multiplying by a scalar\n",
    "\n",
    "```apl\n",
    "a ⨉ 3\n",
    "```\n",
    "\n",
    "Element-wise division\n",
    "\n",
    "```apl\n",
    "b ⃪ 7 8 9\n",
    "a ÷ b\n",
    "```\n",
    "\n",
    "Numpy was influenced by APL, PyTorch was influenced by numpy.\n",
    "\n",
    "One thing that differs is that scalars are just \"1-rank\" tensors in numpy, whereas they have special scalars have special semantics in numpy."
   ]
  },
  {
   "cell_type": "markdown",
   "id": "196d98bc-190e-4da1-8add-a91d595de69f",
   "metadata": {},
   "source": [
    "# Random numbers\n",
    "\n",
    "There is no way to generate random numbers from a typical computer. You have to look at natural phenomenon for true randomness.\n",
    "\n",
    "- [Measuring the quantum fluctuations of the vacuum](https://qrng.anu.edu.au)\n",
    "- [Sample from the the pixels in a live feed of lava lamps](https://blog.cloudflare.com/randomness-101-lavarand-in-production/)\n",
    "- [On-chip entropy source](https://en.wikipedia.org/wiki/RDRAND)\n",
    "\n",
    "Generally, all we need is pseudo-randomness, like the [Wichmann Hill algorithm](https://en.wikipedia.org/wiki/Wichmann–Hill)."
   ]
  },
  {
   "cell_type": "code",
   "execution_count": 21,
   "id": "eac652e7-f352-4aea-8b6e-0147969489db",
   "metadata": {},
   "outputs": [
    {
     "data": {
      "text/plain": [
       "(0.25421176102342913, 0.4689255225976794, 0.19544471247365425)"
      ]
     },
     "execution_count": 21,
     "metadata": {},
     "output_type": "execute_result"
    }
   ],
   "source": [
    "@dataclass\n",
    "class RNG:\n",
    "    x = None\n",
    "    y = None\n",
    "    z = None\n",
    "\n",
    "    def seed(self, a):\n",
    "        a, x = divmod(a, 30268)\n",
    "        a, y = divmod(a, 30306)\n",
    "        a, z = divmod(a, 30322)\n",
    "        self.x = int(x) + 1\n",
    "        self.y = int(y) + 1\n",
    "        self.z = int(z) + 1\n",
    "\n",
    "    def random(self):\n",
    "        self.x = (171 * self.x) % 30269\n",
    "        self.y = (172 * self.y) % 30307\n",
    "        self.z = (170 * self.z) % 30323\n",
    "        return (self.x / 30268 + self.y / 30306 + self.z / 30322) % 1\n",
    "\n",
    "\n",
    "rng = RNG()\n",
    "rng.seed(42)\n",
    "rng.random(), rng.random(), rng.random()"
   ]
  },
  {
   "cell_type": "markdown",
   "id": "d312ff7f-909d-4c40-a1d2-79bc76a9433f",
   "metadata": {},
   "source": [
    "It is important to keep in mind the Unix process semantics for random numbers. What happens if we fork the process?"
   ]
  },
  {
   "cell_type": "code",
   "execution_count": 23,
   "id": "1aee09fc-ce2e-4aea-a9c9-9a589b66ebcc",
   "metadata": {},
   "outputs": [
    {
     "name": "stdout",
     "output_type": "stream",
     "text": [
      "parent process: 0.86\n",
      "child process: 0.86\n"
     ]
    }
   ],
   "source": [
    "if os.fork():\n",
    "    print(f\"parent process: {rng.random():.2f}\")\n",
    "else:\n",
    "    print(f\"child process: {rng.random():.2f}\")"
   ]
  },
  {
   "cell_type": "markdown",
   "id": "a57ccb08-9ca9-408f-a403-2a09a871a239",
   "metadata": {},
   "source": [
    "These are the same number! This is because the internals of the RNG are forked. You need to reseed the RNG for each process, like so."
   ]
  },
  {
   "cell_type": "code",
   "execution_count": 25,
   "id": "43e38eab-6c89-4871-816f-259321790343",
   "metadata": {},
   "outputs": [
    {
     "name": "stdout",
     "output_type": "stream",
     "text": [
      "parent process: 0.25\n",
      "child process: 0.26\n"
     ]
    }
   ],
   "source": [
    "if os.fork():\n",
    "    rng.seed(42)\n",
    "    print(f\"parent process: {rng.random():.2f}\")\n",
    "else:\n",
    "    rng.seed(43)\n",
    "    print(f\"child process: {rng.random():.2f}\")"
   ]
  },
  {
   "cell_type": "code",
   "execution_count": 8,
   "id": "c14e2831-ac50-468e-9e63-737e0c6e9b14",
   "metadata": {},
   "outputs": [],
   "source": [
    "#| hide\n",
    "import nbdev\n",
    "\n",
    "nbdev.nbdev_export()"
   ]
  }
 ],
 "metadata": {
  "kernelspec": {
   "display_name": "SlowAI",
   "language": "python",
   "name": "slowai"
  },
  "language_info": {
   "codemirror_mode": {
    "name": "ipython",
    "version": 3
   },
   "file_extension": ".py",
   "mimetype": "text/x-python",
   "name": "python",
   "nbconvert_exporter": "python",
   "pygments_lexer": "ipython3",
   "version": "3.10.13"
  }
 },
 "nbformat": 4,
 "nbformat_minor": 5
}

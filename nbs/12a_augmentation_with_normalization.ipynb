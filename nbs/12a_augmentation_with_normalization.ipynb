{
 "cells": [
  {
   "cell_type": "markdown",
   "id": "80e156db-8773-4354-a142-63f8f5b3e15d",
   "metadata": {},
   "source": [
    "# Augmentation with fixed normality\n",
    "\n",
    "> Training a classifier that uses the same dataset as the DDPM models, with the same normalization routine"
   ]
  },
  {
   "cell_type": "code",
   "execution_count": 1,
   "id": "59288746-9062-4348-9251-2ae2c37c85da",
   "metadata": {},
   "outputs": [],
   "source": [
    "#| default_exp augmentation_norm"
   ]
  },
  {
   "cell_type": "code",
   "execution_count": 2,
   "id": "8c2f9e4e-4fa0-403c-b552-5a491d219444",
   "metadata": {},
   "outputs": [],
   "source": [
    "# |export\n",
    "import torch\n",
    "from torchvision import transforms\n",
    "\n",
    "from slowai.learner import (\n",
    "    DataLoaders,\n",
    "    tensorize_images,\n",
    ")\n",
    "from slowai.augmentation import ResNetWithGlobalPoolingInitialConv, summarize, train"
   ]
  },
  {
   "cell_type": "markdown",
   "id": "c38ae06b-a94f-4752-bd36-e6cf2d6e7de6",
   "metadata": {},
   "source": [
    "This dataloader code is copied from `13_ddpm`."
   ]
  },
  {
   "cell_type": "code",
   "execution_count": 3,
   "id": "3c4b0cb3-5a6b-49b9-8bf4-8faf0946532a",
   "metadata": {},
   "outputs": [],
   "source": [
    "pipe = [\n",
    "    transforms.Resize((32, 32)),\n",
    "    transforms.PILToTensor(),\n",
    "    transforms.ConvertImageDtype(torch.float),\n",
    "    transforms.Lambda(lambda x: x - 0.5),\n",
    "]"
   ]
  },
  {
   "cell_type": "code",
   "execution_count": 4,
   "id": "b1617c61-8f9c-4da7-8a2b-8a30da4b4d56",
   "metadata": {},
   "outputs": [],
   "source": [
    "def get_dls(bs=128):\n",
    "    return tensorize_images(\n",
    "        DataLoaders.from_hf(\"fashion_mnist\", bs=bs),\n",
    "        pipe=pipe,\n",
    "        normalize=False,\n",
    "    ).listify()"
   ]
  },
  {
   "cell_type": "code",
   "execution_count": 5,
   "id": "02bc42b2-4b4b-40b5-a071-b84d7511bce7",
   "metadata": {},
   "outputs": [],
   "source": [
    "dls = get_dls()"
   ]
  },
  {
   "cell_type": "code",
   "execution_count": 6,
   "id": "301afe9f-3520-4481-9fde-6e41bfe89e3f",
   "metadata": {},
   "outputs": [
    {
     "data": {
      "text/plain": [
       "(tensor(-0.5000), tensor(0.5000))"
      ]
     },
     "execution_count": 6,
     "metadata": {},
     "output_type": "execute_result"
    }
   ],
   "source": [
    "xb, _ = dls.peek()\n",
    "xb.min(), xb.max()"
   ]
  },
  {
   "cell_type": "code",
   "execution_count": 7,
   "id": "749fa107-da59-40ca-aa4f-dccb26bf0323",
   "metadata": {},
   "outputs": [
    {
     "data": {
      "text/markdown": [
       "|Type|Input|Output|N. params|MFlops|\n",
       "|--|--|--|--|--|\n",
       "| Conv | (8, 1, 28, 28) | (8, 32, 28, 28) | 864 | 0.6\n",
       "| ResidualConvBlock | (8, 32, 28, 28) | (8, 64, 14, 14) | 57,664 | 11.2\n",
       "| ResidualConvBlock | (8, 64, 14, 14) | (8, 128, 7, 7) | 230,016 | 11.2\n",
       "| ResidualConvBlock | (8, 128, 7, 7) | (8, 256, 4, 4) | 918,784 | 14.7\n",
       "| ResidualConvBlock | (8, 256, 4, 4) | (8, 512, 2, 2) | 3,672,576 | 14.7\n",
       "| ResidualConvBlock | (8, 512, 2, 2) | (8, 512, 1, 1) | 4,983,296 | 5.0\n",
       "| Linear | (8, 512) | (8, 10) | 5,130 | 0.0\n",
       "| BatchNorm1d | (8, 10) | (8, 10) | 20 | 0.0\n",
       "| Total | | | 9,868,350 | |"
      ],
      "text/plain": [
       "<IPython.core.display.Markdown object>"
      ]
     },
     "metadata": {},
     "output_type": "display_data"
    },
    {
     "data": {
      "text/html": [
       "\n",
       "<style>\n",
       "    /* Turns off some styling */\n",
       "    progress {\n",
       "        /* gets rid of default border in Firefox and Opera. */\n",
       "        border: none;\n",
       "        /* Needs to be in here for Safari polyfill so background images work as expected. */\n",
       "        background-size: auto;\n",
       "    }\n",
       "    progress:not([value]), progress:not([value])::-webkit-progress-bar {\n",
       "        background: repeating-linear-gradient(45deg, #7e7e7e, #7e7e7e 10px, #5c5c5c 10px, #5c5c5c 20px);\n",
       "    }\n",
       "    .progress-bar-interrupted, .progress-bar-interrupted::-webkit-progress-bar {\n",
       "        background: #F44336;\n",
       "    }\n",
       "</style>\n"
      ],
      "text/plain": [
       "<IPython.core.display.HTML object>"
      ]
     },
     "metadata": {},
     "output_type": "display_data"
    },
    {
     "data": {
      "text/html": [
       "<table border=\"1\" class=\"dataframe\">\n",
       "  <thead>\n",
       "    <tr style=\"text-align: left;\">\n",
       "      <th>MulticlassAccuracy</th>\n",
       "      <th>loss</th>\n",
       "      <th>epoch</th>\n",
       "      <th>train</th>\n",
       "    </tr>\n",
       "  </thead>\n",
       "  <tbody>\n",
       "    <tr>\n",
       "      <td>0.866</td>\n",
       "      <td>0.557</td>\n",
       "      <td>0</td>\n",
       "      <td>train</td>\n",
       "    </tr>\n",
       "    <tr>\n",
       "      <td>0.859</td>\n",
       "      <td>0.429</td>\n",
       "      <td>0</td>\n",
       "      <td>eval</td>\n",
       "    </tr>\n",
       "    <tr>\n",
       "      <td>0.891</td>\n",
       "      <td>0.352</td>\n",
       "      <td>1</td>\n",
       "      <td>train</td>\n",
       "    </tr>\n",
       "    <tr>\n",
       "      <td>0.872</td>\n",
       "      <td>0.352</td>\n",
       "      <td>1</td>\n",
       "      <td>eval</td>\n",
       "    </tr>\n",
       "    <tr>\n",
       "      <td>0.903</td>\n",
       "      <td>0.282</td>\n",
       "      <td>2</td>\n",
       "      <td>train</td>\n",
       "    </tr>\n",
       "    <tr>\n",
       "      <td>0.887</td>\n",
       "      <td>0.313</td>\n",
       "      <td>2</td>\n",
       "      <td>eval</td>\n",
       "    </tr>\n",
       "    <tr>\n",
       "      <td>0.917</td>\n",
       "      <td>0.238</td>\n",
       "      <td>3</td>\n",
       "      <td>train</td>\n",
       "    </tr>\n",
       "    <tr>\n",
       "      <td>0.894</td>\n",
       "      <td>0.303</td>\n",
       "      <td>3</td>\n",
       "      <td>eval</td>\n",
       "    </tr>\n",
       "    <tr>\n",
       "      <td>0.928</td>\n",
       "      <td>0.204</td>\n",
       "      <td>4</td>\n",
       "      <td>train</td>\n",
       "    </tr>\n",
       "    <tr>\n",
       "      <td>0.891</td>\n",
       "      <td>0.321</td>\n",
       "      <td>4</td>\n",
       "      <td>eval</td>\n",
       "    </tr>\n",
       "    <tr>\n",
       "      <td>0.939</td>\n",
       "      <td>0.173</td>\n",
       "      <td>5</td>\n",
       "      <td>train</td>\n",
       "    </tr>\n",
       "    <tr>\n",
       "      <td>0.911</td>\n",
       "      <td>0.263</td>\n",
       "      <td>5</td>\n",
       "      <td>eval</td>\n",
       "    </tr>\n",
       "    <tr>\n",
       "      <td>0.950</td>\n",
       "      <td>0.138</td>\n",
       "      <td>6</td>\n",
       "      <td>train</td>\n",
       "    </tr>\n",
       "    <tr>\n",
       "      <td>0.917</td>\n",
       "      <td>0.244</td>\n",
       "      <td>6</td>\n",
       "      <td>eval</td>\n",
       "    </tr>\n",
       "    <tr>\n",
       "      <td>0.966</td>\n",
       "      <td>0.095</td>\n",
       "      <td>7</td>\n",
       "      <td>train</td>\n",
       "    </tr>\n",
       "    <tr>\n",
       "      <td>0.928</td>\n",
       "      <td>0.239</td>\n",
       "      <td>7</td>\n",
       "      <td>eval</td>\n",
       "    </tr>\n",
       "    <tr>\n",
       "      <td>0.982</td>\n",
       "      <td>0.054</td>\n",
       "      <td>8</td>\n",
       "      <td>train</td>\n",
       "    </tr>\n",
       "    <tr>\n",
       "      <td>0.932</td>\n",
       "      <td>0.228</td>\n",
       "      <td>8</td>\n",
       "      <td>eval</td>\n",
       "    </tr>\n",
       "    <tr>\n",
       "      <td>0.994</td>\n",
       "      <td>0.026</td>\n",
       "      <td>9</td>\n",
       "      <td>train</td>\n",
       "    </tr>\n",
       "    <tr>\n",
       "      <td>0.934</td>\n",
       "      <td>0.231</td>\n",
       "      <td>9</td>\n",
       "      <td>eval</td>\n",
       "    </tr>\n",
       "  </tbody>\n",
       "</table>"
      ],
      "text/plain": [
       "<IPython.core.display.HTML object>"
      ]
     },
     "metadata": {},
     "output_type": "display_data"
    },
    {
     "data": {
      "image/png": "[encoded data removed]",
      "text/plain": [
       "<Figure size 600x400 with 1 Axes>"
      ]
     },
     "metadata": {},
     "output_type": "display_data"
    }
   ],
   "source": [
    "mz = ResNetWithGlobalPoolingInitialConv.kaiming(nfs=[32, 64, 128, 256, 512, 512])\n",
    "summarize(mz, [*mz.layers, mz.lin, mz.norm])\n",
    "train(mz, dls=dls, n_epochs=10)"
   ]
  },
  {
   "cell_type": "code",
   "execution_count": 8,
   "id": "88173f18-5b20-46bd-ba21-63635fb75db0",
   "metadata": {},
   "outputs": [],
   "source": [
    "# Save this for later\n",
    "torch.save(mz, \"../models/fashion_mnist_classifier.pt\")"
   ]
  },
  {
   "cell_type": "code",
   "execution_count": null,
   "id": "b39b21ce-d745-406b-b5f8-fd05a275ce04",
   "metadata": {},
   "outputs": [],
   "source": []
  }
 ],
 "metadata": {
  "kernelspec": {
   "display_name": "SlowAI",
   "language": "python",
   "name": "slowai"
  },
  "language_info": {
   "codemirror_mode": {
    "name": "ipython",
    "version": 3
   },
   "file_extension": ".py",
   "mimetype": "text/x-python",
   "name": "python",
   "nbconvert_exporter": "python",
   "pygments_lexer": "ipython3",
   "version": "3.11.5"
  }
 },
 "nbformat": 4,
 "nbformat_minor": 5
}

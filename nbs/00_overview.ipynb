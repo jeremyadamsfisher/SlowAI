{
 "cells": [
  {
   "attachments": {},
   "cell_type": "markdown",
   "id": "36cb5348-4049-4d81-9309-2695dfda4dad",
   "metadata": {
    "tags": []
   },
   "source": [
    "# Course overview\n",
    "\n",
    "> Getting started"
   ]
  },
  {
   "cell_type": "code",
   "execution_count": 1,
   "id": "6aeb82fc-01c2-4ee6-bcd9-fe9f29ec7067",
   "metadata": {},
   "outputs": [
    {
     "ename": "ModuleNotFoundError",
     "evalue": "No module named 'datasets'",
     "output_type": "error",
     "traceback": [
      "\u001b[0;31m---------------------------------------------------------------------------\u001b[0m",
      "\u001b[0;31mModuleNotFoundError\u001b[0m                       Traceback (most recent call last)",
      "Cell \u001b[0;32mIn[1], line 1\u001b[0m\n\u001b[0;32m----> 1\u001b[0m \u001b[39mfrom\u001b[39;00m \u001b[39mdatasets\u001b[39;00m \u001b[39mimport\u001b[39;00m load_dataset\n\u001b[1;32m      2\u001b[0m \u001b[39mimport\u001b[39;00m \u001b[39mmatplotlib\u001b[39;00m\u001b[39m.\u001b[39;00m\u001b[39mpyplot\u001b[39;00m \u001b[39mas\u001b[39;00m \u001b[39mplt\u001b[39;00m\n\u001b[1;32m      3\u001b[0m \u001b[39mfrom\u001b[39;00m \u001b[39msklearn\u001b[39;00m\u001b[39m.\u001b[39;00m\u001b[39mpreprocessing\u001b[39;00m \u001b[39mimport\u001b[39;00m normalize\n",
      "\u001b[0;31mModuleNotFoundError\u001b[0m: No module named 'datasets'"
     ]
    }
   ],
   "source": [
    "from datasets import load_dataset\n",
    "import matplotlib.pyplot as plt\n",
    "from sklearn.preprocessing import normalize\n",
    "import numpy as np"
   ]
  },
  {
   "attachments": {},
   "cell_type": "markdown",
   "id": "ff89d88b-be35-4f98-9de8-aabed9cc5432",
   "metadata": {
    "tags": []
   },
   "source": [
    "## Overview\n",
    "\n",
    "Consider, we can have images at varying levels of bluriness."
   ]
  },
  {
   "cell_type": "code",
   "execution_count": null,
   "id": "3bcf9814-6b78-4974-942b-d68e295ab9b3",
   "metadata": {
    "tags": []
   },
   "outputs": [
    {
     "name": "stderr",
     "output_type": "stream",
     "text": [
      "Found cached dataset mnist (/Users/jeremiahfisher/.cache/huggingface/datasets/mnist/mnist/1.0.0/9d494b7f466d6931c64fb39d58bb1249a4d85c9eb9865d9bc20960b999e2a332)\n",
      "100%|████████████████████████████████████████████| 2/2 [00:00<00:00, 521.91it/s]\n"
     ]
    }
   ],
   "source": [
    "from datasets import load_dataset\n",
    "import matplotlib.pyplot as plt\n",
    "from sklearn.preprocessing import normalize\n",
    "import numpy as np\n",
    "\n",
    "mnist = load_dataset(\"mnist\")\n",
    "img = np.array(mnist[\"train\"][0][\"image\"])\n",
    "img = normalize(img)\n",
    "img_blurry = img + np.random.normal(size=img.size).reshape(28, 28) * \n",
    "img_very_blurry = img + np.random.normal(size=img.size).reshape(28, 28) * 0.8"
   ]
  },
  {
   "cell_type": "code",
   "execution_count": null,
   "id": "e85799ca-fc40-4327-a47e-fb05e8510787",
   "metadata": {
    "tags": []
   },
   "outputs": [
    {
     "data": {
      "image/png": "[encoded data removed]",
      "text/plain": [
       "<Figure size 600x200 with 3 Axes>"
      ]
     },
     "metadata": {},
     "output_type": "display_data"
    }
   ],
   "source": [
    "#|export\n",
    "def show_images(imgs, titles=None, aspect_ratio=2):\n",
    "    fig, axes = plt.subplots(1, len(imgs), figsize=(aspect_ratio*len(imgs), aspect_ratio))\n",
    "    for i, (ax, img) in enumerate(zip(axes, imgs)):\n",
    "        if titles:\n",
    "            ax.set(title=titles[i])\n",
    "        ax.imshow(img)\n",
    "        \n",
    "imgs = [img, img_blurry, img_very_blurry]\n",
    "show_images(imgs)"
   ]
  },
  {
   "attachments": {},
   "cell_type": "markdown",
   "id": "f2d5692b-45c2-44cc-b93f-b1b42e513099",
   "metadata": {},
   "source": [
    "We can imagine a probability distribution over the image, which is a function, $P$, of $28^2$ variables (one for each pixel).\n",
    "\n",
    "Recall that mutlivariate calculus is concerned with partial derivatives. For example, the partial derivatives of $f(x,y)=x^2 + y^2$ are:\n",
    "\n",
    "$$\n",
    "\\begin{align}\n",
    "\\frac{\\partial f(x,y)}{\\partial x} &= 2x \\\\\n",
    "\\frac{\\partial f(x,y)}{\\partial y} &= 2y \\\\\n",
    "\\end{align}\n",
    "$$\n",
    "\n",
    "In the case of an image, imagine the partial derivative of the function $P$ with respect to a *single pixel*:\n",
    "\n",
    "$$\n",
    "\\frac{\\partial P(X)}{\\partial X_{i,j}}\n",
    "$$\n",
    "\n",
    "This gives us a way of altering the image from less likely and blurrier images to more likely and crisper images. An algorithm could look something like this:\n",
    "\n",
    "- For all pixel values $X_{i,j} \\in X$, evaluate the partial derivative $\\frac{P(X)-P(X + X_{i,j})}{\\partial X_{i,j}}$ or $\\frac{\\partial P(X)}{\\partial X_{i,j}}$. This can also be expressed as $\\nabla_X P$\n",
    "- For some hyperparameter constant $C$ and for all pixel values $X_{i,j} \\in X$, $X_{i,j} := X_{i,j} + C \\frac{\\partial P(X)}{\\partial X_{i,j}}$ or, equivalently, $X := X + C \\cdot \\nabla_X P$\n",
    "- Repeat until satisfied\n",
    "\n",
    "In PyTorch, this would look something like:\n",
    "\n",
    "```python\n",
    "X = get_image()\n",
    "# Somewhat unusually, you would incorporate the image as a model\n",
    "# parameter in order to get auto-differentiation\n",
    "model = get_nabla_X_of_P_model(X=X)\n",
    "for _ in range(n_timesteps):\n",
    "\tp_grad = model.forward(X)\n",
    "\tp_grad.backward()\n",
    "\tmodel.X += C * model.X.grad\n",
    "```\n",
    "\n",
    "\n",
    "In fact, we don't have $P(X)$ or $\\nabla_X P(X)$ in real life. But we can solve a related problem.\n",
    "\n",
    "Notice that $\\nabla_X P(X)$ provides a direction from blurrier to sharper images. We can train a neural network to de-blur by adding the blur ourselves. The input-output pair would be $\\langle image + \\epsilon, \\epsilon \\rangle$ where $\\epsilon \\sim \\mathcal{N}(0, \\Sigma)$ and $\\Sigma \\in \\mathbb{R}^{28^2 \\times 28^2}$"
   ]
  },
  {
   "attachments": {},
   "cell_type": "markdown",
   "id": "47c8b94f",
   "metadata": {},
   "source": [
    "## Noise Scheduling\n",
    "\n",
    "Because Stable Diffusion originated in research in differential equations, we generally have $t$ as an input parameter. Different amounts of noise are added at different time steps.\n",
    "\n",
    "// Add figure here"
   ]
  },
  {
   "cell_type": "code",
   "execution_count": null,
   "id": "3c729a38",
   "metadata": {},
   "outputs": [],
   "source": []
  },
  {
   "attachments": {},
   "cell_type": "markdown",
   "id": "db8d676a",
   "metadata": {},
   "source": [
    "Since the amount of noise is a function of time, giving the model access to $t$ can help its performance. Therefore, the input-output pair becomes  $\\langle \\left( image + \\epsilon, t \\right), \\epsilon \\rangle$.\n",
    "\n",
    "This is similiar in many respects to gradient descent. We can think of $C$ as the learning rate; the principle difference is that the model would not have access to $t$.\n",
    "\n",
    "## Prompt Conditioning\n",
    "\n",
    "One thing we could add to make the problem easier is to indicate the image class (1, 2, 3, etc). For a simple class distribution, we could just one hot-encode it.  The input-output pair would then be $\\langle \\left( image + \\epsilon, t, class \\right), \\epsilon \\rangle$.\n",
    "\n",
    "But we cannot one-hot encode the distribution of images on the internet à la Stable Diffusion. Therefore, we need a more sophisticated encoder: CLIP (**C**onstrastively **L**earned **I**mage **P**airs). This works on the idea that the dot-product between image encoding and text encoding of the *same thing* should be small, while the image encoding and text encoding for *different things* should be larger.\n",
    "\n",
    "We learn this with a neural network contrastively. For a given batch, $B$,  of (image, language) pairs from html `alt` tags:\n",
    "\n",
    "- Compute the encoding $f_{image}(I_i)$ and $f_{language}(L_i)$ for all $i \\in |B|$\n",
    "\n",
    "- Compute the sum $\\text{paired loss} := \\Sigma_i^{|B|} f_{image}(I_i) \\cdot f_{language}(L_i)$\n",
    "\n",
    "- Compute the sum\n",
    "\n",
    "$$\n",
    "\\text{unpaired loss} := \\Sigma_i^{|B|} \\Sigma_j^{|B|}  \\begin{cases}\n",
    "    f_{image}(I_i) \\cdot f_{language}(L_j) & i \\neq j\\\\\n",
    "    0 & i = j\n",
    "  \\end{cases}\n",
    "$$\n",
    "\n",
    "- Final loss = `paired loss` - `unpaired loss`. Note that we *want* paired loss to be small and unpaired loss to be big.\n",
    "\n",
    "## VAE Pre-/post-processing\n",
    "\n",
    "Another thing we can do is, instead of training directly on pixel values, use the latents of a Variational Autoencoder (VAE). This can give a dramatic reduction in the number of parameters to train.\n",
    "\n",
    "// Add figure"
   ]
  },
  {
   "cell_type": "code",
   "execution_count": null,
   "id": "2cf6a7a3-1a81-4368-a7dd-901b02043e79",
   "metadata": {
    "tags": []
   },
   "outputs": [],
   "source": []
  },
  {
   "attachments": {},
   "cell_type": "markdown",
   "id": "277e96ad",
   "metadata": {},
   "source": [
    "\n",
    "\n",
    "\n",
    "- Stable Diffusion\n",
    "  - Guidance scale modulates the degree of fidelity to the prompt\n",
    "  - Img2Img allows the squishing of one image style into another\n",
    "  - Fine-tuning:\n",
    "      - Same vocab, [fine-tuned weights](https://lambdalabs.com/blog/how-to-fine-tune-stable-diffusion-how-we-made-the-text-to-pokemon-model-at-lambda)\n",
    "      - New vocab, frozen weights: [Textual inversion](https://huggingface.co/docs/diffusers/training/text_inversion)\n",
    "      - New vocab, fine-tuned weights: [Dreambooth](https://dreambooth.github.io)\n",
    "  \n",
    "## Advice\n",
    "\n",
    "- GPUs might be worth investing in\n",
    "\n",
    "## To-do\n",
    "\n",
    "- [ ] unchecked\n",
    "\n",
    "## Reading & Exploration\n",
    "\n",
    "- https://colab.research.google.com/github/fastai/diffusion-nbs/blob/master/stable_diffusion.ipynb#scrollTo=lWwG1r9j5NnE\n",
    "- https://lambdalabs.com/blog/how-to-fine-tune-stable-diffusion-how-we-made-the-text-to-pokemon-model-at-lambda\n",
    "\n",
    "## Questions\n",
    "\n",
    "- Proper notation for \n"
   ]
  },
  {
   "attachments": {},
   "cell_type": "markdown",
   "id": "887bf72d-8b34-456b-8124-1f0ff5dee7fd",
   "metadata": {},
   "source": []
  }
 ],
 "metadata": {
  "kernelspec": {
   "display_name": "nbdev",
   "language": "python",
   "name": "nbdev"
  },
  "language_info": {
   "codemirror_mode": {
    "name": "ipython",
    "version": 3
   },
   "file_extension": ".py",
   "mimetype": "text/x-python",
   "name": "python",
   "nbconvert_exporter": "python",
   "pygments_lexer": "ipython3",
   "version": "3.9.16"
  }
 },
 "nbformat": 4,
 "nbformat_minor": 5
}

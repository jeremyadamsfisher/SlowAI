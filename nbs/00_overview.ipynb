{
 "cells": [
  {
   "attachments": {},
   "cell_type": "markdown",
   "id": "36cb5348-4049-4d81-9309-2695dfda4dad",
   "metadata": {
    "tags": []
   },
   "source": [
    "# Course overview\n",
    "\n",
    "> Getting started"
   ]
  },
  {
   "attachments": {},
   "cell_type": "markdown",
   "id": "277e96ad",
   "metadata": {},
   "source": [
    "## Key Points\n",
    "\n",
    "- The trick to using Stable Diffusion is to add artist names and consult [lexica.art](http://lexica.art)\n",
    "- Stable Diffusion\n",
    "  - Guidance scale modulates the degree of fidelity to the prompt\n",
    "  - Img2Img allows the squishing of one image style into another\n",
    "  - Fine-tuning:\n",
    "      - Same vocab, [fine-tuned weights](https://lambdalabs.com/blog/how-to-fine-tune-stable-diffusion-how-we-made-the-text-to-pokemon-model-at-lambda)\n",
    "      - New vocab, frozen weights: [Textual inversion](https://huggingface.co/docs/diffusers/training/text_inversion)\n",
    "      - New vocab, fine-tuned weights: [Dreambooth](https://dreambooth.github.io)\n",
    "  \n",
    "## Advice\n",
    "\n",
    "- GPUs might be worth investing in\n",
    "\n",
    "## To-do\n",
    "\n",
    "- [ ] unchecked\n",
    "\n",
    "## Reading & Exploration\n",
    "\n",
    "- https://colab.research.google.com/github/fastai/diffusion-nbs/blob/master/stable_diffusion.ipynb#scrollTo=lWwG1r9j5NnE\n",
    "- https://lambdalabs.com/blog/how-to-fine-tune-stable-diffusion-how-we-made-the-text-to-pokemon-model-at-lambda\n",
    "\n",
    "## Questions\n",
    "\n",
    "- Proper notation for \n"
   ]
  },
  {
   "attachments": {},
   "cell_type": "markdown",
   "id": "887bf72d-8b34-456b-8124-1f0ff5dee7fd",
   "metadata": {},
   "source": []
  }
 ],
 "metadata": {
  "kernelspec": {
   "display_name": "crunch-11",
   "language": "python",
   "name": "crunch-11"
  },
  "language_info": {
   "codemirror_mode": {
    "name": "ipython",
    "version": 3
   },
   "file_extension": ".py",
   "mimetype": "text/x-python",
   "name": "python",
   "nbconvert_exporter": "python",
   "pygments_lexer": "ipython3",
   "version": "3.11.4"
  }
 },
 "nbformat": 4,
 "nbformat_minor": 5
}

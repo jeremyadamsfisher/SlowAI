{
 "cells": [
  {
   "cell_type": "markdown",
   "id": "f7ce5939-77ef-4fc8-9dfd-6d68ca008190",
   "metadata": {},
   "source": [
    "# Augmentation\n",
    "\n",
    "> Improving training dynamics even further"
   ]
  },
  {
   "cell_type": "markdown",
   "id": "9cd598f8",
   "metadata": {},
   "source": [
    "Adapted from:\n",
    "\n",
    "- [https://youtu.be/nlVOG2Nzc3k?si=8a4dKXqkibFS8aHh&t=5063](https://youtu.be/nlVOG2Nzc3k?si=8a4dKXqkibFS8aHh&t=5063)"
   ]
  },
  {
   "cell_type": "code",
   "execution_count": 1,
   "id": "9c5a2e34-85d8-468b-a602-277fea08fb15",
   "metadata": {},
   "outputs": [],
   "source": [
    "#| default_exp augmentation"
   ]
  },
  {
   "cell_type": "code",
   "execution_count": 2,
   "id": "839ca386-fa54-44ec-a86c-defcae141a94",
   "metadata": {},
   "outputs": [
    {
     "name": "stderr",
     "output_type": "stream",
     "text": [
      "/Users/jeremiahfisher/miniforge3/envs/slowai/lib/python3.10/site-packages/tqdm/auto.py:21: TqdmWarning: IProgress not found. Please update jupyter and ipywidgets. See https://ipywidgets.readthedocs.io/en/stable/user_install.html\n",
      "  from .autonotebook import tqdm as notebook_tqdm\n"
     ]
    }
   ],
   "source": [
    "# |export\n",
    "import random\n",
    "import re\n",
    "from contextlib import contextmanager\n",
    "from functools import partial\n",
    "from typing import Sequence\n",
    "\n",
    "import fastcore.all as fc\n",
    "import matplotlib.pyplot as plt\n",
    "import numpy as np\n",
    "import timm\n",
    "import torch\n",
    "import torch.nn.functional as F\n",
    "from einops import rearrange\n",
    "from IPython.display import Latex, Markdown, display\n",
    "from torch import nn\n",
    "from torch.nn import init\n",
    "from torch.optim import lr_scheduler\n",
    "from torch.optim.lr_scheduler import OneCycleLR\n",
    "from torchmetrics.classification import MulticlassAccuracy\n",
    "from torchvision import transforms\n",
    "\n",
    "from slowai.activations import (\n",
    "    Conv2dWithReLU,\n",
    "    Hook,\n",
    "    HooksCallback,\n",
    "    StoreModuleStatsCB,\n",
    "    set_seed,\n",
    ")\n",
    "from slowai.initializations import (\n",
    "    BatchTransformCB,\n",
    "    CNNWithGeneralReLUAndBatchNorm,\n",
    "    GeneralReLU,\n",
    "    LSUVHook,\n",
    "    LSUVInitialization,\n",
    "    init_leaky_weights,\n",
    "    set_seed,\n",
    ")\n",
    "from slowai.learner import (\n",
    "    Callback,\n",
    "    CancelFitException,\n",
    "    DataLoaders,\n",
    "    DeviceCB,\n",
    "    Learner,\n",
    "    MetricsCB,\n",
    "    MomentumCB,\n",
    "    ProgressCB,\n",
    "    TrainCB,\n",
    "    TrainLearner,\n",
    "    batchify,\n",
    "    before,\n",
    "    def_device,\n",
    "    fashion_mnist,\n",
    ")\n",
    "from slowai.resnets import CNN, Conv, ResidualConvBlock\n",
    "from slowai.sgd import BatchSchedulerCB, RecorderCB\n",
    "from slowai.utils import show_image, show_images"
   ]
  },
  {
   "cell_type": "code",
   "execution_count": 3,
   "id": "3c4c1c4b-b4bb-4b67-adff-d16a8b2d695c",
   "metadata": {},
   "outputs": [],
   "source": [
    "set_seed(42)\n",
    "plt.style.use(\"ggplot\")"
   ]
  },
  {
   "cell_type": "markdown",
   "id": "395badc8-edd5-47fe-8295-35730470bfa0",
   "metadata": {},
   "source": [
    "Let's redefine the training loop for clarity."
   ]
  },
  {
   "cell_type": "code",
   "execution_count": 4,
   "id": "589d7ba8-e015-4d38-a18c-d73024eedae1",
   "metadata": {},
   "outputs": [],
   "source": [
    "# |export\n",
    "def train(model, lr=1e-2, n_epochs=2, dls=fashion_mnist(512), extra_cbs=tuple()):\n",
    "    T_max = len(dls[\"train\"]) * n_epochs\n",
    "    scheduler = BatchSchedulerCB(lr_scheduler.OneCycleLR, max_lr=lr, total_steps=T_max)\n",
    "    cbs = [\n",
    "        MetricsCB(MulticlassAccuracy(num_classes=10)),\n",
    "        DeviceCB(),\n",
    "        ProgressCB(plot=True),\n",
    "        scheduler,\n",
    "        *extra_cbs,\n",
    "    ]\n",
    "    learner = TrainLearner(\n",
    "        model,\n",
    "        dls,\n",
    "        F.cross_entropy,\n",
    "        lr=lr,\n",
    "        cbs=cbs,\n",
    "        opt_func=torch.optim.AdamW,\n",
    "    )\n",
    "    learner.fit(n_epochs)"
   ]
  },
  {
   "cell_type": "markdown",
   "id": "448dd763-2023-46cc-a98b-bff58b8c37cf",
   "metadata": {},
   "source": [
    "## Going wider\n",
    "\n",
    "Can we get a better result by increasing the width of our network?\n",
    "\n",
    "We didn't spend much time designing the Residual CNN from the previous notebook. We simply replaced the Conv blocks with Residual Conv blocks, doubling the number of parameters.\n",
    "\n",
    "In principle, ResNet's are more stable than their CNN counterparts, so we should be able to make the network wider as well as deeper."
   ]
  },
  {
   "cell_type": "code",
   "execution_count": 5,
   "id": "12bcfbd4-9244-4f9d-946e-1367bae9a090",
   "metadata": {},
   "outputs": [],
   "source": [
    "class ResNet(nn.Module):\n",
    "    \"\"\"Arbitrarily wide and deep residual neural network\"\"\"\n",
    "\n",
    "    def __init__(self, nfs: Sequence[int] = [16, 32, 64, 128, 256, 512], n_outputs=10):\n",
    "        super().__init__()\n",
    "        self.nfs = nfs\n",
    "        self.n_outputs = n_outputs\n",
    "        self.layers = nn.Sequential(*self.get_layers(nfs, n_outputs))\n",
    "\n",
    "    def get_layers(self, nfs, n_outputs=10):\n",
    "        layers = [ResidualConvBlock(1, nfs[0], stride=1, ks=5)]\n",
    "        for c_in, c_out in zip(nfs, nfs[1:]):\n",
    "            layers.append(ResidualConvBlock(c_in, c_out))\n",
    "        layers.append(ResidualConvBlock(nfs[-1], n_outputs, act=False))\n",
    "        return layers\n",
    "\n",
    "    def forward(self, x):\n",
    "        x = self.layers(x)\n",
    "        bs, c, w, h = x.shape\n",
    "        assert c == self.n_outputs\n",
    "        assert w == h == 1\n",
    "        return rearrange(x, \"bs c w h -> bs (c w h)\")\n",
    "\n",
    "    @classmethod\n",
    "    def kaiming(cls, *args, **kwargs):\n",
    "        model = cls(*args, **kwargs)\n",
    "        model.apply(init_leaky_weights)\n",
    "        return model"
   ]
  },
  {
   "cell_type": "code",
   "execution_count": 6,
   "id": "579659b3-cd3d-4625-838d-deb249a284cd",
   "metadata": {},
   "outputs": [
    {
     "data": {
      "text/html": [
       "\n",
       "<style>\n",
       "    /* Turns off some styling */\n",
       "    progress {\n",
       "        /* gets rid of default border in Firefox and Opera. */\n",
       "        border: none;\n",
       "        /* Needs to be in here for Safari polyfill so background images work as expected. */\n",
       "        background-size: auto;\n",
       "    }\n",
       "    progress:not([value]), progress:not([value])::-webkit-progress-bar {\n",
       "        background: repeating-linear-gradient(45deg, #7e7e7e, #7e7e7e 10px, #5c5c5c 10px, #5c5c5c 20px);\n",
       "    }\n",
       "    .progress-bar-interrupted, .progress-bar-interrupted::-webkit-progress-bar {\n",
       "        background: #F44336;\n",
       "    }\n",
       "</style>\n"
      ],
      "text/plain": [
       "<IPython.core.display.HTML object>"
      ]
     },
     "metadata": {},
     "output_type": "display_data"
    },
    {
     "data": {
      "text/html": [
       "<table border=\"1\" class=\"dataframe\">\n",
       "  <thead>\n",
       "    <tr style=\"text-align: left;\">\n",
       "      <th>MulticlassAccuracy</th>\n",
       "      <th>loss</th>\n",
       "      <th>epoch</th>\n",
       "      <th>train</th>\n",
       "    </tr>\n",
       "  </thead>\n",
       "  <tbody>\n",
       "    <tr>\n",
       "      <td>0.832</td>\n",
       "      <td>0.471</td>\n",
       "      <td>0</td>\n",
       "      <td>train</td>\n",
       "    </tr>\n",
       "    <tr>\n",
       "      <td>0.855</td>\n",
       "      <td>0.410</td>\n",
       "      <td>0</td>\n",
       "      <td>eval</td>\n",
       "    </tr>\n",
       "    <tr>\n",
       "      <td>0.911</td>\n",
       "      <td>0.240</td>\n",
       "      <td>1</td>\n",
       "      <td>train</td>\n",
       "    </tr>\n",
       "    <tr>\n",
       "      <td>0.916</td>\n",
       "      <td>0.232</td>\n",
       "      <td>1</td>\n",
       "      <td>eval</td>\n",
       "    </tr>\n",
       "  </tbody>\n",
       "</table>"
      ],
      "text/plain": [
       "<IPython.core.display.HTML object>"
      ]
     },
     "metadata": {},
     "output_type": "display_data"
    },
    {
     "data": {
      "image/png": "[encoded data removed]",
      "text/plain": [
       "<Figure size 600x400 with 1 Axes>"
      ]
     },
     "metadata": {},
     "output_type": "display_data"
    }
   ],
   "source": [
    "m = ResNet.kaiming()\n",
    "train(m)"
   ]
  },
  {
   "cell_type": "markdown",
   "id": "cae011ed-be06-4cef-b146-4ea29f384b92",
   "metadata": {},
   "source": [
    "Let's create quick utility to view the shape of the model to check for areas of improvement"
   ]
  },
  {
   "cell_type": "code",
   "execution_count": 7,
   "id": "b36b722b-7884-49c5-b29e-a0dc5ab4f7ce",
   "metadata": {
    "jupyter": {
     "source_hidden": true
    }
   },
   "outputs": [],
   "source": [
    "# |export\n",
    "def flops(x, w, h):\n",
    "    \"\"\"Estimate flops\"\"\"\n",
    "    if x.dim() < 3:\n",
    "        return x.numel()\n",
    "    else:\n",
    "        return x.numel() * w * h\n",
    "\n",
    "\n",
    "@contextmanager\n",
    "def hooks(mods, f):\n",
    "    hooks_ = []\n",
    "    for m in mods:\n",
    "        h = m.register_forward_hook(f)\n",
    "        hooks_.append(h)\n",
    "    yield\n",
    "    for h in hooks_:\n",
    "        h.remove()\n",
    "\n",
    "\n",
    "def summarize(m, mods, dls=fashion_mnist(8)):\n",
    "    xb, _ = dls.peek()\n",
    "    tp = 0\n",
    "    tf = 0\n",
    "    rows = [\"|Type|Input|Output|N. params|MFlops|\", \"|--|--|--|--|--|\"]\n",
    "\n",
    "    if isinstance(mods, str):\n",
    "        mods_ = []\n",
    "        for name, mod in m.named_modules():\n",
    "            if re.match(mods, type(mod).__name__):\n",
    "                mods_.append(mod)\n",
    "        mods = mods_\n",
    "\n",
    "    def summarize_module(m, i, o):\n",
    "        nonlocal tp, tf, rows\n",
    "        (i,) = i\n",
    "        *_, h, w = o.shape\n",
    "        np = sum(p.numel() for p in m.parameters())\n",
    "        tp += np\n",
    "        nflops = sum(flops(o, h, w) for o in m.parameters()) / 1e6\n",
    "        tf += nflops\n",
    "        l = f\"| {type(m).__name__} | {tuple(i.shape)} | {tuple(o.shape)} | {np:,} | {nflops:.1f}\"\n",
    "        rows.append(l)\n",
    "\n",
    "    with hooks(mods, summarize_module):\n",
    "        m(xb)\n",
    "\n",
    "    rows.append(f\"| Total | | | {tp:,} | |\")\n",
    "    display(Markdown(\"\\n\".join(rows)))"
   ]
  },
  {
   "cell_type": "code",
   "execution_count": 8,
   "id": "6e2f0469-55e0-42a7-96b5-60f328019195",
   "metadata": {},
   "outputs": [
    {
     "data": {
      "text/markdown": [
       "|Type|Input|Output|N. params|MFlops|\n",
       "|--|--|--|--|--|\n",
       "| ResidualConvBlock | (8, 1, 28, 28) | (8, 16, 28, 28) | 6,896 | 5.3\n",
       "| ResidualConvBlock | (8, 16, 28, 28) | (8, 32, 14, 14) | 14,496 | 2.8\n",
       "| ResidualConvBlock | (8, 32, 14, 14) | (8, 64, 7, 7) | 57,664 | 2.8\n",
       "| ResidualConvBlock | (8, 64, 7, 7) | (8, 128, 4, 4) | 230,016 | 3.7\n",
       "| ResidualConvBlock | (8, 128, 4, 4) | (8, 256, 2, 2) | 918,784 | 3.7\n",
       "| ResidualConvBlock | (8, 256, 2, 2) | (8, 512, 1, 1) | 3,672,576 | 3.7\n",
       "| ResidualConvBlock | (8, 512, 1, 1) | (8, 10, 1, 1) | 52,150 | 0.1\n",
       "| Total | | | 4,952,582 | |"
      ],
      "text/plain": [
       "<IPython.core.display.Markdown object>"
      ]
     },
     "metadata": {},
     "output_type": "display_data"
    }
   ],
   "source": [
    "summarize(ResNet(), \"ResidualConvBlock\")"
   ]
  },
  {
   "cell_type": "markdown",
   "id": "7832506a-c40a-46cc-bee0-ff5676649412",
   "metadata": {},
   "source": [
    "One of the important constaints of our model here is that that strides must be configured to downsample the image precisely to `bs x c x 1 x 1`. We can make this more flexible by taking the final feature map (regardless of its height and width) and taking the average."
   ]
  },
  {
   "cell_type": "code",
   "execution_count": 9,
   "id": "2415ef94-971d-48f3-a6aa-5c62edb45c57",
   "metadata": {},
   "outputs": [],
   "source": [
    "class ResNetWithGlobalPooling(nn.Module):\n",
    "    \"\"\"Arbitrarily wide and deep residual neural network\"\"\"\n",
    "\n",
    "    def __init__(self, nfs: Sequence[int] = [16, 32, 64, 128, 256, 512], n_outputs=10):\n",
    "        super().__init__()\n",
    "        self.nfs = nfs\n",
    "        self.n_outputs = n_outputs\n",
    "        self.layers = nn.Sequential(*self.get_layers(nfs, n_outputs))\n",
    "        self.lin = nn.Linear(nfs[-1], n_outputs)\n",
    "        self.norm = nn.BatchNorm1d(n_outputs)\n",
    "\n",
    "    def get_layers(self, nfs, n_outputs=10):\n",
    "        layers = [ResidualConvBlock(1, nfs[0], ks=5, stride=1)]\n",
    "        for c_in, c_out in zip(nfs, nfs[1:]):\n",
    "            block = ResidualConvBlock(c_in, c_out)\n",
    "            layers.append(block)\n",
    "        return layers\n",
    "\n",
    "    def forward(self, x):\n",
    "        x = self.layers(x)\n",
    "        bs, c, w, h = x.shape\n",
    "        x = x.mean((2, 3))  # Global Average Pooling\n",
    "        x = self.lin(x)\n",
    "        x = self.norm(x)\n",
    "        return x\n",
    "\n",
    "    @classmethod\n",
    "    def kaiming(cls, *args, **kwargs):\n",
    "        model = cls(*args, **kwargs)\n",
    "        model.apply(init_leaky_weights)\n",
    "        return model"
   ]
  },
  {
   "cell_type": "code",
   "execution_count": 10,
   "id": "252a60d2-2979-4212-adbd-c4146890d5de",
   "metadata": {},
   "outputs": [
    {
     "data": {
      "text/markdown": [
       "|Type|Input|Output|N. params|MFlops|\n",
       "|--|--|--|--|--|\n",
       "| ResidualConvBlock | (8, 1, 28, 28) | (8, 16, 28, 28) | 6,896 | 5.3\n",
       "| ResidualConvBlock | (8, 16, 28, 28) | (8, 32, 14, 14) | 14,496 | 2.8\n",
       "| ResidualConvBlock | (8, 32, 14, 14) | (8, 64, 7, 7) | 57,664 | 2.8\n",
       "| ResidualConvBlock | (8, 64, 7, 7) | (8, 128, 4, 4) | 230,016 | 3.7\n",
       "| ResidualConvBlock | (8, 128, 4, 4) | (8, 256, 2, 2) | 918,784 | 3.7\n",
       "| Linear | (8, 256) | (8, 10) | 2,570 | 0.0\n",
       "| Total | | | 1,230,426 | |"
      ],
      "text/plain": [
       "<IPython.core.display.Markdown object>"
      ]
     },
     "metadata": {},
     "output_type": "display_data"
    }
   ],
   "source": [
    "nfs = [\n",
    "    16,\n",
    "    32,\n",
    "    64,\n",
    "    128,\n",
    "    256,  # 👈 notice that this leaves the feature map at 2x2...\n",
    "]\n",
    "m = ResNetWithGlobalPooling.kaiming(nfs)\n",
    "summarize(m, \"ResidualConvBlock|Linear\")"
   ]
  },
  {
   "cell_type": "code",
   "execution_count": 11,
   "id": "1363e269-c7f0-470b-9285-2b88fc7d6a4f",
   "metadata": {},
   "outputs": [
    {
     "data": {
      "text/html": [
       "\n",
       "<style>\n",
       "    /* Turns off some styling */\n",
       "    progress {\n",
       "        /* gets rid of default border in Firefox and Opera. */\n",
       "        border: none;\n",
       "        /* Needs to be in here for Safari polyfill so background images work as expected. */\n",
       "        background-size: auto;\n",
       "    }\n",
       "    progress:not([value]), progress:not([value])::-webkit-progress-bar {\n",
       "        background: repeating-linear-gradient(45deg, #7e7e7e, #7e7e7e 10px, #5c5c5c 10px, #5c5c5c 20px);\n",
       "    }\n",
       "    .progress-bar-interrupted, .progress-bar-interrupted::-webkit-progress-bar {\n",
       "        background: #F44336;\n",
       "    }\n",
       "</style>\n"
      ],
      "text/plain": [
       "<IPython.core.display.HTML object>"
      ]
     },
     "metadata": {},
     "output_type": "display_data"
    },
    {
     "data": {
      "text/html": [
       "<table border=\"1\" class=\"dataframe\">\n",
       "  <thead>\n",
       "    <tr style=\"text-align: left;\">\n",
       "      <th>MulticlassAccuracy</th>\n",
       "      <th>loss</th>\n",
       "      <th>epoch</th>\n",
       "      <th>train</th>\n",
       "    </tr>\n",
       "  </thead>\n",
       "  <tbody>\n",
       "    <tr>\n",
       "      <td>0.848</td>\n",
       "      <td>0.579</td>\n",
       "      <td>0</td>\n",
       "      <td>train</td>\n",
       "    </tr>\n",
       "    <tr>\n",
       "      <td>0.860</td>\n",
       "      <td>0.421</td>\n",
       "      <td>0</td>\n",
       "      <td>eval</td>\n",
       "    </tr>\n",
       "    <tr>\n",
       "      <td>0.915</td>\n",
       "      <td>0.284</td>\n",
       "      <td>1</td>\n",
       "      <td>train</td>\n",
       "    </tr>\n",
       "    <tr>\n",
       "      <td>0.916</td>\n",
       "      <td>0.268</td>\n",
       "      <td>1</td>\n",
       "      <td>eval</td>\n",
       "    </tr>\n",
       "  </tbody>\n",
       "</table>"
      ],
      "text/plain": [
       "<IPython.core.display.HTML object>"
      ]
     },
     "metadata": {},
     "output_type": "display_data"
    },
    {
     "data": {
      "image/png": "[encoded data removed]",
      "text/plain": [
       "<Figure size 600x400 with 1 Axes>"
      ]
     },
     "metadata": {},
     "output_type": "display_data"
    }
   ],
   "source": [
    "# ...but it still works!\n",
    "train(m)"
   ]
  },
  {
   "cell_type": "markdown",
   "id": "b8a50d8e-d35a-447e-9f6f-f82f8520aa92",
   "metadata": {},
   "source": [
    "Can we reduce the number of parameters to save on memory? Indeed. One thing to focus on is the first ResidualConvBlock which has the most MegaFlops, because it applies the 16 kernels to each pixel. We can try replacing it with a Conv."
   ]
  },
  {
   "cell_type": "code",
   "execution_count": 12,
   "id": "91f216e4-a20a-438b-a759-92a434f0be06",
   "metadata": {},
   "outputs": [],
   "source": [
    "class ResNetWithGlobalPoolingInitialConv(ResNetWithGlobalPooling):\n",
    "    \"\"\"Arbitrarily wide and deep residual neural network\"\"\"\n",
    "\n",
    "    def get_layers(self, nfs, n_outputs=10):\n",
    "        layers = [Conv(1, nfs[0], ks=5, stride=1)]\n",
    "        for c_in, c_out in zip(nfs, nfs[1:]):\n",
    "            block = ResidualConvBlock(c_in, c_out)\n",
    "            layers.append(block)\n",
    "        return layers"
   ]
  },
  {
   "cell_type": "code",
   "execution_count": 13,
   "id": "d6927619-2cb9-490d-b9f6-c916bea3797e",
   "metadata": {},
   "outputs": [
    {
     "data": {
      "text/markdown": [
       "|Type|Input|Output|N. params|MFlops|\n",
       "|--|--|--|--|--|\n",
       "| Conv | (8, 1, 28, 28) | (8, 16, 28, 28) | 432 | 0.3\n",
       "| ResidualConvBlock | (8, 16, 28, 28) | (8, 32, 14, 14) | 14,496 | 2.8\n",
       "| ResidualConvBlock | (8, 32, 14, 14) | (8, 64, 7, 7) | 57,664 | 2.8\n",
       "| ResidualConvBlock | (8, 64, 7, 7) | (8, 128, 4, 4) | 230,016 | 3.7\n",
       "| ResidualConvBlock | (8, 128, 4, 4) | (8, 256, 2, 2) | 918,784 | 3.7\n",
       "| ResidualConvBlock | (8, 256, 2, 2) | (8, 512, 1, 1) | 3,672,576 | 3.7\n",
       "| Linear | (8, 512) | (8, 10) | 5,130 | 0.0\n",
       "| BatchNorm1d | (8, 10) | (8, 10) | 20 | 0.0\n",
       "| Total | | | 4,899,118 | |"
      ],
      "text/plain": [
       "<IPython.core.display.Markdown object>"
      ]
     },
     "metadata": {},
     "output_type": "display_data"
    }
   ],
   "source": [
    "m = ResNetWithGlobalPoolingInitialConv.kaiming()\n",
    "summarize(m, [*m.layers, m.lin, m.norm])"
   ]
  },
  {
   "cell_type": "code",
   "execution_count": 14,
   "id": "887681a5-6148-4b6d-9b2e-629b19ffb2e5",
   "metadata": {},
   "outputs": [
    {
     "data": {
      "text/html": [
       "\n",
       "<style>\n",
       "    /* Turns off some styling */\n",
       "    progress {\n",
       "        /* gets rid of default border in Firefox and Opera. */\n",
       "        border: none;\n",
       "        /* Needs to be in here for Safari polyfill so background images work as expected. */\n",
       "        background-size: auto;\n",
       "    }\n",
       "    progress:not([value]), progress:not([value])::-webkit-progress-bar {\n",
       "        background: repeating-linear-gradient(45deg, #7e7e7e, #7e7e7e 10px, #5c5c5c 10px, #5c5c5c 20px);\n",
       "    }\n",
       "    .progress-bar-interrupted, .progress-bar-interrupted::-webkit-progress-bar {\n",
       "        background: #F44336;\n",
       "    }\n",
       "</style>\n"
      ],
      "text/plain": [
       "<IPython.core.display.HTML object>"
      ]
     },
     "metadata": {},
     "output_type": "display_data"
    },
    {
     "data": {
      "text/html": [
       "<table border=\"1\" class=\"dataframe\">\n",
       "  <thead>\n",
       "    <tr style=\"text-align: left;\">\n",
       "      <th>MulticlassAccuracy</th>\n",
       "      <th>loss</th>\n",
       "      <th>epoch</th>\n",
       "      <th>train</th>\n",
       "    </tr>\n",
       "  </thead>\n",
       "  <tbody>\n",
       "    <tr>\n",
       "      <td>0.850</td>\n",
       "      <td>0.564</td>\n",
       "      <td>0</td>\n",
       "      <td>train</td>\n",
       "    </tr>\n",
       "    <tr>\n",
       "      <td>0.851</td>\n",
       "      <td>0.457</td>\n",
       "      <td>0</td>\n",
       "      <td>eval</td>\n",
       "    </tr>\n",
       "    <tr>\n",
       "      <td>0.914</td>\n",
       "      <td>0.280</td>\n",
       "      <td>1</td>\n",
       "      <td>train</td>\n",
       "    </tr>\n",
       "    <tr>\n",
       "      <td>0.917</td>\n",
       "      <td>0.265</td>\n",
       "      <td>1</td>\n",
       "      <td>eval</td>\n",
       "    </tr>\n",
       "  </tbody>\n",
       "</table>"
      ],
      "text/plain": [
       "<IPython.core.display.HTML object>"
      ]
     },
     "metadata": {},
     "output_type": "display_data"
    },
    {
     "data": {
      "image/png": "[encoded data removed]",
      "text/plain": [
       "<Figure size 600x400 with 1 Axes>"
      ]
     },
     "metadata": {},
     "output_type": "display_data"
    }
   ],
   "source": [
    "train(m)"
   ]
  },
  {
   "cell_type": "markdown",
   "id": "df22fd30-d49a-4154-b3ca-ae27b6c92669",
   "metadata": {},
   "source": [
    "This approach yeilds a small, flexible and competitive model. What happens if we train for a while?"
   ]
  },
  {
   "cell_type": "code",
   "execution_count": 15,
   "id": "3bb20c4b-0955-4ac4-83a6-fee165bc2ef1",
   "metadata": {},
   "outputs": [
    {
     "data": {
      "text/html": [
       "\n",
       "<style>\n",
       "    /* Turns off some styling */\n",
       "    progress {\n",
       "        /* gets rid of default border in Firefox and Opera. */\n",
       "        border: none;\n",
       "        /* Needs to be in here for Safari polyfill so background images work as expected. */\n",
       "        background-size: auto;\n",
       "    }\n",
       "    progress:not([value]), progress:not([value])::-webkit-progress-bar {\n",
       "        background: repeating-linear-gradient(45deg, #7e7e7e, #7e7e7e 10px, #5c5c5c 10px, #5c5c5c 20px);\n",
       "    }\n",
       "    .progress-bar-interrupted, .progress-bar-interrupted::-webkit-progress-bar {\n",
       "        background: #F44336;\n",
       "    }\n",
       "</style>\n"
      ],
      "text/plain": [
       "<IPython.core.display.HTML object>"
      ]
     },
     "metadata": {},
     "output_type": "display_data"
    },
    {
     "data": {
      "text/html": [
       "<table border=\"1\" class=\"dataframe\">\n",
       "  <thead>\n",
       "    <tr style=\"text-align: left;\">\n",
       "      <th>MulticlassAccuracy</th>\n",
       "      <th>loss</th>\n",
       "      <th>epoch</th>\n",
       "      <th>train</th>\n",
       "    </tr>\n",
       "  </thead>\n",
       "  <tbody>\n",
       "    <tr>\n",
       "      <td>0.847</td>\n",
       "      <td>0.662</td>\n",
       "      <td>0</td>\n",
       "      <td>train</td>\n",
       "    </tr>\n",
       "    <tr>\n",
       "      <td>0.875</td>\n",
       "      <td>0.529</td>\n",
       "      <td>0</td>\n",
       "      <td>eval</td>\n",
       "    </tr>\n",
       "    <tr>\n",
       "      <td>0.899</td>\n",
       "      <td>0.455</td>\n",
       "      <td>1</td>\n",
       "      <td>train</td>\n",
       "    </tr>\n",
       "    <tr>\n",
       "      <td>0.882</td>\n",
       "      <td>0.427</td>\n",
       "      <td>1</td>\n",
       "      <td>eval</td>\n",
       "    </tr>\n",
       "    <tr>\n",
       "      <td>0.905</td>\n",
       "      <td>0.353</td>\n",
       "      <td>2</td>\n",
       "      <td>train</td>\n",
       "    </tr>\n",
       "    <tr>\n",
       "      <td>0.885</td>\n",
       "      <td>0.371</td>\n",
       "      <td>2</td>\n",
       "      <td>eval</td>\n",
       "    </tr>\n",
       "    <tr>\n",
       "      <td>0.913</td>\n",
       "      <td>0.289</td>\n",
       "      <td>3</td>\n",
       "      <td>train</td>\n",
       "    </tr>\n",
       "    <tr>\n",
       "      <td>0.861</td>\n",
       "      <td>0.420</td>\n",
       "      <td>3</td>\n",
       "      <td>eval</td>\n",
       "    </tr>\n",
       "    <tr>\n",
       "      <td>0.919</td>\n",
       "      <td>0.249</td>\n",
       "      <td>4</td>\n",
       "      <td>train</td>\n",
       "    </tr>\n",
       "    <tr>\n",
       "      <td>0.826</td>\n",
       "      <td>0.523</td>\n",
       "      <td>4</td>\n",
       "      <td>eval</td>\n",
       "    </tr>\n",
       "    <tr>\n",
       "      <td>0.926</td>\n",
       "      <td>0.220</td>\n",
       "      <td>5</td>\n",
       "      <td>train</td>\n",
       "    </tr>\n",
       "    <tr>\n",
       "      <td>0.856</td>\n",
       "      <td>0.419</td>\n",
       "      <td>5</td>\n",
       "      <td>eval</td>\n",
       "    </tr>\n",
       "    <tr>\n",
       "      <td>0.934</td>\n",
       "      <td>0.190</td>\n",
       "      <td>6</td>\n",
       "      <td>train</td>\n",
       "    </tr>\n",
       "    <tr>\n",
       "      <td>0.896</td>\n",
       "      <td>0.290</td>\n",
       "      <td>6</td>\n",
       "      <td>eval</td>\n",
       "    </tr>\n",
       "    <tr>\n",
       "      <td>0.942</td>\n",
       "      <td>0.170</td>\n",
       "      <td>7</td>\n",
       "      <td>train</td>\n",
       "    </tr>\n",
       "    <tr>\n",
       "      <td>0.905</td>\n",
       "      <td>0.278</td>\n",
       "      <td>7</td>\n",
       "      <td>eval</td>\n",
       "    </tr>\n",
       "    <tr>\n",
       "      <td>0.948</td>\n",
       "      <td>0.148</td>\n",
       "      <td>8</td>\n",
       "      <td>train</td>\n",
       "    </tr>\n",
       "    <tr>\n",
       "      <td>0.905</td>\n",
       "      <td>0.291</td>\n",
       "      <td>8</td>\n",
       "      <td>eval</td>\n",
       "    </tr>\n",
       "    <tr>\n",
       "      <td>0.955</td>\n",
       "      <td>0.131</td>\n",
       "      <td>9</td>\n",
       "      <td>train</td>\n",
       "    </tr>\n",
       "    <tr>\n",
       "      <td>0.899</td>\n",
       "      <td>0.301</td>\n",
       "      <td>9</td>\n",
       "      <td>eval</td>\n",
       "    </tr>\n",
       "    <tr>\n",
       "      <td>0.961</td>\n",
       "      <td>0.113</td>\n",
       "      <td>10</td>\n",
       "      <td>train</td>\n",
       "    </tr>\n",
       "    <tr>\n",
       "      <td>0.900</td>\n",
       "      <td>0.320</td>\n",
       "      <td>10</td>\n",
       "      <td>eval</td>\n",
       "    </tr>\n",
       "    <tr>\n",
       "      <td>0.966</td>\n",
       "      <td>0.096</td>\n",
       "      <td>11</td>\n",
       "      <td>train</td>\n",
       "    </tr>\n",
       "    <tr>\n",
       "      <td>0.910</td>\n",
       "      <td>0.303</td>\n",
       "      <td>11</td>\n",
       "      <td>eval</td>\n",
       "    </tr>\n",
       "    <tr>\n",
       "      <td>0.973</td>\n",
       "      <td>0.078</td>\n",
       "      <td>12</td>\n",
       "      <td>train</td>\n",
       "    </tr>\n",
       "    <tr>\n",
       "      <td>0.913</td>\n",
       "      <td>0.305</td>\n",
       "      <td>12</td>\n",
       "      <td>eval</td>\n",
       "    </tr>\n",
       "    <tr>\n",
       "      <td>0.981</td>\n",
       "      <td>0.058</td>\n",
       "      <td>13</td>\n",
       "      <td>train</td>\n",
       "    </tr>\n",
       "    <tr>\n",
       "      <td>0.917</td>\n",
       "      <td>0.298</td>\n",
       "      <td>13</td>\n",
       "      <td>eval</td>\n",
       "    </tr>\n",
       "    <tr>\n",
       "      <td>0.987</td>\n",
       "      <td>0.042</td>\n",
       "      <td>14</td>\n",
       "      <td>train</td>\n",
       "    </tr>\n",
       "    <tr>\n",
       "      <td>0.916</td>\n",
       "      <td>0.316</td>\n",
       "      <td>14</td>\n",
       "      <td>eval</td>\n",
       "    </tr>\n",
       "    <tr>\n",
       "      <td>0.991</td>\n",
       "      <td>0.029</td>\n",
       "      <td>15</td>\n",
       "      <td>train</td>\n",
       "    </tr>\n",
       "    <tr>\n",
       "      <td>0.923</td>\n",
       "      <td>0.296</td>\n",
       "      <td>15</td>\n",
       "      <td>eval</td>\n",
       "    </tr>\n",
       "    <tr>\n",
       "      <td>0.996</td>\n",
       "      <td>0.016</td>\n",
       "      <td>16</td>\n",
       "      <td>train</td>\n",
       "    </tr>\n",
       "    <tr>\n",
       "      <td>0.929</td>\n",
       "      <td>0.291</td>\n",
       "      <td>16</td>\n",
       "      <td>eval</td>\n",
       "    </tr>\n",
       "    <tr>\n",
       "      <td>0.999</td>\n",
       "      <td>0.009</td>\n",
       "      <td>17</td>\n",
       "      <td>train</td>\n",
       "    </tr>\n",
       "    <tr>\n",
       "      <td>0.930</td>\n",
       "      <td>0.290</td>\n",
       "      <td>17</td>\n",
       "      <td>eval</td>\n",
       "    </tr>\n",
       "    <tr>\n",
       "      <td>1.000</td>\n",
       "      <td>0.006</td>\n",
       "      <td>18</td>\n",
       "      <td>train</td>\n",
       "    </tr>\n",
       "    <tr>\n",
       "      <td>0.930</td>\n",
       "      <td>0.288</td>\n",
       "      <td>18</td>\n",
       "      <td>eval</td>\n",
       "    </tr>\n",
       "    <tr>\n",
       "      <td>1.000</td>\n",
       "      <td>0.005</td>\n",
       "      <td>19</td>\n",
       "      <td>train</td>\n",
       "    </tr>\n",
       "    <tr>\n",
       "      <td>0.931</td>\n",
       "      <td>0.289</td>\n",
       "      <td>19</td>\n",
       "      <td>eval</td>\n",
       "    </tr>\n",
       "  </tbody>\n",
       "</table>"
      ],
      "text/plain": [
       "<IPython.core.display.HTML object>"
      ]
     },
     "metadata": {},
     "output_type": "display_data"
    },
    {
     "data": {
      "image/png": "[encoded data removed]",
      "text/plain": [
       "<Figure size 600x400 with 1 Axes>"
      ]
     },
     "metadata": {},
     "output_type": "display_data"
    }
   ],
   "source": [
    "train(ResNetWithGlobalPoolingInitialConv.kaiming(), n_epochs=20)"
   ]
  },
  {
   "cell_type": "markdown",
   "id": "be0189bf-c474-4b53-9513-e322f9e7ac2b",
   "metadata": {},
   "source": [
    "The near perfect training accuracy indicates that the model is simply memorizing the dataset and failing to generalize.\n",
    "\n",
    "Can we use another regularization technique to improve generalization? No.\n",
    "\n",
    ":::{.callout-tip}\n",
    "## Weight Decay and Batchnorm do not work together\n",
    "We've posited that weight decay, as a regularization, prevents memorization. However,\n",
    "batch norm has a single set of coefficients that scale the layer output. Since weight decay also scales the layer weight, the model is able to \"cheat.\" Jeremy says to avoid weight decay and rely on a scheduler.\n",
    ":::\n",
    "\n",
    "Instead, let's try \"Augmentation\" to create pseudo-new data that the model must learn to account for.\n",
    "\n",
    "## Augmentation\n",
    "\n",
    "Recall, we implemented the `with_transforms` method on the `Dataloaders` class in the `Learner` notebook."
   ]
  },
  {
   "cell_type": "code",
   "execution_count": 16,
   "id": "90d3ab2f-d245-4721-ab43-809c3f08f634",
   "metadata": {},
   "outputs": [
    {
     "data": {
      "image/png": "[encoded data removed]",
      "text/plain": [
       "<Figure size 1200x600 with 8 Axes>"
      ]
     },
     "metadata": {},
     "output_type": "display_data"
    }
   ],
   "source": [
    "tfms = [\n",
    "    transforms.RandomCrop(28, padding=1),\n",
    "    transforms.RandomHorizontalFlip(),\n",
    "    transforms.ToTensor(),\n",
    "    transforms.Normalize([0.26], [0.35]),\n",
    "]\n",
    "tfmsc = transforms.Compose(tfms)\n",
    "\n",
    "dls = fashion_mnist(512).with_transforms(\n",
    "    {\"image\": batchify(tfmsc)},\n",
    "    lazy=True,\n",
    "    splits=[\"train\"],\n",
    ")\n",
    "\n",
    "xb, _ = dls.peek()\n",
    "show_images(xb[:8, ...])"
   ]
  },
  {
   "cell_type": "code",
   "execution_count": 17,
   "id": "40dafe34-e06d-40f8-9803-ee0d973591bd",
   "metadata": {},
   "outputs": [
    {
     "data": {
      "text/plain": [
       "(tensor(0.0647), tensor(1.0080))"
      ]
     },
     "execution_count": 17,
     "metadata": {},
     "output_type": "execute_result"
    }
   ],
   "source": [
    "pixels = xb.view(-1)\n",
    "pixels.mean(), pixels.std()"
   ]
  },
  {
   "cell_type": "code",
   "execution_count": 18,
   "id": "72dad3c9-5084-4985-9e55-ba0ef5f5bdbd",
   "metadata": {},
   "outputs": [
    {
     "data": {
      "text/html": [
       "\n",
       "<style>\n",
       "    /* Turns off some styling */\n",
       "    progress {\n",
       "        /* gets rid of default border in Firefox and Opera. */\n",
       "        border: none;\n",
       "        /* Needs to be in here for Safari polyfill so background images work as expected. */\n",
       "        background-size: auto;\n",
       "    }\n",
       "    progress:not([value]), progress:not([value])::-webkit-progress-bar {\n",
       "        background: repeating-linear-gradient(45deg, #7e7e7e, #7e7e7e 10px, #5c5c5c 10px, #5c5c5c 20px);\n",
       "    }\n",
       "    .progress-bar-interrupted, .progress-bar-interrupted::-webkit-progress-bar {\n",
       "        background: #F44336;\n",
       "    }\n",
       "</style>\n"
      ],
      "text/plain": [
       "<IPython.core.display.HTML object>"
      ]
     },
     "metadata": {},
     "output_type": "display_data"
    },
    {
     "data": {
      "text/html": [
       "<table border=\"1\" class=\"dataframe\">\n",
       "  <thead>\n",
       "    <tr style=\"text-align: left;\">\n",
       "      <th>MulticlassAccuracy</th>\n",
       "      <th>loss</th>\n",
       "      <th>epoch</th>\n",
       "      <th>train</th>\n",
       "    </tr>\n",
       "  </thead>\n",
       "  <tbody>\n",
       "    <tr>\n",
       "      <td>0.811</td>\n",
       "      <td>0.746</td>\n",
       "      <td>0</td>\n",
       "      <td>train</td>\n",
       "    </tr>\n",
       "    <tr>\n",
       "      <td>0.856</td>\n",
       "      <td>0.538</td>\n",
       "      <td>0</td>\n",
       "      <td>eval</td>\n",
       "    </tr>\n",
       "    <tr>\n",
       "      <td>0.875</td>\n",
       "      <td>0.514</td>\n",
       "      <td>1</td>\n",
       "      <td>train</td>\n",
       "    </tr>\n",
       "    <tr>\n",
       "      <td>0.862</td>\n",
       "      <td>0.476</td>\n",
       "      <td>1</td>\n",
       "      <td>eval</td>\n",
       "    </tr>\n",
       "    <tr>\n",
       "      <td>0.886</td>\n",
       "      <td>0.404</td>\n",
       "      <td>2</td>\n",
       "      <td>train</td>\n",
       "    </tr>\n",
       "    <tr>\n",
       "      <td>0.877</td>\n",
       "      <td>0.397</td>\n",
       "      <td>2</td>\n",
       "      <td>eval</td>\n",
       "    </tr>\n",
       "    <tr>\n",
       "      <td>0.891</td>\n",
       "      <td>0.339</td>\n",
       "      <td>3</td>\n",
       "      <td>train</td>\n",
       "    </tr>\n",
       "    <tr>\n",
       "      <td>0.840</td>\n",
       "      <td>0.456</td>\n",
       "      <td>3</td>\n",
       "      <td>eval</td>\n",
       "    </tr>\n",
       "    <tr>\n",
       "      <td>0.897</td>\n",
       "      <td>0.305</td>\n",
       "      <td>4</td>\n",
       "      <td>train</td>\n",
       "    </tr>\n",
       "    <tr>\n",
       "      <td>0.849</td>\n",
       "      <td>0.443</td>\n",
       "      <td>4</td>\n",
       "      <td>eval</td>\n",
       "    </tr>\n",
       "    <tr>\n",
       "      <td>0.904</td>\n",
       "      <td>0.278</td>\n",
       "      <td>5</td>\n",
       "      <td>train</td>\n",
       "    </tr>\n",
       "    <tr>\n",
       "      <td>0.902</td>\n",
       "      <td>0.274</td>\n",
       "      <td>5</td>\n",
       "      <td>eval</td>\n",
       "    </tr>\n",
       "    <tr>\n",
       "      <td>0.911</td>\n",
       "      <td>0.250</td>\n",
       "      <td>6</td>\n",
       "      <td>train</td>\n",
       "    </tr>\n",
       "    <tr>\n",
       "      <td>0.903</td>\n",
       "      <td>0.284</td>\n",
       "      <td>6</td>\n",
       "      <td>eval</td>\n",
       "    </tr>\n",
       "    <tr>\n",
       "      <td>0.917</td>\n",
       "      <td>0.232</td>\n",
       "      <td>7</td>\n",
       "      <td>train</td>\n",
       "    </tr>\n",
       "    <tr>\n",
       "      <td>0.909</td>\n",
       "      <td>0.250</td>\n",
       "      <td>7</td>\n",
       "      <td>eval</td>\n",
       "    </tr>\n",
       "    <tr>\n",
       "      <td>0.922</td>\n",
       "      <td>0.218</td>\n",
       "      <td>8</td>\n",
       "      <td>train</td>\n",
       "    </tr>\n",
       "    <tr>\n",
       "      <td>0.908</td>\n",
       "      <td>0.252</td>\n",
       "      <td>8</td>\n",
       "      <td>eval</td>\n",
       "    </tr>\n",
       "    <tr>\n",
       "      <td>0.924</td>\n",
       "      <td>0.208</td>\n",
       "      <td>9</td>\n",
       "      <td>train</td>\n",
       "    </tr>\n",
       "    <tr>\n",
       "      <td>0.925</td>\n",
       "      <td>0.214</td>\n",
       "      <td>9</td>\n",
       "      <td>eval</td>\n",
       "    </tr>\n",
       "    <tr>\n",
       "      <td>0.931</td>\n",
       "      <td>0.191</td>\n",
       "      <td>10</td>\n",
       "      <td>train</td>\n",
       "    </tr>\n",
       "    <tr>\n",
       "      <td>0.927</td>\n",
       "      <td>0.203</td>\n",
       "      <td>10</td>\n",
       "      <td>eval</td>\n",
       "    </tr>\n",
       "    <tr>\n",
       "      <td>0.936</td>\n",
       "      <td>0.177</td>\n",
       "      <td>11</td>\n",
       "      <td>train</td>\n",
       "    </tr>\n",
       "    <tr>\n",
       "      <td>0.929</td>\n",
       "      <td>0.205</td>\n",
       "      <td>11</td>\n",
       "      <td>eval</td>\n",
       "    </tr>\n",
       "    <tr>\n",
       "      <td>0.941</td>\n",
       "      <td>0.164</td>\n",
       "      <td>12</td>\n",
       "      <td>train</td>\n",
       "    </tr>\n",
       "    <tr>\n",
       "      <td>0.921</td>\n",
       "      <td>0.223</td>\n",
       "      <td>12</td>\n",
       "      <td>eval</td>\n",
       "    </tr>\n",
       "    <tr>\n",
       "      <td>0.947</td>\n",
       "      <td>0.150</td>\n",
       "      <td>13</td>\n",
       "      <td>train</td>\n",
       "    </tr>\n",
       "    <tr>\n",
       "      <td>0.927</td>\n",
       "      <td>0.206</td>\n",
       "      <td>13</td>\n",
       "      <td>eval</td>\n",
       "    </tr>\n",
       "    <tr>\n",
       "      <td>0.950</td>\n",
       "      <td>0.140</td>\n",
       "      <td>14</td>\n",
       "      <td>train</td>\n",
       "    </tr>\n",
       "    <tr>\n",
       "      <td>0.928</td>\n",
       "      <td>0.205</td>\n",
       "      <td>14</td>\n",
       "      <td>eval</td>\n",
       "    </tr>\n",
       "    <tr>\n",
       "      <td>0.956</td>\n",
       "      <td>0.124</td>\n",
       "      <td>15</td>\n",
       "      <td>train</td>\n",
       "    </tr>\n",
       "    <tr>\n",
       "      <td>0.937</td>\n",
       "      <td>0.185</td>\n",
       "      <td>15</td>\n",
       "      <td>eval</td>\n",
       "    </tr>\n",
       "    <tr>\n",
       "      <td>0.961</td>\n",
       "      <td>0.112</td>\n",
       "      <td>16</td>\n",
       "      <td>train</td>\n",
       "    </tr>\n",
       "    <tr>\n",
       "      <td>0.939</td>\n",
       "      <td>0.183</td>\n",
       "      <td>16</td>\n",
       "      <td>eval</td>\n",
       "    </tr>\n",
       "    <tr>\n",
       "      <td>0.966</td>\n",
       "      <td>0.098</td>\n",
       "      <td>17</td>\n",
       "      <td>train</td>\n",
       "    </tr>\n",
       "    <tr>\n",
       "      <td>0.941</td>\n",
       "      <td>0.179</td>\n",
       "      <td>17</td>\n",
       "      <td>eval</td>\n",
       "    </tr>\n",
       "    <tr>\n",
       "      <td>0.970</td>\n",
       "      <td>0.087</td>\n",
       "      <td>18</td>\n",
       "      <td>train</td>\n",
       "    </tr>\n",
       "    <tr>\n",
       "      <td>0.942</td>\n",
       "      <td>0.180</td>\n",
       "      <td>18</td>\n",
       "      <td>eval</td>\n",
       "    </tr>\n",
       "    <tr>\n",
       "      <td>0.972</td>\n",
       "      <td>0.083</td>\n",
       "      <td>19</td>\n",
       "      <td>train</td>\n",
       "    </tr>\n",
       "    <tr>\n",
       "      <td>0.942</td>\n",
       "      <td>0.179</td>\n",
       "      <td>19</td>\n",
       "      <td>eval</td>\n",
       "    </tr>\n",
       "  </tbody>\n",
       "</table>"
      ],
      "text/plain": [
       "<IPython.core.display.HTML object>"
      ]
     },
     "metadata": {},
     "output_type": "display_data"
    },
    {
     "data": {
      "image/png": "[encoded data removed]",
      "text/plain": [
       "<Figure size 600x400 with 1 Axes>"
      ]
     },
     "metadata": {},
     "output_type": "display_data"
    }
   ],
   "source": [
    "m_with_augmentation = ResNetWithGlobalPoolingInitialConv.kaiming()\n",
    "train(m_with_augmentation, dls=dls, n_epochs=20)"
   ]
  },
  {
   "cell_type": "markdown",
   "id": "b7e9742f-ec48-45f7-a769-fb7f47506f90",
   "metadata": {},
   "source": [
    "## Test Time Augmentation\n",
    "\n",
    "Giving the model mulitple oppertunities to see the input can further improve the output."
   ]
  },
  {
   "cell_type": "code",
   "execution_count": 19,
   "id": "8da7f931-13c4-4eee-8b63-d7bd4c4c8a4b",
   "metadata": {},
   "outputs": [
    {
     "data": {
      "image/png": "[encoded data removed]",
      "text/plain": [
       "<Figure size 600x300 with 2 Axes>"
      ]
     },
     "metadata": {},
     "output_type": "display_data"
    }
   ],
   "source": [
    "xbf = torch.flip(xb, dims=(3,))\n",
    "show_images([xb[0, ...], xbf[0, ...]])"
   ]
  },
  {
   "cell_type": "code",
   "execution_count": 31,
   "id": "01be5b36-a41e-4372-a104-8384e2ce0add",
   "metadata": {},
   "outputs": [],
   "source": [
    "def accuracy(model_predict_f, model, device=def_device):\n",
    "    dls = fashion_mnist(512)\n",
    "    n, n_correct = 0, 0\n",
    "    for xb, yb in dls[\"test\"]:\n",
    "        xb = xb.to(device)\n",
    "        yb = yb.to(device)\n",
    "        yp = model_predict_f(xb, model)\n",
    "        n += len(yb)\n",
    "        n_correct += (yp == yb).float().sum().item()\n",
    "    return n_correct / n\n",
    "\n",
    "\n",
    "def pred_normal(xb, m):\n",
    "    return m_with_augmentation(xb).argmax(axis=1)"
   ]
  },
  {
   "cell_type": "markdown",
   "id": "1c922f8f-a50e-4dd8-b252-0d46e2f71db9",
   "metadata": {},
   "source": [
    "Let's check the normal accuracy"
   ]
  },
  {
   "cell_type": "code",
   "execution_count": 32,
   "id": "b3e9c189-7055-4c06-9918-a5d87271d174",
   "metadata": {},
   "outputs": [
    {
     "data": {
      "text/plain": [
       "0.9399"
      ]
     },
     "execution_count": 32,
     "metadata": {},
     "output_type": "execute_result"
    }
   ],
   "source": [
    "accuracy(pred_normal, m_with_augmentation)"
   ]
  },
  {
   "cell_type": "markdown",
   "id": "af875200-96e0-41e5-a036-7643e3b26bb9",
   "metadata": {},
   "source": [
    "Now, we can compare that to averaging the outputs when looking at both flips"
   ]
  },
  {
   "cell_type": "code",
   "execution_count": 33,
   "id": "cf2ad68e-40e3-4f7d-85e2-df5fadd958d9",
   "metadata": {},
   "outputs": [
    {
     "data": {
      "text/plain": [
       "0.9414"
      ]
     },
     "execution_count": 33,
     "metadata": {},
     "output_type": "execute_result"
    }
   ],
   "source": [
    "def pred_with_test_time_augmentation(xb, m):\n",
    "    yp = m(xb)\n",
    "    xbf = torch.flip(xb, dims=(3,))\n",
    "    ypf = m_with_augmentation(xbf)\n",
    "    return (yp + ypf).argmax(axis=1)\n",
    "\n",
    "\n",
    "accuracy(pred_with_test_time_augmentation, m_with_augmentation)"
   ]
  },
  {
   "cell_type": "markdown",
   "id": "16fd54c2-fa2d-41d9-91d7-0f1e8d02b005",
   "metadata": {},
   "source": [
    "This is a slight improvement!\n",
    "\n",
    "## RandCopy\n",
    "\n",
    "Another thing to try is creating new-ish images by cutting and pasting segments of the image onto different locations. A benefit to this approach is that the image should retain its pixel brightness distribution. (Compare to, for example, adding black will push the distribution downwards)"
   ]
  },
  {
   "cell_type": "code",
   "execution_count": 23,
   "id": "4f0314b6-c024-4e34-bebe-5b0f4d3b99ff",
   "metadata": {},
   "outputs": [],
   "source": [
    "# |export\n",
    "class RandCopy(nn.Module):\n",
    "    def __init__(self, pct=0.2, max_num=4):\n",
    "        super().__init__()\n",
    "        self.pct = pct\n",
    "        self.max_num = max_num\n",
    "\n",
    "    def forward(self, x):\n",
    "        x = x.clone()\n",
    "        for i in range(random.randint(0, self.max_num)):\n",
    "            *_, w, h = x.shape\n",
    "            szx = int(self.pct * w)\n",
    "            szy = int(self.pct * h)\n",
    "            stx1 = int(random.random() * (1 - self.pct) * w)\n",
    "            sty1 = int(random.random() * (1 - self.pct) * h)\n",
    "            stx2 = int(random.random() * (1 - self.pct) * w)\n",
    "            sty2 = int(random.random() * (1 - self.pct) * h)\n",
    "            segment = x[..., stx2 : stx2 + szx, sty2 : sty2 + szy]\n",
    "            x[..., stx1 : stx1 + szx, sty1 : sty1 + szy] = segment\n",
    "        return x"
   ]
  },
  {
   "cell_type": "code",
   "execution_count": 24,
   "id": "88625334-aa8d-4975-9263-1090fdd682e5",
   "metadata": {},
   "outputs": [
    {
     "data": {
      "image/png": "[encoded data removed]",
      "text/plain": [
       "<Figure size 1200x600 with 8 Axes>"
      ]
     },
     "metadata": {},
     "output_type": "display_data"
    }
   ],
   "source": [
    "tfmsc2 = transforms.Compose([*tfms, RandCopy()])\n",
    "\n",
    "dls2 = fashion_mnist(512).with_transforms(\n",
    "    {\"image\": batchify(tfmsc2)},\n",
    "    lazy=True,\n",
    "    splits=[\"train\"],\n",
    ")\n",
    "\n",
    "xb, _ = dls2.peek()\n",
    "show_images(xb[:8, ...])"
   ]
  },
  {
   "cell_type": "code",
   "execution_count": 25,
   "id": "165655eb-7330-4d7f-96e5-a5cbc3370817",
   "metadata": {},
   "outputs": [
    {
     "data": {
      "text/html": [
       "\n",
       "<style>\n",
       "    /* Turns off some styling */\n",
       "    progress {\n",
       "        /* gets rid of default border in Firefox and Opera. */\n",
       "        border: none;\n",
       "        /* Needs to be in here for Safari polyfill so background images work as expected. */\n",
       "        background-size: auto;\n",
       "    }\n",
       "    progress:not([value]), progress:not([value])::-webkit-progress-bar {\n",
       "        background: repeating-linear-gradient(45deg, #7e7e7e, #7e7e7e 10px, #5c5c5c 10px, #5c5c5c 20px);\n",
       "    }\n",
       "    .progress-bar-interrupted, .progress-bar-interrupted::-webkit-progress-bar {\n",
       "        background: #F44336;\n",
       "    }\n",
       "</style>\n"
      ],
      "text/plain": [
       "<IPython.core.display.HTML object>"
      ]
     },
     "metadata": {},
     "output_type": "display_data"
    },
    {
     "data": {
      "text/html": [
       "<table border=\"1\" class=\"dataframe\">\n",
       "  <thead>\n",
       "    <tr style=\"text-align: left;\">\n",
       "      <th>MulticlassAccuracy</th>\n",
       "      <th>loss</th>\n",
       "      <th>epoch</th>\n",
       "      <th>train</th>\n",
       "    </tr>\n",
       "  </thead>\n",
       "  <tbody>\n",
       "    <tr>\n",
       "      <td>0.782</td>\n",
       "      <td>0.814</td>\n",
       "      <td>0</td>\n",
       "      <td>train</td>\n",
       "    </tr>\n",
       "    <tr>\n",
       "      <td>0.854</td>\n",
       "      <td>0.532</td>\n",
       "      <td>0</td>\n",
       "      <td>eval</td>\n",
       "    </tr>\n",
       "    <tr>\n",
       "      <td>0.851</td>\n",
       "      <td>0.574</td>\n",
       "      <td>1</td>\n",
       "      <td>train</td>\n",
       "    </tr>\n",
       "    <tr>\n",
       "      <td>0.866</td>\n",
       "      <td>0.440</td>\n",
       "      <td>1</td>\n",
       "      <td>eval</td>\n",
       "    </tr>\n",
       "    <tr>\n",
       "      <td>0.865</td>\n",
       "      <td>0.457</td>\n",
       "      <td>2</td>\n",
       "      <td>train</td>\n",
       "    </tr>\n",
       "    <tr>\n",
       "      <td>0.873</td>\n",
       "      <td>0.384</td>\n",
       "      <td>2</td>\n",
       "      <td>eval</td>\n",
       "    </tr>\n",
       "    <tr>\n",
       "      <td>0.873</td>\n",
       "      <td>0.386</td>\n",
       "      <td>3</td>\n",
       "      <td>train</td>\n",
       "    </tr>\n",
       "    <tr>\n",
       "      <td>0.879</td>\n",
       "      <td>0.347</td>\n",
       "      <td>3</td>\n",
       "      <td>eval</td>\n",
       "    </tr>\n",
       "    <tr>\n",
       "      <td>0.880</td>\n",
       "      <td>0.352</td>\n",
       "      <td>4</td>\n",
       "      <td>train</td>\n",
       "    </tr>\n",
       "    <tr>\n",
       "      <td>0.879</td>\n",
       "      <td>0.330</td>\n",
       "      <td>4</td>\n",
       "      <td>eval</td>\n",
       "    </tr>\n",
       "    <tr>\n",
       "      <td>0.889</td>\n",
       "      <td>0.316</td>\n",
       "      <td>5</td>\n",
       "      <td>train</td>\n",
       "    </tr>\n",
       "    <tr>\n",
       "      <td>0.890</td>\n",
       "      <td>0.301</td>\n",
       "      <td>5</td>\n",
       "      <td>eval</td>\n",
       "    </tr>\n",
       "    <tr>\n",
       "      <td>0.895</td>\n",
       "      <td>0.296</td>\n",
       "      <td>6</td>\n",
       "      <td>train</td>\n",
       "    </tr>\n",
       "    <tr>\n",
       "      <td>0.908</td>\n",
       "      <td>0.256</td>\n",
       "      <td>6</td>\n",
       "      <td>eval</td>\n",
       "    </tr>\n",
       "    <tr>\n",
       "      <td>0.903</td>\n",
       "      <td>0.272</td>\n",
       "      <td>7</td>\n",
       "      <td>train</td>\n",
       "    </tr>\n",
       "    <tr>\n",
       "      <td>0.903</td>\n",
       "      <td>0.273</td>\n",
       "      <td>7</td>\n",
       "      <td>eval</td>\n",
       "    </tr>\n",
       "    <tr>\n",
       "      <td>0.907</td>\n",
       "      <td>0.259</td>\n",
       "      <td>8</td>\n",
       "      <td>train</td>\n",
       "    </tr>\n",
       "    <tr>\n",
       "      <td>0.914</td>\n",
       "      <td>0.247</td>\n",
       "      <td>8</td>\n",
       "      <td>eval</td>\n",
       "    </tr>\n",
       "    <tr>\n",
       "      <td>0.913</td>\n",
       "      <td>0.244</td>\n",
       "      <td>9</td>\n",
       "      <td>train</td>\n",
       "    </tr>\n",
       "    <tr>\n",
       "      <td>0.914</td>\n",
       "      <td>0.243</td>\n",
       "      <td>9</td>\n",
       "      <td>eval</td>\n",
       "    </tr>\n",
       "    <tr>\n",
       "      <td>0.917</td>\n",
       "      <td>0.232</td>\n",
       "      <td>10</td>\n",
       "      <td>train</td>\n",
       "    </tr>\n",
       "    <tr>\n",
       "      <td>0.923</td>\n",
       "      <td>0.216</td>\n",
       "      <td>10</td>\n",
       "      <td>eval</td>\n",
       "    </tr>\n",
       "    <tr>\n",
       "      <td>0.920</td>\n",
       "      <td>0.221</td>\n",
       "      <td>11</td>\n",
       "      <td>train</td>\n",
       "    </tr>\n",
       "    <tr>\n",
       "      <td>0.922</td>\n",
       "      <td>0.214</td>\n",
       "      <td>11</td>\n",
       "      <td>eval</td>\n",
       "    </tr>\n",
       "    <tr>\n",
       "      <td>0.925</td>\n",
       "      <td>0.209</td>\n",
       "      <td>12</td>\n",
       "      <td>train</td>\n",
       "    </tr>\n",
       "    <tr>\n",
       "      <td>0.930</td>\n",
       "      <td>0.197</td>\n",
       "      <td>12</td>\n",
       "      <td>eval</td>\n",
       "    </tr>\n",
       "    <tr>\n",
       "      <td>0.931</td>\n",
       "      <td>0.193</td>\n",
       "      <td>13</td>\n",
       "      <td>train</td>\n",
       "    </tr>\n",
       "    <tr>\n",
       "      <td>0.928</td>\n",
       "      <td>0.199</td>\n",
       "      <td>13</td>\n",
       "      <td>eval</td>\n",
       "    </tr>\n",
       "    <tr>\n",
       "      <td>0.932</td>\n",
       "      <td>0.184</td>\n",
       "      <td>14</td>\n",
       "      <td>train</td>\n",
       "    </tr>\n",
       "    <tr>\n",
       "      <td>0.936</td>\n",
       "      <td>0.183</td>\n",
       "      <td>14</td>\n",
       "      <td>eval</td>\n",
       "    </tr>\n",
       "    <tr>\n",
       "      <td>0.938</td>\n",
       "      <td>0.172</td>\n",
       "      <td>15</td>\n",
       "      <td>train</td>\n",
       "    </tr>\n",
       "    <tr>\n",
       "      <td>0.937</td>\n",
       "      <td>0.177</td>\n",
       "      <td>15</td>\n",
       "      <td>eval</td>\n",
       "    </tr>\n",
       "    <tr>\n",
       "      <td>0.942</td>\n",
       "      <td>0.161</td>\n",
       "      <td>16</td>\n",
       "      <td>train</td>\n",
       "    </tr>\n",
       "    <tr>\n",
       "      <td>0.942</td>\n",
       "      <td>0.165</td>\n",
       "      <td>16</td>\n",
       "      <td>eval</td>\n",
       "    </tr>\n",
       "    <tr>\n",
       "      <td>0.947</td>\n",
       "      <td>0.149</td>\n",
       "      <td>17</td>\n",
       "      <td>train</td>\n",
       "    </tr>\n",
       "    <tr>\n",
       "      <td>0.943</td>\n",
       "      <td>0.165</td>\n",
       "      <td>17</td>\n",
       "      <td>eval</td>\n",
       "    </tr>\n",
       "    <tr>\n",
       "      <td>0.949</td>\n",
       "      <td>0.142</td>\n",
       "      <td>18</td>\n",
       "      <td>train</td>\n",
       "    </tr>\n",
       "    <tr>\n",
       "      <td>0.943</td>\n",
       "      <td>0.163</td>\n",
       "      <td>18</td>\n",
       "      <td>eval</td>\n",
       "    </tr>\n",
       "    <tr>\n",
       "      <td>0.951</td>\n",
       "      <td>0.137</td>\n",
       "      <td>19</td>\n",
       "      <td>train</td>\n",
       "    </tr>\n",
       "    <tr>\n",
       "      <td>0.942</td>\n",
       "      <td>0.164</td>\n",
       "      <td>19</td>\n",
       "      <td>eval</td>\n",
       "    </tr>\n",
       "  </tbody>\n",
       "</table>"
      ],
      "text/plain": [
       "<IPython.core.display.HTML object>"
      ]
     },
     "metadata": {},
     "output_type": "display_data"
    },
    {
     "data": {
      "image/png": "[encoded data removed]",
      "text/plain": [
       "<Figure size 600x400 with 1 Axes>"
      ]
     },
     "metadata": {},
     "output_type": "display_data"
    }
   ],
   "source": [
    "m_with_more_augmentation = ResNetWithGlobalPoolingInitialConv.kaiming()\n",
    "train(m_with_more_augmentation, dls=dls2, n_epochs=20)"
   ]
  },
  {
   "cell_type": "code",
   "execution_count": 36,
   "id": "56dc9900-c667-422b-8dce-ea69c06479fc",
   "metadata": {},
   "outputs": [
    {
     "data": {
      "text/plain": [
       "0.9404"
      ]
     },
     "execution_count": 36,
     "metadata": {},
     "output_type": "execute_result"
    }
   ],
   "source": [
    "accuracy(pred_normal, m_with_more_augmentation)"
   ]
  },
  {
   "cell_type": "code",
   "execution_count": 37,
   "id": "a47b1f5d-ae6e-4f76-ac46-f59a3cf41219",
   "metadata": {},
   "outputs": [
    {
     "data": {
      "text/plain": [
       "0.9439"
      ]
     },
     "execution_count": 37,
     "metadata": {},
     "output_type": "execute_result"
    }
   ],
   "source": [
    "accuracy(pred_with_test_time_augmentation, m_with_more_augmentation)"
   ]
  },
  {
   "cell_type": "markdown",
   "id": "179ffbd6-4c3c-4309-a32d-2293ef01fdfd",
   "metadata": {},
   "source": [
    "We're _so_ close to Jeremy's 94.6% accuracy"
   ]
  },
  {
   "cell_type": "code",
   "execution_count": 26,
   "id": "c474e89c-3740-4d15-81cb-417f54316f7a",
   "metadata": {},
   "outputs": [
    {
     "name": "stderr",
     "output_type": "stream",
     "text": [
      "/Users/jeremiahfisher/miniforge3/envs/slowai/lib/python3.10/site-packages/nbdev/export.py:54: UserWarning: Notebook '/Users/jeremiahfisher/Code/SlowAI/nbs/hack.ipynb' uses `#|export` without `#|default_exp` cell.\n",
      "Note nbdev2 no longer supports nbdev1 syntax. Run `nbdev_migrate` to upgrade.\n",
      "See https://nbdev.fast.ai/getting_started.html for more information.\n",
      "  warn(f\"Notebook '{nbname}' uses `#|export` without `#|default_exp` cell.\\n\"\n"
     ]
    }
   ],
   "source": [
    "#| hide\n",
    "import nbdev\n",
    "\n",
    "nbdev.nbdev_export()"
   ]
  }
 ],
 "metadata": {
  "kernelspec": {
   "display_name": "SlowAI",
   "language": "python",
   "name": "slowai"
  },
  "language_info": {
   "codemirror_mode": {
    "name": "ipython",
    "version": 3
   },
   "file_extension": ".py",
   "mimetype": "text/x-python",
   "name": "python",
   "nbconvert_exporter": "python",
   "pygments_lexer": "ipython3",
   "version": "3.10.13"
  }
 },
 "nbformat": 4,
 "nbformat_minor": 5
}

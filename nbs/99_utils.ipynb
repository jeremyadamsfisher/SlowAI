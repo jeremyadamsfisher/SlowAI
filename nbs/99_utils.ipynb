{
 "cells": [
  {
   "cell_type": "markdown",
   "id": "f9ecf0c7-dca5-4a50-8688-0fdab8f2e800",
   "metadata": {},
   "source": [
    "# Utilities\n",
    "\n",
    "> Random utilities. Nothing to see here."
   ]
  },
  {
   "cell_type": "code",
   "execution_count": 1,
   "id": "131942ac-fa73-422f-a2be-63a488558d34",
   "metadata": {},
   "outputs": [],
   "source": [
    "#| default_exp utils"
   ]
  },
  {
   "cell_type": "code",
   "execution_count": 2,
   "id": "4d78dce7-a20d-4780-814f-df4fb6132e51",
   "metadata": {},
   "outputs": [],
   "source": [
    "# |export\n",
    "import gc\n",
    "import sys\n",
    "import traceback\n",
    "\n",
    "import torch"
   ]
  },
  {
   "cell_type": "code",
   "execution_count": 3,
   "id": "97aae6d4-b75f-45fc-ac2e-c31469301835",
   "metadata": {},
   "outputs": [],
   "source": [
    "# |export\n",
    "def clean_ipython_hist():\n",
    "    # Code in this function mainly copied from IPython source\n",
    "    if not \"get_ipython\" in globals():\n",
    "        return\n",
    "    ip = get_ipython()\n",
    "    user_ns = ip.user_ns\n",
    "    ip.displayhook.flush()\n",
    "    pc = ip.displayhook.prompt_count + 1\n",
    "    for n in range(1, pc):\n",
    "        user_ns.pop(\"_i\" + repr(n), None)\n",
    "    user_ns.update(dict(_i=\"\", _ii=\"\", _iii=\"\"))\n",
    "    hm = ip.history_manager\n",
    "    hm.input_hist_parsed[:] = [\"\"] * pc\n",
    "    hm.input_hist_raw[:] = [\"\"] * pc\n",
    "    hm._i = hm._ii = hm._iii = hm._i00 = \"\""
   ]
  },
  {
   "cell_type": "code",
   "execution_count": null,
   "id": "1300cc38-79c7-4205-80f6-1a3fd0d32f5a",
   "metadata": {},
   "outputs": [],
   "source": [
    "\n",
    "\n",
    "#|export\n",
    "def clean_tb():\n",
    "    # h/t Piotr Czapla\n",
    "    if hasattr(sys, 'last_traceback'):\n",
    "        traceback.clear_frames(sys.last_traceback)\n",
    "        delattr(sys, 'last_traceback')\n",
    "    if hasattr(sys, 'last_type'): delattr(sys, 'last_type')\n",
    "    if hasattr(sys, 'last_value'): delattr(sys, 'last_value')\n",
    "     \n"
   ]
  },
  {
   "cell_type": "code",
   "execution_count": null,
   "id": "2b41b98f-c64b-49d8-90d0-00dd72c4e091",
   "metadata": {},
   "outputs": [],
   "source": [
    "#|export\n",
    "def clean_mem():\n",
    "    clean_tb()\n",
    "    clean_ipython_hist()\n",
    "    gc.collect()\n",
    "    torch.cuda.empty_cache()"
   ]
  },
  {
   "cell_type": "code",
   "execution_count": 4,
   "id": "00ac0c1f-1857-477e-b435-1cec3dfda786",
   "metadata": {},
   "outputs": [],
   "source": [
    "#| hide\n",
    "import nbdev\n",
    "\n",
    "nbdev.nbdev_export()"
   ]
  }
 ],
 "metadata": {
  "kernelspec": {
   "display_name": "SlowAI",
   "language": "python",
   "name": "slowai"
  },
  "language_info": {
   "codemirror_mode": {
    "name": "ipython",
    "version": 3
   },
   "file_extension": ".py",
   "mimetype": "text/x-python",
   "name": "python",
   "nbconvert_exporter": "python",
   "pygments_lexer": "ipython3",
   "version": "3.11.5"
  }
 },
 "nbformat": 4,
 "nbformat_minor": 5
}

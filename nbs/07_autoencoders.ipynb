{
 "cells": [
  {
   "cell_type": "markdown",
   "id": "f7ce5939-77ef-4fc8-9dfd-6d68ca008190",
   "metadata": {},
   "source": [
    "# Autoencoders\n",
    "\n",
    "> Autoencoders\n",
    "\n",
    "Adapted from:\n",
    "- https://youtu.be/0Hi2r4CaHvk?si=GA9KaGAnGOlS_NJO&t=3568"
   ]
  },
  {
   "cell_type": "code",
   "execution_count": 1,
   "id": "6c8511f0-53c5-402a-aa71-56fa2041955d",
   "metadata": {},
   "outputs": [],
   "source": [
    "# |default_exp autoencoders"
   ]
  },
  {
   "cell_type": "code",
   "execution_count": 2,
   "id": "66b53d5d-1502-4b49-9c3a-c0248826c27f",
   "metadata": {},
   "outputs": [],
   "source": [
    "# |export\n",
    "import torch\n",
    "import torch.nn.functional as F\n",
    "from torch import nn, optim\n",
    "from tqdm import tqdm\n",
    "\n",
    "from slowai.convs import conv, def_device, fashion_mnist, to_device\n",
    "from slowai.datasets import show_images"
   ]
  },
  {
   "cell_type": "markdown",
   "id": "137cd7ca-55e7-4022-87ad-36a39b37e2ef",
   "metadata": {},
   "source": [
    "Autoencoders learn a bottleneck representation that can be \"reversed\" to reconstruct the original image.\n",
    "\n",
    "![](https://miro.medium.com/v2/resize:fit:600/1*nqzWupxC60iAH2dYrFT78Q.png)\n",
    "\n",
    "Typically, they are not used on their own but are used to produce compressed representations.\n",
    "\n",
    "We've seen how a convolutional neural network can produce a simple representation of an image: that is, the categorical probability distribution over all the fashion classes. How do reverse this process to reconstruct the original image.\n",
    "\n",
    "Transpose or \"Stride $\\frac{1}{2}$\"  convolutions work, but this notebook focuses on the [nearest neighbor upsampling](https://pytorch.org/docs/stable/generated/torch.nn.UpsamplingNearest2d.html). This upsamples the activations from the previous layer and applies a convolutional layer to restore detail."
   ]
  },
  {
   "cell_type": "code",
   "execution_count": 3,
   "id": "c0620667-61f1-46f1-9f51-e6054998d498",
   "metadata": {},
   "outputs": [],
   "source": [
    "# |export\n",
    "def deconv(c_in, c_out, ks=3, act=True):\n",
    "    layers = [\n",
    "        nn.UpsamplingNearest2d(scale_factor=2),\n",
    "        nn.Conv2d(c_in, c_out, stride=1, kernel_size=ks, padding=ks // 2),\n",
    "    ]\n",
    "    if act:\n",
    "        layers.append(nn.ReLU())\n",
    "    return nn.Sequential(*layers)"
   ]
  },
  {
   "cell_type": "markdown",
   "id": "80e78f0e-f2f5-4703-9e72-40b32dc9d107",
   "metadata": {},
   "source": [
    "We need to modify the `fit` function because the loss function is no longer of the label."
   ]
  },
  {
   "cell_type": "code",
   "execution_count": 4,
   "id": "02d9445f-ca67-4821-8451-ab3c2dddb5be",
   "metadata": {},
   "outputs": [],
   "source": [
    "def fit(epochs, model, loss_func, opt, train_dl, valid_dl, tqdm_=False):\n",
    "    \"\"\"Modified fit function for reconstruction tasks\"\"\"\n",
    "    progress = tqdm if tqdm_ else lambda x: x\n",
    "    for epoch in range(epochs):\n",
    "        model.train()\n",
    "        trn_loss, trn_count = 0.0, 0\n",
    "        for xb, _ in progress(train_dl):\n",
    "            xb = to_device(xb)\n",
    "            loss = loss_func(model(xb), xb)  # 👈\n",
    "            bs, *_ = xb.shape\n",
    "            trn_loss += loss.item() * bs\n",
    "            trn_count += bs\n",
    "            loss.backward()\n",
    "            opt.step()\n",
    "            opt.zero_grad()\n",
    "\n",
    "        model.eval()\n",
    "        with torch.no_grad():\n",
    "            tst_loss, tot_acc, tst_count = 0.0, 0.0, 0\n",
    "            for xb, _ in progress(valid_dl):\n",
    "                xb = to_device(xb)\n",
    "                pred = model(xb)\n",
    "                bs, *_ = xb.shape\n",
    "                tst_count += bs\n",
    "                tst_loss += loss_func(pred, xb).item() * bs\n",
    "\n",
    "        print(\n",
    "            f\"{epoch=}: trn_loss={trn_loss / trn_count:.3f}, tst_loss={tst_loss / tst_count:.3f}\"\n",
    "        )"
   ]
  },
  {
   "cell_type": "code",
   "execution_count": 5,
   "id": "6012ffec-70ad-40c4-9bcb-24f8b3d8aede",
   "metadata": {},
   "outputs": [],
   "source": [
    "# |export\n",
    "def get_model():\n",
    "    # input.shape[:2] == 28x28\n",
    "    return nn.Sequential(\n",
    "        nn.ZeroPad2d(padding=2),  # 32x32\n",
    "        conv(1, 2),  # 16x16\n",
    "        conv(2, 4),  # 8x8\n",
    "        conv(4, 8),  # 4x4\n",
    "        deconv(8, 4),  # 8x8\n",
    "        deconv(4, 2),  # 16x16\n",
    "        deconv(2, 1, act=False),  # 32x32\n",
    "        nn.ZeroPad2d(padding=-2),  # 28x28\n",
    "        nn.Sigmoid(),\n",
    "    ).to(def_device)"
   ]
  },
  {
   "cell_type": "code",
   "execution_count": 6,
   "id": "7e8228e4-889a-4959-9c79-21ae465f7db6",
   "metadata": {},
   "outputs": [
    {
     "data": {
      "text/plain": [
       "Sequential(\n",
       "  (0): ZeroPad2d((2, 2, 2, 2))\n",
       "  (1): Sequential(\n",
       "    (0): Conv2d(1, 2, kernel_size=(3, 3), stride=(2, 2), padding=(1, 1))\n",
       "    (1): ReLU()\n",
       "  )\n",
       "  (2): Sequential(\n",
       "    (0): Conv2d(2, 4, kernel_size=(3, 3), stride=(2, 2), padding=(1, 1))\n",
       "    (1): ReLU()\n",
       "  )\n",
       "  (3): Sequential(\n",
       "    (0): Conv2d(4, 8, kernel_size=(3, 3), stride=(2, 2), padding=(1, 1))\n",
       "    (1): ReLU()\n",
       "  )\n",
       "  (4): Sequential(\n",
       "    (0): UpsamplingNearest2d(scale_factor=2.0, mode='nearest')\n",
       "    (1): Conv2d(8, 4, kernel_size=(3, 3), stride=(1, 1), padding=(1, 1))\n",
       "    (2): ReLU()\n",
       "  )\n",
       "  (5): Sequential(\n",
       "    (0): UpsamplingNearest2d(scale_factor=2.0, mode='nearest')\n",
       "    (1): Conv2d(4, 2, kernel_size=(3, 3), stride=(1, 1), padding=(1, 1))\n",
       "    (2): ReLU()\n",
       "  )\n",
       "  (6): Sequential(\n",
       "    (0): UpsamplingNearest2d(scale_factor=2.0, mode='nearest')\n",
       "    (1): Conv2d(2, 1, kernel_size=(3, 3), stride=(1, 1), padding=(1, 1))\n",
       "  )\n",
       "  (7): ZeroPad2d((-2, -2, -2, -2))\n",
       "  (8): Sigmoid()\n",
       ")"
      ]
     },
     "execution_count": 6,
     "metadata": {},
     "output_type": "execute_result"
    }
   ],
   "source": [
    "autoencoder = get_model()\n",
    "autoencoder"
   ]
  },
  {
   "cell_type": "code",
   "execution_count": 7,
   "id": "f97a662f-18ca-4e37-afab-567d055b4e98",
   "metadata": {},
   "outputs": [],
   "source": [
    "with fashion_mnist() as (_, tst_dl):\n",
    "    xb, _ = next(iter(tst_dl))"
   ]
  },
  {
   "cell_type": "code",
   "execution_count": 8,
   "id": "847f7d37-841b-40a7-92de-c2faff28d3d1",
   "metadata": {},
   "outputs": [],
   "source": [
    "assert xb.shape == autoencoder(xb.to(def_device)).shape"
   ]
  },
  {
   "cell_type": "code",
   "execution_count": 12,
   "id": "a67cf309-ea40-4a84-bcad-6a7e47f8d9a4",
   "metadata": {},
   "outputs": [
    {
     "name": "stdout",
     "output_type": "stream",
     "text": [
      "epoch=0: trn_loss=0.052, tst_loss=0.028\n",
      "epoch=1: trn_loss=0.024, tst_loss=0.021\n",
      "epoch=2: trn_loss=0.020, tst_loss=0.019\n",
      "epoch=3: trn_loss=0.019, tst_loss=0.018\n",
      "epoch=4: trn_loss=0.018, tst_loss=0.018\n",
      "epoch=5: trn_loss=0.018, tst_loss=0.018\n",
      "epoch=6: trn_loss=0.018, tst_loss=0.018\n",
      "epoch=7: trn_loss=0.017, tst_loss=0.017\n",
      "epoch=8: trn_loss=0.017, tst_loss=0.018\n",
      "epoch=9: trn_loss=0.017, tst_loss=0.017\n"
     ]
    }
   ],
   "source": [
    "model = get_model()\n",
    "with fashion_mnist() as dls:\n",
    "    opt = optim.AdamW(model.parameters(), lr=0.01)\n",
    "    fit(10, model, F.mse_loss, opt, *dls)"
   ]
  },
  {
   "cell_type": "code",
   "execution_count": 13,
   "id": "452d1cf1-adae-4a8f-9daf-d5ed8f47edb8",
   "metadata": {},
   "outputs": [
    {
     "data": {
      "image/png": "[encoded data removed]",
      "text/plain": [
       "<Figure size 600x300 with 2 Axes>"
      ]
     },
     "metadata": {},
     "output_type": "display_data"
    }
   ],
   "source": [
    "pred = model(xb.to(def_device))\n",
    "show_images([xb[0, ...].squeeze(), pred[0, ...].squeeze()])"
   ]
  },
  {
   "cell_type": "markdown",
   "id": "4260e77c-5450-45c8-b059-6defbac91924",
   "metadata": {},
   "source": [
    "That looks...not great.\n",
    "\n",
    "At this point, Jeremy pauses to go over building a framework to iterate on this problem more quickly. Continued in the next notebook."
   ]
  },
  {
   "cell_type": "code",
   "execution_count": 11,
   "id": "c474e89c-3740-4d15-81cb-417f54316f7a",
   "metadata": {},
   "outputs": [],
   "source": [
    "# |hide\n",
    "import nbdev\n",
    "\n",
    "nbdev.nbdev_export()"
   ]
  },
  {
   "cell_type": "code",
   "execution_count": null,
   "id": "19f1598a-4e99-4093-a0cc-43fe3412ed44",
   "metadata": {},
   "outputs": [],
   "source": []
  }
 ],
 "metadata": {
  "kernelspec": {
   "display_name": "SlowAI",
   "language": "python",
   "name": "slowai"
  },
  "language_info": {
   "codemirror_mode": {
    "name": "ipython",
    "version": 3
   },
   "file_extension": ".py",
   "mimetype": "text/x-python",
   "name": "python",
   "nbconvert_exporter": "python",
   "pygments_lexer": "ipython3",
   "version": "3.11.5"
  }
 },
 "nbformat": 4,
 "nbformat_minor": 5
}

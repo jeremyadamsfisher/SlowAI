{
 "cells": [
  {
   "cell_type": "markdown",
   "id": "f7ce5939-77ef-4fc8-9dfd-6d68ca008190",
   "metadata": {},
   "source": [
    "# Autoencoders\n",
    "\n",
    "> Autoencoders\n",
    "\n",
    "Adapted from:\n",
    "- https://youtu.be/0Hi2r4CaHvk?si=GA9KaGAnGOlS_NJO&t=3568"
   ]
  },
  {
   "cell_type": "code",
   "execution_count": 1,
   "id": "6c8511f0-53c5-402a-aa71-56fa2041955d",
   "metadata": {},
   "outputs": [],
   "source": [
    "#| default_exp convs"
   ]
  },
  {
   "cell_type": "code",
   "execution_count": 23,
   "id": "66b53d5d-1502-4b49-9c3a-c0248826c27f",
   "metadata": {},
   "outputs": [],
   "source": [
    "# |export\n",
    "from typing import Mapping\n",
    "\n",
    "import fastcore.all as fc\n",
    "import matplotlib.pyplot as plt\n",
    "import numpy as np\n",
    "import torch\n",
    "import torch.nn.functional as F\n",
    "import torchvision.transforms.functional as T\n",
    "from datasets import load_dataset\n",
    "from torch import nn, optim, tensor\n",
    "from torch.utils.data import DataLoader, default_collate\n",
    "\n",
    "from slowai.convs import get_dls_from_dataset_dict, conv\n",
    "from slowai.datasets import show_image, show_images"
   ]
  },
  {
   "cell_type": "code",
   "execution_count": 25,
   "id": "163f42c9-3755-40d6-8a46-2aaf17d03460",
   "metadata": {},
   "outputs": [],
   "source": [
    "dsd = load_dataset(\"fashion_mnist\")\n",
    "dls = get_dls_from_dataset_dict(dsd)"
   ]
  },
  {
   "cell_type": "code",
   "execution_count": 26,
   "id": "5bdb2be0-f9d9-461f-ba9d-75f8f911b0bf",
   "metadata": {},
   "outputs": [],
   "source": [
    "model = nn.Sequential(\n",
    "    conv(1, 4),  # 14x14\n",
    "    conv(4, 8),  # 7x7\n",
    "    conv(8, 16),  # 4x4\n",
    "    conv(16, 16),  # 2x2\n",
    "    conv(16, 10, act=False),  # 1x1\n",
    "    nn.Flatten(),\n",
    ")\n",
    "model = model.to(def_device)"
   ]
  },
  {
   "cell_type": "code",
   "execution_count": 17,
   "id": "c474e89c-3740-4d15-81cb-417f54316f7a",
   "metadata": {},
   "outputs": [],
   "source": [
    "#| hide\n",
    "import nbdev\n",
    "\n",
    "nbdev.nbdev_export()"
   ]
  },
  {
   "cell_type": "code",
   "execution_count": null,
   "id": "7ee5a9da-4f96-4c8f-a590-64edb415256e",
   "metadata": {},
   "outputs": [],
   "source": []
  }
 ],
 "metadata": {
  "kernelspec": {
   "display_name": "SlowAI",
   "language": "python",
   "name": "slowai"
  },
  "language_info": {
   "codemirror_mode": {
    "name": "ipython",
    "version": 3
   },
   "file_extension": ".py",
   "mimetype": "text/x-python",
   "name": "python",
   "nbconvert_exporter": "python",
   "pygments_lexer": "ipython3",
   "version": "3.10.13"
  }
 },
 "nbformat": 4,
 "nbformat_minor": 5
}

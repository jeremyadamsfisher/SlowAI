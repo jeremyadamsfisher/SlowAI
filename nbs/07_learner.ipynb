{
 "cells": [
  {
   "cell_type": "markdown",
   "id": "f7ce5939-77ef-4fc8-9dfd-6d68ca008190",
   "metadata": {},
   "source": [
    "# Learner\n",
    "\n",
    "> Building a framework for the deep learning workflow. A large chunk of this code, in particular, was copied from the course notebook because I'm not interested in the software developer aspects of the course. (I am already a professional software developer.)"
   ]
  },
  {
   "cell_type": "markdown",
   "id": "c63cd008",
   "metadata": {},
   "source": [
    "Adapted from:\n",
    "\n",
    "- [https://youtu.be/0Hi2r4CaHvk?si=GA9KaGAnGOlS_NJO&t=3568](https://youtu.be/0Hi2r4CaHvk?si=GA9KaGAnGOlS_NJO&t=3568)\n",
    "- [https://github.com/fastai/course22p2/blob/master/nbs/09_learner.ipynb](https://github.com/fastai/course22p2/blob/master/nbs/09_learner.ipynb)"
   ]
  },
  {
   "cell_type": "code",
   "execution_count": 1,
   "id": "6c8511f0-53c5-402a-aa71-56fa2041955d",
   "metadata": {},
   "outputs": [],
   "source": [
    "# |default_exp learner"
   ]
  },
  {
   "cell_type": "code",
   "execution_count": 2,
   "id": "66b53d5d-1502-4b49-9c3a-c0248826c27f",
   "metadata": {},
   "outputs": [],
   "source": [
    "# |export\n",
    "import math\n",
    "import multiprocessing\n",
    "import tempfile\n",
    "from copy import copy, deepcopy\n",
    "from functools import lru_cache, partial\n",
    "from pathlib import Path\n",
    "from typing import Mapping, Sequence, Type, Union\n",
    "\n",
    "import fastcore.all as fc\n",
    "import matplotlib.pyplot as plt\n",
    "import torch\n",
    "import torch.nn.functional as F\n",
    "import torchmetrics\n",
    "import torchvision.transforms as T\n",
    "from datasets import load_dataset, load_from_disk\n",
    "from fastprogress import master_bar, progress_bar\n",
    "from IPython.utils import io\n",
    "from torch import optim\n",
    "from torch.optim.lr_scheduler import ExponentialLR\n",
    "from torch.utils.data import DataLoader, default_collate\n",
    "\n",
    "from slowai.autoencoders import get_model as get_ae_model\n",
    "from slowai.convs import def_device, fit, to_device\n",
    "from slowai.utils import Suppressor, show_images"
   ]
  },
  {
   "cell_type": "markdown",
   "id": "4260e77c-5450-45c8-b059-6defbac91924",
   "metadata": {},
   "source": [
    "At this point, Jeremy points out that copying and pasting code leads to bottlenecks in modeling velocity. We need to start to build a framework to:\n",
    "\n",
    "- rapidly try things\n",
    "- figure out where things are broken\n",
    "- load data quickly\n",
    "- transparently assign CUDA devices"
   ]
  },
  {
   "cell_type": "markdown",
   "id": "38ac5669-467a-4357-9222-763ae8c6d781",
   "metadata": {},
   "source": [
    "## Data\n",
    "\n",
    "We'll start with a wrapper around `datasets` to make it simpler to work with raw PyTorch."
   ]
  },
  {
   "cell_type": "code",
   "execution_count": 4,
   "id": "ca9d6204-2070-4411-852f-1c8ebea67c98",
   "metadata": {},
   "outputs": [],
   "source": [
    "# |export\n",
    "class DataLoaders:\n",
    "    \"\"\"Wrapper around huggingface datasets to facilitate raw pytorch work\"\"\"\n",
    "\n",
    "    def __init__(\n",
    "        self,\n",
    "        splits,\n",
    "        nworkers: int = multiprocessing.cpu_count() // 2,\n",
    "        bs=32,\n",
    "        collate_fn=default_collate,\n",
    "        tdir=tempfile.TemporaryDirectory().name,\n",
    "    ):\n",
    "        self.splits = splits\n",
    "        self.nworkers = nworkers\n",
    "        self.bs = bs\n",
    "        self.collate_fn = collate_fn\n",
    "        self.tdir = tdir\n",
    "\n",
    "    @classmethod\n",
    "    def from_dsd(cls, dsd, **kwargs):\n",
    "        return cls(splits=dsd, **kwargs)\n",
    "\n",
    "    @classmethod\n",
    "    def from_hf(cls, dataset_id, **kwargs):\n",
    "        dsd = load_dataset(dataset_id)\n",
    "        return cls.from_dsd(dsd, **kwargs)\n",
    "\n",
    "    def with_transforms(self, ts, batched=True, lazy=False, splits=None):\n",
    "        def map_(batch):\n",
    "            for feature, transform in ts.items():\n",
    "                batch[feature] = transform(batch[feature])\n",
    "            return batch\n",
    "\n",
    "        # TODO: use a function here\n",
    "        if splits is None:\n",
    "            if lazy:\n",
    "                assert batched, \"Lazy transforms must be batched\"\n",
    "                # TODO: make this accretive\n",
    "                self.splits.set_transform(map_)\n",
    "            else:\n",
    "                self.splits = self.splits.map(map_, batched=batched)\n",
    "        else:\n",
    "            for split in splits:\n",
    "                if lazy:\n",
    "                    assert batched, \"Lazy transforms must be batched\"\n",
    "                    # TODO: make this accretive\n",
    "                    self.splits[split].set_transform(map_)\n",
    "                else:\n",
    "                    self.splits[split] = self.splits[split].map(map_, batched=batched)\n",
    "\n",
    "        return self\n",
    "\n",
    "    def listify(self, columns=None):\n",
    "        \"\"\"Yield a list instead of a dictionary\"\"\"\n",
    "        if columns is None:\n",
    "            columns = self.splits[\"train\"].features\n",
    "\n",
    "        s = copy(self)\n",
    "\n",
    "        def collate_fn(examples):\n",
    "            cols = default_collate(examples)\n",
    "            return [cols[f] for f in columns]\n",
    "\n",
    "        s.collate_fn = collate_fn\n",
    "        return s\n",
    "\n",
    "    def get_unique_outputs(self, column):\n",
    "        outputs = set()\n",
    "        for _, split in self.splits.items():\n",
    "            for row in split:\n",
    "                output = row[column]\n",
    "                if isinstance(output, torch.Tensor):\n",
    "                    output = output.item()\n",
    "                outputs.add(output)\n",
    "        return sorted(outputs)\n",
    "\n",
    "    def dl(self, split, nworkers=None):\n",
    "        ds = self.splits[split]\n",
    "        nworkers = self.nworkers if nworkers is None else nworkers\n",
    "        if nworkers > 0:\n",
    "            ds_format = copy(ds.format)\n",
    "            dsd = ds.with_format(\n",
    "                \"torch\"\n",
    "            )  # Doesn't matter which format, but needs to be serializable\n",
    "            dir_ = Path(self.tdir) / split\n",
    "            if not dir_.exists():\n",
    "                if fc.IN_JUPYTER:\n",
    "                    with io.capture_output():\n",
    "                        dsd.save_to_disk(dir_)\n",
    "                else:\n",
    "                    dsd.save_to_disk(dir_)\n",
    "            ds = load_from_disk(dir_).with_format(**ds_format)\n",
    "        return DataLoader(\n",
    "            ds,\n",
    "            batch_size=self.bs,\n",
    "            collate_fn=self.collate_fn,\n",
    "            num_workers=nworkers,\n",
    "        )\n",
    "\n",
    "    def peek(self, split=\"train\"):\n",
    "        dl = self.dl(split, nworkers=0)\n",
    "        batch = next(iter(dl))\n",
    "        return batch\n",
    "\n",
    "    @lru_cache\n",
    "    def __getitem__(self, split):\n",
    "        return self.dl(split)"
   ]
  },
  {
   "cell_type": "code",
   "execution_count": 5,
   "id": "7881d03b-29f5-48c5-99c0-9c1e472e55d4",
   "metadata": {},
   "outputs": [],
   "source": [
    "dls = DataLoaders.from_hf(\"fashion_mnist\", nworkers=2)"
   ]
  },
  {
   "cell_type": "code",
   "execution_count": 6,
   "id": "8d22ad63-5ad2-4295-9399-387d6c17e6a2",
   "metadata": {},
   "outputs": [
    {
     "data": {
      "text/plain": [
       "(torch.Size([32, 28, 28]), torch.Size([32]))"
      ]
     },
     "execution_count": 6,
     "metadata": {},
     "output_type": "execute_result"
    }
   ],
   "source": [
    "dls.splits.set_format(\"torch\")  # This will be overwritten in a second\n",
    "batch = dls.peek()\n",
    "batch[\"image\"].shape, batch[\"label\"].shape"
   ]
  },
  {
   "cell_type": "markdown",
   "id": "fc0b824c-c81d-4ab5-a2e7-bd192c3c0b69",
   "metadata": {},
   "source": [
    "We should also add some helpers to facilitate processing images."
   ]
  },
  {
   "cell_type": "code",
   "execution_count": 7,
   "id": "3d2d96c2-6eb3-43b6-9dc3-3e4b323e7166",
   "metadata": {},
   "outputs": [],
   "source": [
    "# |export\n",
    "pipe = [T.PILToTensor(), T.ConvertImageDtype(torch.float)]\n",
    "to_tensor = T.Compose(pipe)\n",
    "\n",
    "\n",
    "def batchify(f):\n",
    "    \"\"\"Convert a function that processes a single feature\n",
    "    to processing a list of features\"\"\"\n",
    "\n",
    "    def inner_(batch):\n",
    "        return [f(example) for example in batch]\n",
    "\n",
    "    return inner_\n",
    "\n",
    "\n",
    "def tensorize_images(dls, feature=\"image\", normalize=True, pipe=pipe):\n",
    "    \"\"\"Tensorize and normalize the image feature\"\"\"\n",
    "    if normalize:\n",
    "        # Sample 100 images to estimate the mean and standard deviation\n",
    "        imgs = dls.splits[\"train\"].shuffle()[:100][feature]\n",
    "        pixels = torch.stack([to_tensor(img) for img in imgs]).view(-1)\n",
    "        mu = pixels.mean()\n",
    "        sigma = pixels.std()\n",
    "        to_norm_tensor = T.Compose([*pipe, T.Normalize([mu], [sigma])])\n",
    "\n",
    "        return dls.with_transforms({feature: batchify(to_norm_tensor)}, lazy=True)\n",
    "    else:\n",
    "        return dls.with_transforms({feature: batchify(T.Compose(pipe))}, lazy=True)"
   ]
  },
  {
   "cell_type": "code",
   "execution_count": 8,
   "id": "dc0ec7d8-4922-4da5-a9fb-09c40042eb73",
   "metadata": {},
   "outputs": [
    {
     "data": {
      "text/plain": [
       "\u001b[0;31mInit signature:\u001b[0m \u001b[0mT\u001b[0m\u001b[0;34m.\u001b[0m\u001b[0mNormalize\u001b[0m\u001b[0;34m(\u001b[0m\u001b[0mmean\u001b[0m\u001b[0;34m,\u001b[0m \u001b[0mstd\u001b[0m\u001b[0;34m,\u001b[0m \u001b[0minplace\u001b[0m\u001b[0;34m=\u001b[0m\u001b[0;32mFalse\u001b[0m\u001b[0;34m)\u001b[0m\u001b[0;34m\u001b[0m\u001b[0;34m\u001b[0m\u001b[0m\n",
       "\u001b[0;31mDocstring:\u001b[0m     \n",
       "Normalize a tensor image with mean and standard deviation.\n",
       "This transform does not support PIL Image.\n",
       "Given mean: ``(mean[1],...,mean[n])`` and std: ``(std[1],..,std[n])`` for ``n``\n",
       "channels, this transform will normalize each channel of the input\n",
       "``torch.*Tensor`` i.e.,\n",
       "``output[channel] = (input[channel] - mean[channel]) / std[channel]``\n",
       "\n",
       ".. note::\n",
       "    This transform acts out of place, i.e., it does not mutate the input tensor.\n",
       "\n",
       "Args:\n",
       "    mean (sequence): Sequence of means for each channel.\n",
       "    std (sequence): Sequence of standard deviations for each channel.\n",
       "    inplace(bool,optional): Bool to make this operation in-place.\n",
       "\u001b[0;31mInit docstring:\u001b[0m Initializes internal Module state, shared by both nn.Module and ScriptModule.\n",
       "\u001b[0;31mFile:\u001b[0m           ~/micromamba/envs/slowai/lib/python3.11/site-packages/torchvision/transforms/transforms.py\n",
       "\u001b[0;31mType:\u001b[0m           type\n",
       "\u001b[0;31mSubclasses:\u001b[0m     "
      ]
     },
     "metadata": {},
     "output_type": "display_data"
    }
   ],
   "source": [
    "T.Normalize?"
   ]
  },
  {
   "cell_type": "code",
   "execution_count": 9,
   "id": "b5078956-2fe6-4afd-b863-dc8e86addc2c",
   "metadata": {},
   "outputs": [
    {
     "data": {
      "image/png": "[encoded data removed]",
      "text/plain": [
       "<Figure size 800x400 with 8 Axes>"
      ]
     },
     "metadata": {},
     "output_type": "display_data"
    }
   ],
   "source": [
    "dls = DataLoaders.from_hf(\"fashion_mnist\", nworkers=0)\n",
    "dls = tensorize_images(dls)\n",
    "xb = dls.peek()[\"image\"]\n",
    "show_images(xb[:8, ...], figsize=(8, 4))"
   ]
  },
  {
   "cell_type": "code",
   "execution_count": 10,
   "id": "797f2669-9171-4612-a279-e1e3fb4a4a86",
   "metadata": {},
   "outputs": [
    {
     "data": {
      "text/plain": [
       "(tensor(-0.8286), tensor(2.0066))"
      ]
     },
     "execution_count": 10,
     "metadata": {},
     "output_type": "execute_result"
    }
   ],
   "source": [
    "xb.min(), xb.max()"
   ]
  },
  {
   "cell_type": "markdown",
   "id": "96431ced-ff4c-41f7-b67f-d6bab4fb798a",
   "metadata": {},
   "source": [
    "Notice that this unit-normalized"
   ]
  },
  {
   "cell_type": "code",
   "execution_count": 11,
   "id": "d8ef8519-035a-4d13-b369-851611e9fb3d",
   "metadata": {},
   "outputs": [
    {
     "data": {
      "text/plain": [
       "(array([13418.,   607.,   687.,  1014.,  1057.,  1076.,  1408.,  2054.,\n",
       "         2393.,  1374.]),\n",
       " array([-0.82863587, -0.5451138 , -0.26159173,  0.02193036,  0.30545244,\n",
       "         0.58897448,  0.8724966 ,  1.15601861,  1.43954074,  1.72306275,\n",
       "         2.00658488]),\n",
       " <BarContainer object of 10 artists>)"
      ]
     },
     "execution_count": 11,
     "metadata": {},
     "output_type": "execute_result"
    },
    {
     "data": {
      "image/png": "[encoded data removed]",
      "text/plain": [
       "<Figure size 640x480 with 1 Axes>"
      ]
     },
     "metadata": {},
     "output_type": "display_data"
    }
   ],
   "source": [
    "plt.hist(xb.view(-1))"
   ]
  },
  {
   "cell_type": "markdown",
   "id": "83b5d597-c473-42e1-9fe0-55e6f3cd9745",
   "metadata": {},
   "source": [
    "## Learner and callbacks"
   ]
  },
  {
   "cell_type": "markdown",
   "id": "33617b61-5b9f-49f4-8adb-ebb8a752c9d6",
   "metadata": {},
   "source": [
    "Next, we'll add a learner with callbacks. Recall, this was our earlier fit function:"
   ]
  },
  {
   "cell_type": "code",
   "execution_count": 12,
   "id": "c1063e32-c545-4de7-a4c8-83eb493084eb",
   "metadata": {},
   "outputs": [
    {
     "data": {
      "text/plain": [
       "\u001b[0;31mSignature:\u001b[0m \u001b[0mfit\u001b[0m\u001b[0;34m(\u001b[0m\u001b[0mepochs\u001b[0m\u001b[0;34m,\u001b[0m \u001b[0mmodel\u001b[0m\u001b[0;34m,\u001b[0m \u001b[0mloss_func\u001b[0m\u001b[0;34m,\u001b[0m \u001b[0mopt\u001b[0m\u001b[0;34m,\u001b[0m \u001b[0mtrain_dl\u001b[0m\u001b[0;34m,\u001b[0m \u001b[0mvalid_dl\u001b[0m\u001b[0;34m,\u001b[0m \u001b[0mtqdm_\u001b[0m\u001b[0;34m=\u001b[0m\u001b[0;32mFalse\u001b[0m\u001b[0;34m)\u001b[0m\u001b[0;34m\u001b[0m\u001b[0;34m\u001b[0m\u001b[0m\n",
       "\u001b[0;31mDocstring:\u001b[0m <no docstring>\n",
       "\u001b[0;31mSource:\u001b[0m   \n",
       "\u001b[0;32mdef\u001b[0m \u001b[0mfit\u001b[0m\u001b[0;34m(\u001b[0m\u001b[0mepochs\u001b[0m\u001b[0;34m,\u001b[0m \u001b[0mmodel\u001b[0m\u001b[0;34m,\u001b[0m \u001b[0mloss_func\u001b[0m\u001b[0;34m,\u001b[0m \u001b[0mopt\u001b[0m\u001b[0;34m,\u001b[0m \u001b[0mtrain_dl\u001b[0m\u001b[0;34m,\u001b[0m \u001b[0mvalid_dl\u001b[0m\u001b[0;34m,\u001b[0m \u001b[0mtqdm_\u001b[0m\u001b[0;34m=\u001b[0m\u001b[0;32mFalse\u001b[0m\u001b[0;34m)\u001b[0m\u001b[0;34m:\u001b[0m\u001b[0;34m\u001b[0m\n",
       "\u001b[0;34m\u001b[0m    \u001b[0mprogress\u001b[0m \u001b[0;34m=\u001b[0m \u001b[0mtqdm\u001b[0m \u001b[0;32mif\u001b[0m \u001b[0mtqdm_\u001b[0m \u001b[0;32melse\u001b[0m \u001b[0;32mlambda\u001b[0m \u001b[0mx\u001b[0m\u001b[0;34m:\u001b[0m \u001b[0mx\u001b[0m\u001b[0;34m\u001b[0m\n",
       "\u001b[0;34m\u001b[0m    \u001b[0;32mfor\u001b[0m \u001b[0mepoch\u001b[0m \u001b[0;32min\u001b[0m \u001b[0mrange\u001b[0m\u001b[0;34m(\u001b[0m\u001b[0mepochs\u001b[0m\u001b[0;34m)\u001b[0m\u001b[0;34m:\u001b[0m\u001b[0;34m\u001b[0m\n",
       "\u001b[0;34m\u001b[0m        \u001b[0mmodel\u001b[0m\u001b[0;34m.\u001b[0m\u001b[0mtrain\u001b[0m\u001b[0;34m(\u001b[0m\u001b[0;34m)\u001b[0m\u001b[0;34m\u001b[0m\n",
       "\u001b[0;34m\u001b[0m        \u001b[0;32mfor\u001b[0m \u001b[0mbatch\u001b[0m \u001b[0;32min\u001b[0m \u001b[0mprogress\u001b[0m\u001b[0;34m(\u001b[0m\u001b[0mtrain_dl\u001b[0m\u001b[0;34m)\u001b[0m\u001b[0;34m:\u001b[0m\u001b[0;34m\u001b[0m\n",
       "\u001b[0;34m\u001b[0m            \u001b[0mxb\u001b[0m\u001b[0;34m,\u001b[0m \u001b[0myb\u001b[0m \u001b[0;34m=\u001b[0m \u001b[0mmap\u001b[0m\u001b[0;34m(\u001b[0m\u001b[0mto_device\u001b[0m\u001b[0;34m,\u001b[0m \u001b[0mbatch\u001b[0m\u001b[0;34m)\u001b[0m\u001b[0;34m\u001b[0m\n",
       "\u001b[0;34m\u001b[0m            \u001b[0mloss\u001b[0m \u001b[0;34m=\u001b[0m \u001b[0mloss_func\u001b[0m\u001b[0;34m(\u001b[0m\u001b[0mmodel\u001b[0m\u001b[0;34m(\u001b[0m\u001b[0mxb\u001b[0m\u001b[0;34m)\u001b[0m\u001b[0;34m,\u001b[0m \u001b[0myb\u001b[0m\u001b[0;34m)\u001b[0m\u001b[0;34m\u001b[0m\n",
       "\u001b[0;34m\u001b[0m            \u001b[0mloss\u001b[0m\u001b[0;34m.\u001b[0m\u001b[0mbackward\u001b[0m\u001b[0;34m(\u001b[0m\u001b[0;34m)\u001b[0m\u001b[0;34m\u001b[0m\n",
       "\u001b[0;34m\u001b[0m            \u001b[0mopt\u001b[0m\u001b[0;34m.\u001b[0m\u001b[0mstep\u001b[0m\u001b[0;34m(\u001b[0m\u001b[0;34m)\u001b[0m\u001b[0;34m\u001b[0m\n",
       "\u001b[0;34m\u001b[0m            \u001b[0mopt\u001b[0m\u001b[0;34m.\u001b[0m\u001b[0mzero_grad\u001b[0m\u001b[0;34m(\u001b[0m\u001b[0;34m)\u001b[0m\u001b[0;34m\u001b[0m\n",
       "\u001b[0;34m\u001b[0m\u001b[0;34m\u001b[0m\n",
       "\u001b[0;34m\u001b[0m        \u001b[0mmodel\u001b[0m\u001b[0;34m.\u001b[0m\u001b[0meval\u001b[0m\u001b[0;34m(\u001b[0m\u001b[0;34m)\u001b[0m\u001b[0;34m\u001b[0m\n",
       "\u001b[0;34m\u001b[0m        \u001b[0;32mwith\u001b[0m \u001b[0mtorch\u001b[0m\u001b[0;34m.\u001b[0m\u001b[0mno_grad\u001b[0m\u001b[0;34m(\u001b[0m\u001b[0;34m)\u001b[0m\u001b[0;34m:\u001b[0m\u001b[0;34m\u001b[0m\n",
       "\u001b[0;34m\u001b[0m            \u001b[0mtot_loss\u001b[0m\u001b[0;34m,\u001b[0m \u001b[0mtot_acc\u001b[0m\u001b[0;34m,\u001b[0m \u001b[0mcount\u001b[0m \u001b[0;34m=\u001b[0m \u001b[0;36m0.0\u001b[0m\u001b[0;34m,\u001b[0m \u001b[0;36m0.0\u001b[0m\u001b[0;34m,\u001b[0m \u001b[0;36m0\u001b[0m\u001b[0;34m\u001b[0m\n",
       "\u001b[0;34m\u001b[0m            \u001b[0;32mfor\u001b[0m \u001b[0mbatch\u001b[0m \u001b[0;32min\u001b[0m \u001b[0mprogress\u001b[0m\u001b[0;34m(\u001b[0m\u001b[0mvalid_dl\u001b[0m\u001b[0;34m)\u001b[0m\u001b[0;34m:\u001b[0m\u001b[0;34m\u001b[0m\n",
       "\u001b[0;34m\u001b[0m                \u001b[0mxb\u001b[0m\u001b[0;34m,\u001b[0m \u001b[0myb\u001b[0m \u001b[0;34m=\u001b[0m \u001b[0mmap\u001b[0m\u001b[0;34m(\u001b[0m\u001b[0mto_device\u001b[0m\u001b[0;34m,\u001b[0m \u001b[0mbatch\u001b[0m\u001b[0;34m)\u001b[0m\u001b[0;34m\u001b[0m\n",
       "\u001b[0;34m\u001b[0m                \u001b[0mpred\u001b[0m \u001b[0;34m=\u001b[0m \u001b[0mmodel\u001b[0m\u001b[0;34m(\u001b[0m\u001b[0mxb\u001b[0m\u001b[0;34m)\u001b[0m\u001b[0;34m\u001b[0m\n",
       "\u001b[0;34m\u001b[0m                \u001b[0mn\u001b[0m \u001b[0;34m=\u001b[0m \u001b[0mlen\u001b[0m\u001b[0;34m(\u001b[0m\u001b[0mxb\u001b[0m\u001b[0;34m)\u001b[0m\u001b[0;34m\u001b[0m\n",
       "\u001b[0;34m\u001b[0m                \u001b[0mcount\u001b[0m \u001b[0;34m+=\u001b[0m \u001b[0mn\u001b[0m\u001b[0;34m\u001b[0m\n",
       "\u001b[0;34m\u001b[0m                \u001b[0mtot_loss\u001b[0m \u001b[0;34m+=\u001b[0m \u001b[0mloss_func\u001b[0m\u001b[0;34m(\u001b[0m\u001b[0mpred\u001b[0m\u001b[0;34m,\u001b[0m \u001b[0myb\u001b[0m\u001b[0;34m)\u001b[0m\u001b[0;34m.\u001b[0m\u001b[0mitem\u001b[0m\u001b[0;34m(\u001b[0m\u001b[0;34m)\u001b[0m \u001b[0;34m*\u001b[0m \u001b[0mn\u001b[0m\u001b[0;34m\u001b[0m\n",
       "\u001b[0;34m\u001b[0m                \u001b[0mtot_acc\u001b[0m \u001b[0;34m+=\u001b[0m \u001b[0maccuracy\u001b[0m\u001b[0;34m(\u001b[0m\u001b[0mpred\u001b[0m\u001b[0;34m,\u001b[0m \u001b[0myb\u001b[0m\u001b[0;34m)\u001b[0m\u001b[0;34m.\u001b[0m\u001b[0mitem\u001b[0m\u001b[0;34m(\u001b[0m\u001b[0;34m)\u001b[0m \u001b[0;34m*\u001b[0m \u001b[0mn\u001b[0m\u001b[0;34m\u001b[0m\n",
       "\u001b[0;34m\u001b[0m\u001b[0;34m\u001b[0m\n",
       "\u001b[0;34m\u001b[0m        \u001b[0mprint\u001b[0m\u001b[0;34m(\u001b[0m\u001b[0;34m\u001b[0m\n",
       "\u001b[0;34m\u001b[0m            \u001b[0;34mf\"{epoch=}, validation loss={tot_loss / count:.3f}, validation accuracy={tot_acc / count:.2f}\"\u001b[0m\u001b[0;34m\u001b[0m\n",
       "\u001b[0;34m\u001b[0m        \u001b[0;34m)\u001b[0m\u001b[0;34m\u001b[0m\n",
       "\u001b[0;34m\u001b[0m    \u001b[0;32mreturn\u001b[0m \u001b[0mtot_loss\u001b[0m \u001b[0;34m/\u001b[0m \u001b[0mcount\u001b[0m\u001b[0;34m,\u001b[0m \u001b[0mtot_acc\u001b[0m \u001b[0;34m/\u001b[0m \u001b[0mcount\u001b[0m\u001b[0;34m\u001b[0m\u001b[0;34m\u001b[0m\u001b[0m\n",
       "\u001b[0;31mFile:\u001b[0m      ~/Desktop/SlowAI/nbs/slowai/convs.py\n",
       "\u001b[0;31mType:\u001b[0m      function"
      ]
     },
     "metadata": {},
     "output_type": "display_data"
    }
   ],
   "source": [
    "fit??"
   ]
  },
  {
   "cell_type": "markdown",
   "id": "4c4267ea-d7c5-4037-a56c-fcddb466fc76",
   "metadata": {},
   "source": [
    "To add callbacks, we need a few clever Exception control flow signals"
   ]
  },
  {
   "cell_type": "code",
   "execution_count": 13,
   "id": "938d1f98-a5e3-4871-aee2-8c070bfae556",
   "metadata": {},
   "outputs": [],
   "source": [
    "# |export\n",
    "class CancelFitException(Exception):\n",
    "    \"\"\"Exit fit context\"\"\"\n",
    "\n",
    "\n",
    "class CancelBatchException(Exception):\n",
    "    \"\"\"Skip to the next batch\"\"\"\n",
    "\n",
    "\n",
    "class CancelEpochException(Exception):\n",
    "    \"\"\"Skip to the next epoch\"\"\""
   ]
  },
  {
   "cell_type": "markdown",
   "id": "476e2172-c124-4201-93b8-e00946d0ba9b",
   "metadata": {},
   "source": [
    "Then, we define the learner and callback classes"
   ]
  },
  {
   "cell_type": "code",
   "execution_count": 14,
   "id": "fc6f98f8-6da8-466f-8539-0cce54ac2f0c",
   "metadata": {},
   "outputs": [],
   "source": [
    "# |export\n",
    "class Callback:\n",
    "    \"\"\"Modify the training behavior\"\"\"\n",
    "\n",
    "    def __init_subclass__(cls, order=0) -> None:\n",
    "        cls.order = order\n",
    "        super().__init_subclass__()"
   ]
  },
  {
   "cell_type": "code",
   "execution_count": 15,
   "id": "31ad960e-e66e-4ce3-a2f2-df569676592b",
   "metadata": {},
   "outputs": [],
   "source": [
    "# |export\n",
    "class with_cbs:\n",
    "    \"\"\"Run the callbacks lifecycle at the apropriate time\"\"\"\n",
    "\n",
    "    def __init__(self, nm):\n",
    "        self.nm = nm\n",
    "\n",
    "    def __call__(self, f):\n",
    "        def _f(o, *args, **kwargs):\n",
    "            try:\n",
    "                o.callback(f\"before_{self.nm}\")\n",
    "                f(o, *args, **kwargs)\n",
    "                o.callback(f\"after_{self.nm}\")\n",
    "            except globals()[f\"Cancel{self.nm.title()}Exception\"]:\n",
    "                pass\n",
    "            finally:\n",
    "                o.callback(f\"cleanup_{self.nm}\")\n",
    "\n",
    "        return _f"
   ]
  },
  {
   "cell_type": "code",
   "execution_count": 16,
   "id": "7257a13f-b39d-4d16-b4d0-44de3c68cf95",
   "metadata": {},
   "outputs": [],
   "source": [
    "# |export\n",
    "def only(f):\n",
    "    \"\"\"If the lifecycle hook is decorated as such, only run this\n",
    "    hook and not other callbacks' hooks\"\"\"\n",
    "    f.only = True\n",
    "    return f"
   ]
  },
  {
   "cell_type": "code",
   "execution_count": 17,
   "id": "47510884-1785-4639-a9ce-e9aadec76aa0",
   "metadata": {},
   "outputs": [],
   "source": [
    "# |export\n",
    "class Learner:\n",
    "    \"\"\"Flexible training loop\"\"\"\n",
    "\n",
    "    def __init__(\n",
    "        self,\n",
    "        model,\n",
    "        dls,\n",
    "        loss_func=F.mse_loss,\n",
    "        lr=0.1,\n",
    "        cbs=None,\n",
    "        opt_func=optim.SGD,\n",
    "    ):\n",
    "        cbs = fc.L(cbs)\n",
    "        fc.store_attr()\n",
    "\n",
    "    def run_cbs(self, method_nm):\n",
    "        for cb in self.cbs:\n",
    "            method = getattr(cb, method_nm, None)\n",
    "            if method is not None:\n",
    "                if getattr(method, \"only\", False):\n",
    "                    method(self)\n",
    "                    return\n",
    "        for cb in sorted(self.cbs, key=lambda cb: cb.order):\n",
    "            method = getattr(cb, method_nm, None)\n",
    "            if method is not None:\n",
    "                method(self)\n",
    "\n",
    "    @with_cbs(\"batch\")\n",
    "    def _one_batch(self):\n",
    "        self.predict()\n",
    "        self.callback(\"after_predict\")\n",
    "        self.get_loss()\n",
    "        self.callback(\"after_loss\")\n",
    "        if self.training:\n",
    "            self.backward()\n",
    "            self.callback(\"after_backward\")\n",
    "            self.step()\n",
    "            self.callback(\"after_step\")\n",
    "            self.zero_grad()\n",
    "\n",
    "    @with_cbs(\"epoch\")\n",
    "    def _one_epoch(self):\n",
    "        for self.iter, self.batch in enumerate(self.dl):\n",
    "            self._one_batch()\n",
    "\n",
    "    def one_epoch(self, training):\n",
    "        self.model.train(training)\n",
    "        # Note that __getattr__ is lru_cache'd\n",
    "        # TODO: test whether this actually makes things faster\n",
    "        self.dl = self.dls[\"train\" if training else \"test\"]\n",
    "        self._one_epoch()\n",
    "\n",
    "    @with_cbs(\"fit\")\n",
    "    def _fit(self, train, valid):\n",
    "        for self.epoch in self.epochs:\n",
    "            if train:\n",
    "                self.one_epoch(True)\n",
    "            if valid:\n",
    "                torch.no_grad()(self.one_epoch)(False)\n",
    "\n",
    "    def fit(self, n_epochs=1, train=True, valid=True, cbs=None, lr=None):\n",
    "        with tempfile.TemporaryDirectory() as tdir:\n",
    "            self.dls.tdir = tdir\n",
    "            cbs = fc.L(cbs)\n",
    "            # `add_cb` and `rm_cb` were added in lesson 18\n",
    "            for cb in cbs:\n",
    "                self.cbs.append(cb)\n",
    "            try:\n",
    "                self.n_epochs = n_epochs\n",
    "                self.epochs = range(n_epochs)\n",
    "                if lr is None:\n",
    "                    lr = self.lr\n",
    "                if self.opt_func:\n",
    "                    self.opt = self.opt_func(self.model.parameters(), lr)\n",
    "                self._fit(train, valid)\n",
    "            finally:\n",
    "                for cb in cbs:\n",
    "                    self.cbs.remove(cb)\n",
    "\n",
    "    def __getattr__(self, name):\n",
    "        if name in (\"predict\", \"get_loss\", \"backward\", \"step\", \"zero_grad\"):\n",
    "            return partial(self.callback, name)\n",
    "        raise AttributeError(name)\n",
    "\n",
    "    def callback(self, method_nm):\n",
    "        self.run_cbs(method_nm)\n",
    "\n",
    "    @property\n",
    "    def training(self):\n",
    "        return self.model.training"
   ]
  },
  {
   "cell_type": "markdown",
   "id": "41c097a3-7b02-4dc5-9d99-4f14b87e7737",
   "metadata": {},
   "source": [
    "This learner delegates all aspects of model training to callbacks, so something like this is neccesary."
   ]
  },
  {
   "cell_type": "code",
   "execution_count": 18,
   "id": "5bba6c05-aaa0-4a53-81f5-5a000030d3d9",
   "metadata": {},
   "outputs": [],
   "source": [
    "# |export\n",
    "class TrainCB(Callback):\n",
    "    \"\"\"Training specific behaviors for the `Learner`\"\"\"\n",
    "\n",
    "    def predict(self, learn):\n",
    "        xb = learn.batch\n",
    "        learn.preds = learn.model(*xb)\n",
    "\n",
    "    def get_loss(self, learn):\n",
    "        _, yb = learn.batch\n",
    "        learn.loss = learn.loss_func(learn.preds, yb)\n",
    "\n",
    "    def backward(self, learn):\n",
    "        learn.loss.backward()\n",
    "\n",
    "    def step(self, learn):\n",
    "        learn.opt.step()\n",
    "\n",
    "    def zero_grad(self, learn):\n",
    "        learn.opt.zero_grad()"
   ]
  },
  {
   "cell_type": "markdown",
   "id": "fd0fe85c-1c4c-4ebc-b75e-06bdd15cf062",
   "metadata": {},
   "source": [
    "Now that we have the basic scaffolding, we'll add metrics. Updating and storing state will be handled by `torchmetrics`, but we'll define a callback to orchestrate the torchmetrics instances."
   ]
  },
  {
   "cell_type": "code",
   "execution_count": 19,
   "id": "2abbf243-dc89-436a-81e0-3c81eabf6a2c",
   "metadata": {},
   "outputs": [],
   "source": [
    "# |export\n",
    "class MetricsCB(Callback):\n",
    "    \"\"\"Update and print metrics\"\"\"\n",
    "\n",
    "    def __init__(self, *ms, **metrics):\n",
    "        for o in ms:\n",
    "            metrics[type(o).__name__] = o\n",
    "        self.metrics = metrics\n",
    "        self.all_metrics = copy(metrics)\n",
    "        self.all_metrics[\"loss\"] = self.loss = torchmetrics.aggregation.MeanMetric()\n",
    "\n",
    "    def _log(self, d, learn):\n",
    "        print(d)\n",
    "\n",
    "    def before_fit(self, learn):\n",
    "        learn.metrics = self\n",
    "\n",
    "    def before_epoch(self, learn):\n",
    "        [o.reset() for o in self.all_metrics.values()]\n",
    "\n",
    "    def after_epoch(self, learn):\n",
    "        log = {k: f\"{v.compute():.3f}\" for k, v in self.all_metrics.items()}\n",
    "        log[\"epoch\"] = learn.epoch\n",
    "        log[\"train\"] = \"train\" if learn.model.training else \"eval\"\n",
    "        self._log(log, learn)\n",
    "\n",
    "    def after_batch(self, learn):\n",
    "        x, y = to_cpu(learn.batch)\n",
    "        for m in self.metrics.values():\n",
    "            m.update(learn.preds.cpu(), y)\n",
    "        self.loss.update(learn.loss.cpu(), weight=len(x))"
   ]
  },
  {
   "cell_type": "markdown",
   "id": "a62e0401-430b-4470-87ca-758a798cfe4a",
   "metadata": {},
   "source": [
    "Finally, we can define a Trainer callback specifically for the autoencoder objective."
   ]
  },
  {
   "cell_type": "code",
   "execution_count": 20,
   "id": "db5a5b3f-b71c-48d3-8d9a-09224098e919",
   "metadata": {},
   "outputs": [],
   "source": [
    "class TrainAutoencoderCB(TrainCB):\n",
    "    \"\"\"Modify the training loop for the ELBO objective\"\"\"\n",
    "\n",
    "    def predict(self, learn):\n",
    "        xb, *_ = learn.batch\n",
    "        learn.preds = learn.model(xb)\n",
    "\n",
    "    def get_loss(self, learn):\n",
    "        xb, *_ = learn.batch\n",
    "        learn.loss = learn.loss_func(learn.preds, xb)"
   ]
  },
  {
   "cell_type": "markdown",
   "id": "152a7443-166b-40a0-bc39-4b2365c220e8",
   "metadata": {},
   "source": [
    "Let's also define some additional useful callbacks and dataset helpers:"
   ]
  },
  {
   "cell_type": "code",
   "execution_count": 21,
   "id": "11e9fd4f-55a1-4710-bb70-c943741ede37",
   "metadata": {},
   "outputs": [],
   "source": [
    "# |export\n",
    "class DeviceCB(Callback):\n",
    "    \"\"\"Move tensors and model to the CPU/GPU/etc\"\"\"\n",
    "\n",
    "    def __init__(self, device=def_device):\n",
    "        fc.store_attr()\n",
    "\n",
    "    def before_fit(self, learn):\n",
    "        if hasattr(learn.model, \"to\"):\n",
    "            learn.model.to(self.device)\n",
    "\n",
    "    def before_batch(self, learn):\n",
    "        learn.batch = to_device(learn.batch, device=self.device)\n",
    "\n",
    "\n",
    "def after(callback_cls: Union[Sequence[Type[Callback]], Type[Callback]]):\n",
    "    \"\"\"Run a callback after another callback\"\"\"\n",
    "    if isinstance(callback_cls, type):\n",
    "        return callback_cls.order + 1\n",
    "    else:\n",
    "        return max(c.order for c in callback_cls) + 1\n",
    "\n",
    "\n",
    "def before(callback_cls: Union[Sequence[Type[Callback]], Type[Callback]]):\n",
    "    \"\"\"Run a callback before another callback\"\"\"\n",
    "    if isinstance(callback_cls, type):\n",
    "        return callback_cls.order - 1\n",
    "    else:\n",
    "        return min(c.order for c in callback_cls) + 1\n",
    "\n",
    "\n",
    "class ProgressCB(Callback, order=after(MetricsCB)):\n",
    "    \"\"\"Report the progress\"\"\"\n",
    "\n",
    "    def __init__(self, plot=False, periodicity=10):\n",
    "        self.plot = plot\n",
    "        self.periodicity = periodicity\n",
    "        self.i = 0\n",
    "\n",
    "    def before_fit(self, learn):\n",
    "        learn.epochs = self.mbar = master_bar(learn.epochs)\n",
    "        self.first = True\n",
    "        if hasattr(learn, \"metrics\"):\n",
    "            learn.metrics._log = self._log\n",
    "        self.losses = []\n",
    "        self.val_losses = []\n",
    "\n",
    "    def _log(self, d, learn):\n",
    "        if self.first:\n",
    "            self.mbar.write(list(d), table=True)\n",
    "            self.first = False\n",
    "        self.mbar.write(list(d.values()), table=True)\n",
    "\n",
    "    def before_epoch(self, learn):\n",
    "        learn.dl = progress_bar(learn.dl, leave=False, parent=self.mbar)\n",
    "\n",
    "    def after_batch(self, learn):\n",
    "        learn.dl.comment = f\"{learn.loss:.3f}\"\n",
    "        if self.plot and hasattr(learn, \"metrics\") and learn.training:\n",
    "            self.losses.append(learn.loss.item())\n",
    "            if self.val_losses and self.i % self.periodicity == 0:\n",
    "                x = [fc.L.range(self.losses), self.losses]\n",
    "                steps = fc.L.range(learn.epoch).map(\n",
    "                    lambda x: (x + 1) * len(learn.dls[\"train\"])\n",
    "                )\n",
    "                y = [steps, self.val_losses]\n",
    "                self.mbar.update_graph([x, y])\n",
    "        self.i += 1\n",
    "\n",
    "    def after_epoch(self, learn):\n",
    "        if not learn.training:\n",
    "            if self.plot and hasattr(learn, \"metrics\"):\n",
    "                self.val_losses.append(learn.metrics.all_metrics[\"loss\"].compute())\n",
    "                x = [fc.L.range(self.losses), self.losses]\n",
    "                steps = fc.L.range(learn.epoch + 1).map(\n",
    "                    lambda x: (x + 1) * len(learn.dls[\"train\"])\n",
    "                )\n",
    "                y = [steps, self.val_losses]\n",
    "                self.mbar.update_graph([x, y])"
   ]
  },
  {
   "cell_type": "code",
   "execution_count": 22,
   "id": "c6b2b569-883b-4c4e-986e-74acefe4ace5",
   "metadata": {},
   "outputs": [],
   "source": [
    "# |export\n",
    "def to_cpu(x):\n",
    "    if isinstance(x, Mapping):\n",
    "        return {k: to_cpu(v) for k, v in x.items()}\n",
    "    if isinstance(x, list):\n",
    "        return [to_cpu(o) for o in x]\n",
    "    if isinstance(x, tuple):\n",
    "        return tuple(to_cpu(list(x)))\n",
    "    res = x.detach().cpu()\n",
    "    return res.float() if res.dtype == torch.float16 else res"
   ]
  },
  {
   "cell_type": "code",
   "execution_count": 23,
   "id": "783dde98-195a-428b-920f-fae809892d88",
   "metadata": {},
   "outputs": [],
   "source": [
    "# |export\n",
    "def fashion_mnist(bs=2048, **kwargs):\n",
    "    \"\"\"Helper to use fashion MNIST\"\"\"\n",
    "    return tensorize_images(\n",
    "        DataLoaders.from_hf(\"fashion_mnist\", bs=bs, nworkers=4),\n",
    "        **kwargs\n",
    "    ).listify()"
   ]
  },
  {
   "cell_type": "code",
   "execution_count": 24,
   "id": "300fa258-094e-42b7-ae9c-9073dcb2b16d",
   "metadata": {},
   "outputs": [
    {
     "data": {
      "text/plain": [
       "\u001b[0;31mInit signature:\u001b[0m\n",
       "\u001b[0mDataLoaders\u001b[0m\u001b[0;34m(\u001b[0m\u001b[0;34m\u001b[0m\n",
       "\u001b[0;34m\u001b[0m    \u001b[0msplits\u001b[0m\u001b[0;34m,\u001b[0m\u001b[0;34m\u001b[0m\n",
       "\u001b[0;34m\u001b[0m    \u001b[0mnworkers\u001b[0m\u001b[0;34m:\u001b[0m \u001b[0mint\u001b[0m \u001b[0;34m=\u001b[0m \u001b[0;36m6\u001b[0m\u001b[0;34m,\u001b[0m\u001b[0;34m\u001b[0m\n",
       "\u001b[0;34m\u001b[0m    \u001b[0mbs\u001b[0m\u001b[0;34m=\u001b[0m\u001b[0;36m32\u001b[0m\u001b[0;34m,\u001b[0m\u001b[0;34m\u001b[0m\n",
       "\u001b[0;34m\u001b[0m    \u001b[0mcollate_fn\u001b[0m\u001b[0;34m=\u001b[0m\u001b[0;34m<\u001b[0m\u001b[0mfunction\u001b[0m \u001b[0mdefault_collate\u001b[0m \u001b[0mat\u001b[0m \u001b[0;36m0x7f88ed959120\u001b[0m\u001b[0;34m>\u001b[0m\u001b[0;34m,\u001b[0m\u001b[0;34m\u001b[0m\n",
       "\u001b[0;34m\u001b[0m    \u001b[0mtdir\u001b[0m\u001b[0;34m=\u001b[0m\u001b[0;34m'/tmp/tmpmsi_fg04'\u001b[0m\u001b[0;34m,\u001b[0m\u001b[0;34m\u001b[0m\n",
       "\u001b[0;34m\u001b[0m\u001b[0;34m)\u001b[0m\u001b[0;34m\u001b[0m\u001b[0;34m\u001b[0m\u001b[0m\n",
       "\u001b[0;31mDocstring:\u001b[0m      Wrapper around huggingface datasets to facilitate raw pytorch work\n",
       "\u001b[0;31mType:\u001b[0m           type\n",
       "\u001b[0;31mSubclasses:\u001b[0m     "
      ]
     },
     "metadata": {},
     "output_type": "display_data"
    }
   ],
   "source": [
    "DataLoaders??"
   ]
  },
  {
   "cell_type": "markdown",
   "id": "5fa0db27-be4f-4f73-9535-c9a67b3c6b42",
   "metadata": {},
   "source": [
    "Putting it all together"
   ]
  },
  {
   "cell_type": "code",
   "execution_count": 25,
   "id": "73d30358-150d-488b-a134-8c7fec5deb2e",
   "metadata": {},
   "outputs": [
    {
     "name": "stdout",
     "output_type": "stream",
     "text": [
      "{'type': 'custom', 'format_kwargs': {'transform': <function DataLoaders.with_transforms.<locals>.map_ at 0x7f885457b1a0>}, 'columns': ['image', 'label'], 'output_all_columns': False}\n"
     ]
    },
    {
     "data": {
      "text/html": [
       "\n",
       "<style>\n",
       "    /* Turns off some styling */\n",
       "    progress {\n",
       "        /* gets rid of default border in Firefox and Opera. */\n",
       "        border: none;\n",
       "        /* Needs to be in here for Safari polyfill so background images work as expected. */\n",
       "        background-size: auto;\n",
       "    }\n",
       "    progress:not([value]), progress:not([value])::-webkit-progress-bar {\n",
       "        background: repeating-linear-gradient(45deg, #7e7e7e, #7e7e7e 10px, #5c5c5c 10px, #5c5c5c 20px);\n",
       "    }\n",
       "    .progress-bar-interrupted, .progress-bar-interrupted::-webkit-progress-bar {\n",
       "        background: #F44336;\n",
       "    }\n",
       "</style>\n"
      ],
      "text/plain": [
       "<IPython.core.display.HTML object>"
      ]
     },
     "metadata": {},
     "output_type": "display_data"
    },
    {
     "data": {
      "text/html": [
       "<table border=\"1\" class=\"dataframe\">\n",
       "  <thead>\n",
       "    <tr style=\"text-align: left;\">\n",
       "      <th>loss</th>\n",
       "      <th>epoch</th>\n",
       "      <th>train</th>\n",
       "    </tr>\n",
       "  </thead>\n",
       "  <tbody>\n",
       "    <tr>\n",
       "      <td>1.071</td>\n",
       "      <td>0</td>\n",
       "      <td>train</td>\n",
       "    </tr>\n",
       "    <tr>\n",
       "      <td>0.955</td>\n",
       "      <td>0</td>\n",
       "      <td>eval</td>\n",
       "    </tr>\n",
       "    <tr>\n",
       "      <td>0.908</td>\n",
       "      <td>1</td>\n",
       "      <td>train</td>\n",
       "    </tr>\n",
       "    <tr>\n",
       "      <td>0.854</td>\n",
       "      <td>1</td>\n",
       "      <td>eval</td>\n",
       "    </tr>\n",
       "  </tbody>\n",
       "</table>"
      ],
      "text/plain": [
       "<IPython.core.display.HTML object>"
      ]
     },
     "metadata": {},
     "output_type": "display_data"
    },
    {
     "data": {
      "image/png": "[encoded data removed]",
      "text/plain": [
       "<Figure size 600x400 with 1 Axes>"
      ]
     },
     "metadata": {},
     "output_type": "display_data"
    },
    {
     "name": "stdout",
     "output_type": "stream",
     "text": [
      "CPU times: user 3.98 s, sys: 2.42 s, total: 6.4 s\n",
      "Wall time: 11.2 s\n"
     ]
    }
   ],
   "source": [
    "%%time\n",
    "model = get_ae_model()\n",
    "dls = fashion_mnist()\n",
    "print(dls.splits[\"train\"].format)\n",
    "cbs = [\n",
    "    MetricsCB(),\n",
    "    DeviceCB(),\n",
    "    TrainAutoencoderCB(),\n",
    "    ProgressCB(plot=True),\n",
    "]\n",
    "learn = Learner(\n",
    "    model,\n",
    "    dls,\n",
    "    F.mse_loss,\n",
    "    lr=0.01,\n",
    "    cbs=cbs,\n",
    "    opt_func=torch.optim.AdamW,\n",
    ").fit(2)"
   ]
  },
  {
   "cell_type": "code",
   "execution_count": 26,
   "id": "a8d317bf-451f-4a5d-acb5-3f3613fe0d5b",
   "metadata": {},
   "outputs": [],
   "source": [
    "def viz(model, xb):\n",
    "    xb = xb.to(def_device)\n",
    "    pred = model(xb)\n",
    "    paired = []\n",
    "    for i in range(min(xb.shape[0], 8)):\n",
    "        paired.append(xb[i, ...])\n",
    "        paired.append(pred[i, ...])\n",
    "    show_images(paired, figsize=(8, 8))"
   ]
  },
  {
   "cell_type": "code",
   "execution_count": 27,
   "id": "54c01213-3b28-4c73-9583-1a832cf2efd4",
   "metadata": {},
   "outputs": [
    {
     "data": {
      "image/png": "[encoded data removed]",
      "text/plain": [
       "<Figure size 800x800 with 16 Axes>"
      ]
     },
     "metadata": {},
     "output_type": "display_data"
    }
   ],
   "source": [
    "xbt, _ = dls.peek(\"test\")\n",
    "viz(model, xbt)"
   ]
  },
  {
   "cell_type": "markdown",
   "id": "c4cbf33a-2316-4eb2-847c-37cc304f273a",
   "metadata": {},
   "source": [
    "Still not good, but less code!\n",
    "\n",
    "I don't really like the idea of delegating the core training functions to callbacks, so we can just implement them here:"
   ]
  },
  {
   "cell_type": "code",
   "execution_count": 28,
   "id": "3d5c9b0b-d78a-421c-a277-8ece418bfd8b",
   "metadata": {},
   "outputs": [],
   "source": [
    "# |export\n",
    "class TrainLearner(Learner):\n",
    "    \"\"\"Sane training loop\"\"\"\n",
    "\n",
    "    def predict(self):\n",
    "        xb, yb = self.batch\n",
    "        self.preds = self.model(xb)\n",
    "\n",
    "    def get_loss(self):\n",
    "        xb, yb = self.batch\n",
    "        self.loss = self.loss_func(self.preds, yb)\n",
    "\n",
    "    def backward(self):\n",
    "        self.loss.backward()\n",
    "\n",
    "    def step(self):\n",
    "        self.opt.step()\n",
    "\n",
    "    def zero_grad(self):\n",
    "        self.opt.zero_grad()"
   ]
  },
  {
   "cell_type": "markdown",
   "id": "3694f5e9-fab8-4fb6-ada2-0951f9a27b52",
   "metadata": {},
   "source": [
    "This works pretty similarly"
   ]
  },
  {
   "cell_type": "code",
   "execution_count": 29,
   "id": "18615213-00aa-471b-a074-c7eda4ccc4c0",
   "metadata": {},
   "outputs": [
    {
     "data": {
      "text/html": [
       "\n",
       "<style>\n",
       "    /* Turns off some styling */\n",
       "    progress {\n",
       "        /* gets rid of default border in Firefox and Opera. */\n",
       "        border: none;\n",
       "        /* Needs to be in here for Safari polyfill so background images work as expected. */\n",
       "        background-size: auto;\n",
       "    }\n",
       "    progress:not([value]), progress:not([value])::-webkit-progress-bar {\n",
       "        background: repeating-linear-gradient(45deg, #7e7e7e, #7e7e7e 10px, #5c5c5c 10px, #5c5c5c 20px);\n",
       "    }\n",
       "    .progress-bar-interrupted, .progress-bar-interrupted::-webkit-progress-bar {\n",
       "        background: #F44336;\n",
       "    }\n",
       "</style>\n"
      ],
      "text/plain": [
       "<IPython.core.display.HTML object>"
      ]
     },
     "metadata": {},
     "output_type": "display_data"
    },
    {
     "data": {
      "text/html": [
       "<table border=\"1\" class=\"dataframe\">\n",
       "  <thead>\n",
       "    <tr style=\"text-align: left;\">\n",
       "      <th>loss</th>\n",
       "      <th>epoch</th>\n",
       "      <th>train</th>\n",
       "    </tr>\n",
       "  </thead>\n",
       "  <tbody>\n",
       "    <tr>\n",
       "      <td>0.950</td>\n",
       "      <td>0</td>\n",
       "      <td>train</td>\n",
       "    </tr>\n",
       "    <tr>\n",
       "      <td>0.585</td>\n",
       "      <td>0</td>\n",
       "      <td>eval</td>\n",
       "    </tr>\n",
       "    <tr>\n",
       "      <td>0.566</td>\n",
       "      <td>1</td>\n",
       "      <td>train</td>\n",
       "    </tr>\n",
       "    <tr>\n",
       "      <td>0.556</td>\n",
       "      <td>1</td>\n",
       "      <td>eval</td>\n",
       "    </tr>\n",
       "  </tbody>\n",
       "</table>"
      ],
      "text/plain": [
       "<IPython.core.display.HTML object>"
      ]
     },
     "metadata": {},
     "output_type": "display_data"
    },
    {
     "data": {
      "image/png": "[encoded data removed]",
      "text/plain": [
       "<Figure size 600x400 with 1 Axes>"
      ]
     },
     "metadata": {},
     "output_type": "display_data"
    },
    {
     "name": "stdout",
     "output_type": "stream",
     "text": [
      "CPU times: user 1.24 s, sys: 1.37 s, total: 2.61 s\n",
      "Wall time: 8.12 s\n"
     ]
    }
   ],
   "source": [
    "%%time\n",
    "class AutoencoderTrainer(TrainLearner):\n",
    "    def predict(self):\n",
    "        xb, *_ = self.batch\n",
    "        self.preds = self.model(xb)\n",
    "\n",
    "    def get_loss(self):\n",
    "        xb, *_ = self.batch\n",
    "        self.loss = self.loss_func(self.preds, xb)\n",
    "\n",
    "\n",
    "cbs = [MetricsCB(), DeviceCB(), ProgressCB(plot=True)]\n",
    "learn = AutoencoderTrainer(\n",
    "    get_ae_model(),\n",
    "    dls,\n",
    "    F.mse_loss,\n",
    "    lr=0.01,\n",
    "    cbs=cbs,\n",
    "    opt_func=torch.optim.AdamW,\n",
    ").fit(2)"
   ]
  },
  {
   "cell_type": "markdown",
   "id": "c0321c5a-438a-4ca3-b9e8-e710be355d44",
   "metadata": {},
   "source": [
    "Can we improve the reconstruction? Let's implement a simple momentum."
   ]
  },
  {
   "cell_type": "code",
   "execution_count": 30,
   "id": "06f053b3-7022-4079-8bb3-2a7fd0a1aca7",
   "metadata": {},
   "outputs": [],
   "source": [
    "# |export\n",
    "class MomentumCB(Callback):\n",
    "    def __init__(self, momentum=0.85):\n",
    "        self.momentum = momentum\n",
    "\n",
    "    def zero_grad(self, learn):\n",
    "        with torch.no_grad():\n",
    "            for p in learn.model.parameters():\n",
    "                p.grad *= self.momentum"
   ]
  },
  {
   "cell_type": "code",
   "execution_count": 31,
   "id": "a2375c9f-a66a-4ba0-870e-6edf4f742e1b",
   "metadata": {},
   "outputs": [
    {
     "data": {
      "text/html": [
       "\n",
       "<style>\n",
       "    /* Turns off some styling */\n",
       "    progress {\n",
       "        /* gets rid of default border in Firefox and Opera. */\n",
       "        border: none;\n",
       "        /* Needs to be in here for Safari polyfill so background images work as expected. */\n",
       "        background-size: auto;\n",
       "    }\n",
       "    progress:not([value]), progress:not([value])::-webkit-progress-bar {\n",
       "        background: repeating-linear-gradient(45deg, #7e7e7e, #7e7e7e 10px, #5c5c5c 10px, #5c5c5c 20px);\n",
       "    }\n",
       "    .progress-bar-interrupted, .progress-bar-interrupted::-webkit-progress-bar {\n",
       "        background: #F44336;\n",
       "    }\n",
       "</style>\n"
      ],
      "text/plain": [
       "<IPython.core.display.HTML object>"
      ]
     },
     "metadata": {},
     "output_type": "display_data"
    },
    {
     "data": {
      "text/html": [
       "<table border=\"1\" class=\"dataframe\">\n",
       "  <thead>\n",
       "    <tr style=\"text-align: left;\">\n",
       "      <th>loss</th>\n",
       "      <th>epoch</th>\n",
       "      <th>train</th>\n",
       "    </tr>\n",
       "  </thead>\n",
       "  <tbody>\n",
       "    <tr>\n",
       "      <td>1.254</td>\n",
       "      <td>0</td>\n",
       "      <td>train</td>\n",
       "    </tr>\n",
       "    <tr>\n",
       "      <td>1.209</td>\n",
       "      <td>0</td>\n",
       "      <td>eval</td>\n",
       "    </tr>\n",
       "    <tr>\n",
       "      <td>1.184</td>\n",
       "      <td>1</td>\n",
       "      <td>train</td>\n",
       "    </tr>\n",
       "    <tr>\n",
       "      <td>1.148</td>\n",
       "      <td>1</td>\n",
       "      <td>eval</td>\n",
       "    </tr>\n",
       "  </tbody>\n",
       "</table>"
      ],
      "text/plain": [
       "<IPython.core.display.HTML object>"
      ]
     },
     "metadata": {},
     "output_type": "display_data"
    },
    {
     "data": {
      "image/png": "[encoded data removed]",
      "text/plain": [
       "<Figure size 600x400 with 1 Axes>"
      ]
     },
     "metadata": {},
     "output_type": "display_data"
    },
    {
     "name": "stdout",
     "output_type": "stream",
     "text": [
      "CPU times: user 1.46 s, sys: 1.41 s, total: 2.87 s\n",
      "Wall time: 8.6 s\n"
     ]
    },
    {
     "data": {
      "image/png": "[encoded data removed]",
      "text/plain": [
       "<Figure size 800x800 with 16 Axes>"
      ]
     },
     "metadata": {},
     "output_type": "display_data"
    }
   ],
   "source": [
    "%%time\n",
    "cbs = [MetricsCB(), DeviceCB(), ProgressCB(plot=True), MomentumCB()]\n",
    "learn = AutoencoderTrainer(\n",
    "    get_ae_model(),\n",
    "    dls,\n",
    "    F.mse_loss,\n",
    "    lr=0.01,\n",
    "    cbs=cbs,\n",
    "    opt_func=torch.optim.AdamW,\n",
    ").fit(2)\n",
    "viz(model, xbt)"
   ]
  },
  {
   "cell_type": "markdown",
   "id": "5471c93d-cefe-4c70-94ed-ed98bf7af0ed",
   "metadata": {},
   "source": [
    "Not especially impressive.\n",
    "\n",
    "What about using the automated learning rate finder?"
   ]
  },
  {
   "cell_type": "code",
   "execution_count": 32,
   "id": "22354c2a-ec95-41ec-9fc1-fcab40d69521",
   "metadata": {},
   "outputs": [],
   "source": [
    "# |export\n",
    "class LRFinderCB(Callback):\n",
    "    \"\"\"Find an apopriate learning rate by increasing it by a constant factor for each batch\n",
    "    until the loss diverges\"\"\"\n",
    "\n",
    "    def __init__(self, gamma=1.3, max_mult=3):\n",
    "        fc.store_attr()\n",
    "\n",
    "    def before_fit(self, learn):\n",
    "        self.sched = ExponentialLR(learn.opt, self.gamma)\n",
    "        self.lrs, self.losses = [], []\n",
    "        self.min = math.inf\n",
    "\n",
    "    def after_batch(self, learn):\n",
    "        if not learn.training:\n",
    "            raise CancelEpochException()\n",
    "        self.lrs.append(learn.opt.param_groups[0][\"lr\"])\n",
    "        loss = to_cpu(learn.loss)\n",
    "        self.losses.append(loss)\n",
    "        if loss < self.min:\n",
    "            self.min = loss\n",
    "        if math.isnan(loss) or (loss > self.min * self.max_mult):\n",
    "            raise CancelFitException\n",
    "\n",
    "        # Decays the learning rate of each parameter group by gamma every epoch.\n",
    "        # https://pytorch.org/docs/stable/generated/torch.optim.lr_scheduler.ExponentialLR.html\n",
    "\n",
    "        self.sched.step()\n",
    "\n",
    "    def cleanup_fit(self, learn):\n",
    "        fig, ax = plt.subplots()\n",
    "        ax.plot(self.lrs, self.losses)\n",
    "        ax.set_xscale(\"log\")\n",
    "\n",
    "\n",
    "@fc.patch\n",
    "def lr_find(self: Learner, gamma=1.3, max_mult=3, start_lr=1e-5, max_epochs=10):\n",
    "    self.fit(max_epochs, lr=start_lr, cbs=LRFinderCB(gamma=gamma, max_mult=max_mult))\n",
    "    return self"
   ]
  },
  {
   "cell_type": "code",
   "execution_count": 33,
   "id": "61921391-3555-45e8-98fc-d0845d6c82a5",
   "metadata": {},
   "outputs": [
    {
     "data": {
      "text/html": [
       "\n",
       "<style>\n",
       "    /* Turns off some styling */\n",
       "    progress {\n",
       "        /* gets rid of default border in Firefox and Opera. */\n",
       "        border: none;\n",
       "        /* Needs to be in here for Safari polyfill so background images work as expected. */\n",
       "        background-size: auto;\n",
       "    }\n",
       "    progress:not([value]), progress:not([value])::-webkit-progress-bar {\n",
       "        background: repeating-linear-gradient(45deg, #7e7e7e, #7e7e7e 10px, #5c5c5c 10px, #5c5c5c 20px);\n",
       "    }\n",
       "    .progress-bar-interrupted, .progress-bar-interrupted::-webkit-progress-bar {\n",
       "        background: #F44336;\n",
       "    }\n",
       "</style>\n"
      ],
      "text/plain": [
       "<IPython.core.display.HTML object>"
      ]
     },
     "metadata": {},
     "output_type": "display_data"
    },
    {
     "data": {
      "text/html": [
       "\n",
       "    <div>\n",
       "      <progress value='2' class='' max='10' style='width:300px; height:20px; vertical-align: middle;'></progress>\n",
       "      20.00% [2/10 00:07&lt;00:29]\n",
       "    </div>\n",
       "    \n",
       "<table border=\"1\" class=\"dataframe\">\n",
       "  <thead>\n",
       "    <tr style=\"text-align: left;\">\n",
       "      <th>loss</th>\n",
       "      <th>epoch</th>\n",
       "      <th>train</th>\n",
       "    </tr>\n",
       "  </thead>\n",
       "  <tbody>\n",
       "    <tr>\n",
       "      <td>1.294</td>\n",
       "      <td>0</td>\n",
       "      <td>train</td>\n",
       "    </tr>\n",
       "    <tr>\n",
       "      <td>1.068</td>\n",
       "      <td>1</td>\n",
       "      <td>train</td>\n",
       "    </tr>\n",
       "  </tbody>\n",
       "</table><p>\n",
       "\n",
       "    <div>\n",
       "      <progress value='17' class='' max='30' style='width:300px; height:20px; vertical-align: middle;'></progress>\n",
       "      56.67% [17/30 00:01&lt;00:01 1.987]\n",
       "    </div>\n",
       "    "
      ],
      "text/plain": [
       "<IPython.core.display.HTML object>"
      ]
     },
     "metadata": {},
     "output_type": "display_data"
    },
    {
     "name": "stderr",
     "output_type": "stream",
     "text": [
      "/home/jeremy/micromamba/envs/slowai/lib/python3.11/site-packages/torchmetrics/utilities/prints.py:43: UserWarning: Encountered `nan` values in tensor. Will be removed.\n",
      "  warnings.warn(*args, **kwargs)  # noqa: B028\n"
     ]
    },
    {
     "data": {
      "image/png": "[encoded data removed]",
      "text/plain": [
       "<Figure size 640x480 with 1 Axes>"
      ]
     },
     "metadata": {},
     "output_type": "display_data"
    }
   ],
   "source": [
    "learn = AutoencoderTrainer(\n",
    "    get_ae_model(),\n",
    "    dls,\n",
    "    F.mse_loss,\n",
    "    lr=1e-5,\n",
    "    cbs=cbs,\n",
    "    opt_func=torch.optim.AdamW,\n",
    ").lr_find()"
   ]
  },
  {
   "cell_type": "markdown",
   "id": "cb46d692-ccdf-4d09-a8b6-93e074e2616c",
   "metadata": {},
   "source": [
    "It looks like 1e-2 is a good learning rate."
   ]
  },
  {
   "cell_type": "code",
   "execution_count": 34,
   "id": "f5638127-d89e-4a22-98a3-76faf302623d",
   "metadata": {},
   "outputs": [
    {
     "data": {
      "text/html": [
       "\n",
       "<style>\n",
       "    /* Turns off some styling */\n",
       "    progress {\n",
       "        /* gets rid of default border in Firefox and Opera. */\n",
       "        border: none;\n",
       "        /* Needs to be in here for Safari polyfill so background images work as expected. */\n",
       "        background-size: auto;\n",
       "    }\n",
       "    progress:not([value]), progress:not([value])::-webkit-progress-bar {\n",
       "        background: repeating-linear-gradient(45deg, #7e7e7e, #7e7e7e 10px, #5c5c5c 10px, #5c5c5c 20px);\n",
       "    }\n",
       "    .progress-bar-interrupted, .progress-bar-interrupted::-webkit-progress-bar {\n",
       "        background: #F44336;\n",
       "    }\n",
       "</style>\n"
      ],
      "text/plain": [
       "<IPython.core.display.HTML object>"
      ]
     },
     "metadata": {},
     "output_type": "display_data"
    },
    {
     "data": {
      "text/html": [
       "<table border=\"1\" class=\"dataframe\">\n",
       "  <thead>\n",
       "    <tr style=\"text-align: left;\">\n",
       "      <th>loss</th>\n",
       "      <th>epoch</th>\n",
       "      <th>train</th>\n",
       "    </tr>\n",
       "  </thead>\n",
       "  <tbody>\n",
       "    <tr>\n",
       "      <td>0.905</td>\n",
       "      <td>0</td>\n",
       "      <td>train</td>\n",
       "    </tr>\n",
       "    <tr>\n",
       "      <td>0.625</td>\n",
       "      <td>0</td>\n",
       "      <td>eval</td>\n",
       "    </tr>\n",
       "    <tr>\n",
       "      <td>0.592</td>\n",
       "      <td>1</td>\n",
       "      <td>train</td>\n",
       "    </tr>\n",
       "    <tr>\n",
       "      <td>0.563</td>\n",
       "      <td>1</td>\n",
       "      <td>eval</td>\n",
       "    </tr>\n",
       "  </tbody>\n",
       "</table>"
      ],
      "text/plain": [
       "<IPython.core.display.HTML object>"
      ]
     },
     "metadata": {},
     "output_type": "display_data"
    },
    {
     "data": {
      "image/png": "[encoded data removed]",
      "text/plain": [
       "<Figure size 600x400 with 1 Axes>"
      ]
     },
     "metadata": {},
     "output_type": "display_data"
    },
    {
     "data": {
      "image/png": "[encoded data removed]",
      "text/plain": [
       "<Figure size 800x800 with 16 Axes>"
      ]
     },
     "metadata": {},
     "output_type": "display_data"
    }
   ],
   "source": [
    "cbs = [MetricsCB(), DeviceCB(), ProgressCB(plot=True), MomentumCB()]\n",
    "learn = AutoencoderTrainer(\n",
    "    get_ae_model(),\n",
    "    dls,\n",
    "    F.mse_loss,\n",
    "    lr=1e-2,\n",
    "    cbs=cbs,\n",
    "    opt_func=torch.optim.AdamW,\n",
    ").fit(2)\n",
    "viz(model, xbt)"
   ]
  },
  {
   "cell_type": "markdown",
   "id": "4016aedd-4326-446c-ac14-58b733dd1970",
   "metadata": {},
   "source": [
    "Again, not especially impressive.\n",
    "\n",
    "We'll write some tools to diagnose model issues in the next notebook."
   ]
  },
  {
   "cell_type": "code",
   "execution_count": 4,
   "id": "c474e89c-3740-4d15-81cb-417f54316f7a",
   "metadata": {},
   "outputs": [],
   "source": [
    "# |hide\n",
    "import nbdev\n",
    "\n",
    "nbdev.nbdev_export()"
   ]
  },
  {
   "cell_type": "code",
   "execution_count": null,
   "id": "aed4f4a0-1fd1-49c4-9e58-7c98dcf4e741",
   "metadata": {},
   "outputs": [],
   "source": []
  }
 ],
 "metadata": {
  "kernelspec": {
   "display_name": "SlowAI",
   "language": "python",
   "name": "slowai"
  },
  "language_info": {
   "codemirror_mode": {
    "name": "ipython",
    "version": 3
   },
   "file_extension": ".py",
   "mimetype": "text/x-python",
   "name": "python",
   "nbconvert_exporter": "python",
   "pygments_lexer": "ipython3",
   "version": "3.11.5"
  }
 },
 "nbformat": 4,
 "nbformat_minor": 5
}

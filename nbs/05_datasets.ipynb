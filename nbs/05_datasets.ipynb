{
 "cells": [
  {
   "cell_type": "markdown",
   "id": "f7ce5939-77ef-4fc8-9dfd-6d68ca008190",
   "metadata": {},
   "source": [
    "# Data and visualizations\n",
    "\n",
    "> Exploring the 🤗 dataset API and writing some convenience functions for viz"
   ]
  },
  {
   "cell_type": "markdown",
   "id": "9cd598f8",
   "metadata": {},
   "source": [
    "Adapted from:\n",
    "\n",
    "- [https://youtu.be/veqj0DsZSXU?si=TIBU6N98yZhR9PrG&t=3674](https://youtu.be/veqj0DsZSXU?si=TIBU6N98yZhR9PrG&t=3674)\n",
    "\n",
    "This is, again, a topic I already know a lot about so I'm going through this notebook as quickly as possible."
   ]
  },
  {
   "cell_type": "code",
   "execution_count": 1,
   "id": "6c8511f0-53c5-402a-aa71-56fa2041955d",
   "metadata": {},
   "outputs": [],
   "source": [
    "#| default_exp datasets"
   ]
  },
  {
   "cell_type": "code",
   "execution_count": 2,
   "id": "66b53d5d-1502-4b49-9c3a-c0248826c27f",
   "metadata": {},
   "outputs": [],
   "source": [
    "# |export\n",
    "import math\n",
    "from itertools import zip_longest\n",
    "from typing import Optional\n",
    "\n",
    "import fastcore.all as fc\n",
    "import matplotlib.pyplot as plt\n",
    "import numpy as np\n",
    "import torch\n",
    "import torchvision.transforms.functional as T\n",
    "from datasets import load_dataset\n",
    "from torch.utils.data import DataLoader"
   ]
  },
  {
   "cell_type": "markdown",
   "id": "945d860c-1f5c-41f2-97ff-08e8888b165e",
   "metadata": {},
   "source": [
    "## Huggingface Datasets"
   ]
  },
  {
   "cell_type": "code",
   "execution_count": 3,
   "id": "ce88a734-6bed-405e-8416-e55a95ee0969",
   "metadata": {},
   "outputs": [
    {
     "data": {
      "text/plain": [
       "DatasetDict({\n",
       "    train: Dataset({\n",
       "        features: ['image', 'label'],\n",
       "        num_rows: 60000\n",
       "    })\n",
       "    test: Dataset({\n",
       "        features: ['image', 'label'],\n",
       "        num_rows: 10000\n",
       "    })\n",
       "})"
      ]
     },
     "execution_count": 3,
     "metadata": {},
     "output_type": "execute_result"
    }
   ],
   "source": [
    "dsd = load_dataset(\"fashion_mnist\")\n",
    "dsd"
   ]
  },
  {
   "cell_type": "code",
   "execution_count": 4,
   "id": "ff482229-2cde-405e-b985-12970a89aa69",
   "metadata": {},
   "outputs": [
    {
     "data": {
      "text/plain": [
       "('image', 'label')"
      ]
     },
     "execution_count": 4,
     "metadata": {},
     "output_type": "execute_result"
    }
   ],
   "source": [
    "x, y = dsd.column_names[\"train\"]\n",
    "x, y"
   ]
  },
  {
   "cell_type": "code",
   "execution_count": 5,
   "id": "cc6ddb44-2431-41b0-a6d6-d0fbdf1640cd",
   "metadata": {},
   "outputs": [
    {
     "data": {
      "image/jpeg": "[encoded data removed]",
      "image/png": "[encoded data removed]",
      "text/plain": [
       "<PIL.PngImagePlugin.PngImageFile image mode=L size=28x28>"
      ]
     },
     "execution_count": 5,
     "metadata": {},
     "output_type": "execute_result"
    }
   ],
   "source": [
    "trn = dsd[\"train\"]\n",
    "example = trn[0]\n",
    "xb = example[x]\n",
    "yb = example[y]\n",
    "xb"
   ]
  },
  {
   "cell_type": "code",
   "execution_count": 6,
   "id": "02195908-3434-4367-ae31-25ecde4a92ce",
   "metadata": {},
   "outputs": [
    {
     "data": {
      "text/plain": [
       "'Ankle boot'"
      ]
     },
     "execution_count": 6,
     "metadata": {},
     "output_type": "execute_result"
    }
   ],
   "source": [
    "y_feats = trn.features[y]\n",
    "y_feats.int2str(example[y])"
   ]
  },
  {
   "cell_type": "code",
   "execution_count": 7,
   "id": "e4144ea0-0337-45f0-ad8e-e5c8fab889f7",
   "metadata": {},
   "outputs": [
    {
     "data": {
      "text/plain": [
       "(torch.Size([16, 1, 28, 28]),\n",
       " tensor([9, 0, 0, 3, 0, 2, 7, 2, 5, 5, 0, 9, 5, 5, 7, 9]))"
      ]
     },
     "execution_count": 7,
     "metadata": {},
     "output_type": "execute_result"
    }
   ],
   "source": [
    "def collate_fn(b):\n",
    "    return dict(\n",
    "        x=torch.stack([T.to_tensor(example[x]) for example in b]),\n",
    "        y=torch.tensor([example[y] for example in b]),\n",
    "    )\n",
    "\n",
    "\n",
    "dl = DataLoader(trn, collate_fn=collate_fn, batch_size=16)\n",
    "out = next(iter(dl))\n",
    "out[\"x\"].shape, out[\"y\"]"
   ]
  },
  {
   "cell_type": "markdown",
   "id": "f9af615d-7701-41ee-b5dc-047422704494",
   "metadata": {},
   "source": [
    "This is the only tip I thought was interesting from the first hour. You can use this to avoid a `return`."
   ]
  },
  {
   "cell_type": "code",
   "execution_count": 8,
   "id": "7873e626-53c2-4269-9c0d-5567f7623c7c",
   "metadata": {},
   "outputs": [],
   "source": [
    "# |export\n",
    "def inplace(f):\n",
    "    def _f(b):\n",
    "        f(b)\n",
    "        return b\n",
    "\n",
    "    return _f"
   ]
  },
  {
   "cell_type": "code",
   "execution_count": 9,
   "id": "1d62d3c4-2a5f-4822-8985-6b209b3ddffb",
   "metadata": {},
   "outputs": [
    {
     "data": {
      "text/plain": [
       "(torch.Size([1, 28, 28]), 9)"
      ]
     },
     "execution_count": 9,
     "metadata": {},
     "output_type": "execute_result"
    }
   ],
   "source": [
    "@inplace\n",
    "def transformi(batch):\n",
    "    batch[\"image\"] = [T.to_tensor(example) for example in batch[\"image\"]]\n",
    "\n",
    "\n",
    "t_trn = trn.with_transform(transformi)\n",
    "t_trn[0][\"image\"].shape, t_trn[0][\"label\"]"
   ]
  },
  {
   "cell_type": "markdown",
   "id": "f74db210-7fdf-4fc8-8450-53fba9936673",
   "metadata": {},
   "source": [
    "## Plotting"
   ]
  },
  {
   "cell_type": "code",
   "execution_count": 10,
   "id": "c3c338bf-18b9-44ea-a01d-b37e6d61f8fc",
   "metadata": {},
   "outputs": [
    {
     "data": {
      "text/plain": [
       "<matplotlib.image.AxesImage at 0x7f4649481450>"
      ]
     },
     "execution_count": 10,
     "metadata": {},
     "output_type": "execute_result"
    },
    {
     "data": {
      "image/png": "[encoded data removed]",
      "text/plain": [
       "<Figure size 640x480 with 1 Axes>"
      ]
     },
     "metadata": {},
     "output_type": "display_data"
    }
   ],
   "source": [
    "b = t_trn[0]\n",
    "xb = b[\"image\"]\n",
    "plt.imshow(xb.squeeze())"
   ]
  },
  {
   "cell_type": "markdown",
   "id": "a28d1b27-1c7c-4109-b9a1-6247ab4a06aa",
   "metadata": {},
   "source": [
    "We'll copy-and-paste some of the plotting convenience functions"
   ]
  },
  {
   "cell_type": "code",
   "execution_count": 11,
   "id": "4fc3bd17-70e9-4ae6-b80a-3e8561939568",
   "metadata": {},
   "outputs": [],
   "source": [
    "# |export\n",
    "@fc.delegates(plt.subplots, keep=True)\n",
    "def subplots(\n",
    "    nrows: int = 1,  # Number of rows in returned axes grid\n",
    "    ncols: int = 1,  # Number of columns in returned axes grid\n",
    "    figsize: tuple = None,  # Width, height in inches of the returned figure\n",
    "    imsize: int = 3,  # Size (in inches) of images that will be displayed in the returned figure\n",
    "    suptitle: str = None,  # Title to be set to returned figure\n",
    "    **kwargs\n",
    "):  # fig and axs\n",
    "    \"A figure and set of subplots to display images of `imsize` inches\"\n",
    "    if figsize is None:\n",
    "        figsize = (ncols * imsize, nrows * imsize)\n",
    "    fig, ax = plt.subplots(nrows, ncols, figsize=figsize, **kwargs)\n",
    "    if suptitle is not None:\n",
    "        fig.suptitle(suptitle)\n",
    "    if nrows * ncols == 1:\n",
    "        ax = np.array([ax])\n",
    "    return fig, ax"
   ]
  },
  {
   "cell_type": "markdown",
   "id": "1fe31328-fa88-4a21-a21a-7e71e8ef813b",
   "metadata": {},
   "source": [
    "`delegates` is a nice feature that creates the correct documentation for `kwargs`"
   ]
  },
  {
   "cell_type": "code",
   "execution_count": 12,
   "id": "e5b8cbce-3d6c-40a0-8f22-e25b1dd31ba1",
   "metadata": {},
   "outputs": [
    {
     "data": {
      "text/plain": [
       "\u001b[0;31mSignature:\u001b[0m\n",
       "\u001b[0msubplots\u001b[0m\u001b[0;34m(\u001b[0m\u001b[0;34m\u001b[0m\n",
       "\u001b[0;34m\u001b[0m    \u001b[0mnrows\u001b[0m\u001b[0;34m:\u001b[0m \u001b[0mint\u001b[0m \u001b[0;34m=\u001b[0m \u001b[0;36m1\u001b[0m\u001b[0;34m,\u001b[0m\u001b[0;34m\u001b[0m\n",
       "\u001b[0;34m\u001b[0m    \u001b[0mncols\u001b[0m\u001b[0;34m:\u001b[0m \u001b[0mint\u001b[0m \u001b[0;34m=\u001b[0m \u001b[0;36m1\u001b[0m\u001b[0;34m,\u001b[0m\u001b[0;34m\u001b[0m\n",
       "\u001b[0;34m\u001b[0m    \u001b[0mfigsize\u001b[0m\u001b[0;34m:\u001b[0m \u001b[0mtuple\u001b[0m \u001b[0;34m=\u001b[0m \u001b[0;32mNone\u001b[0m\u001b[0;34m,\u001b[0m\u001b[0;34m\u001b[0m\n",
       "\u001b[0;34m\u001b[0m    \u001b[0mimsize\u001b[0m\u001b[0;34m:\u001b[0m \u001b[0mint\u001b[0m \u001b[0;34m=\u001b[0m \u001b[0;36m3\u001b[0m\u001b[0;34m,\u001b[0m\u001b[0;34m\u001b[0m\n",
       "\u001b[0;34m\u001b[0m    \u001b[0msuptitle\u001b[0m\u001b[0;34m:\u001b[0m \u001b[0mstr\u001b[0m \u001b[0;34m=\u001b[0m \u001b[0;32mNone\u001b[0m\u001b[0;34m,\u001b[0m\u001b[0;34m\u001b[0m\n",
       "\u001b[0;34m\u001b[0m    \u001b[0;34m*\u001b[0m\u001b[0;34m,\u001b[0m\u001b[0;34m\u001b[0m\n",
       "\u001b[0;34m\u001b[0m    \u001b[0msharex\u001b[0m\u001b[0;34m:\u001b[0m \u001b[0;34m\"bool | Literal['none', 'all', 'row', 'col']\"\u001b[0m \u001b[0;34m=\u001b[0m \u001b[0;32mFalse\u001b[0m\u001b[0;34m,\u001b[0m\u001b[0;34m\u001b[0m\n",
       "\u001b[0;34m\u001b[0m    \u001b[0msharey\u001b[0m\u001b[0;34m:\u001b[0m \u001b[0;34m\"bool | Literal['none', 'all', 'row', 'col']\"\u001b[0m \u001b[0;34m=\u001b[0m \u001b[0;32mFalse\u001b[0m\u001b[0;34m,\u001b[0m\u001b[0;34m\u001b[0m\n",
       "\u001b[0;34m\u001b[0m    \u001b[0msqueeze\u001b[0m\u001b[0;34m:\u001b[0m \u001b[0;34m'bool'\u001b[0m \u001b[0;34m=\u001b[0m \u001b[0;32mTrue\u001b[0m\u001b[0;34m,\u001b[0m\u001b[0;34m\u001b[0m\n",
       "\u001b[0;34m\u001b[0m    \u001b[0mwidth_ratios\u001b[0m\u001b[0;34m:\u001b[0m \u001b[0;34m'Sequence[float] | None'\u001b[0m \u001b[0;34m=\u001b[0m \u001b[0;32mNone\u001b[0m\u001b[0;34m,\u001b[0m\u001b[0;34m\u001b[0m\n",
       "\u001b[0;34m\u001b[0m    \u001b[0mheight_ratios\u001b[0m\u001b[0;34m:\u001b[0m \u001b[0;34m'Sequence[float] | None'\u001b[0m \u001b[0;34m=\u001b[0m \u001b[0;32mNone\u001b[0m\u001b[0;34m,\u001b[0m\u001b[0;34m\u001b[0m\n",
       "\u001b[0;34m\u001b[0m    \u001b[0msubplot_kw\u001b[0m\u001b[0;34m:\u001b[0m \u001b[0;34m'dict[str, Any] | None'\u001b[0m \u001b[0;34m=\u001b[0m \u001b[0;32mNone\u001b[0m\u001b[0;34m,\u001b[0m\u001b[0;34m\u001b[0m\n",
       "\u001b[0;34m\u001b[0m    \u001b[0mgridspec_kw\u001b[0m\u001b[0;34m:\u001b[0m \u001b[0;34m'dict[str, Any] | None'\u001b[0m \u001b[0;34m=\u001b[0m \u001b[0;32mNone\u001b[0m\u001b[0;34m,\u001b[0m\u001b[0;34m\u001b[0m\n",
       "\u001b[0;34m\u001b[0m    \u001b[0;34m**\u001b[0m\u001b[0mkwargs\u001b[0m\u001b[0;34m,\u001b[0m\u001b[0;34m\u001b[0m\n",
       "\u001b[0;34m\u001b[0m\u001b[0;34m)\u001b[0m\u001b[0;34m\u001b[0m\u001b[0;34m\u001b[0m\u001b[0m\n",
       "\u001b[0;31mDocstring:\u001b[0m A figure and set of subplots to display images of `imsize` inches\n",
       "\u001b[0;31mFile:\u001b[0m      /tmp/ipykernel_22296/3433216597.py\n",
       "\u001b[0;31mType:\u001b[0m      function"
      ]
     },
     "metadata": {},
     "output_type": "display_data"
    }
   ],
   "source": [
    "subplots?"
   ]
  },
  {
   "cell_type": "markdown",
   "id": "770d1474-fd84-4b1a-8fa8-9115294932b3",
   "metadata": {},
   "source": [
    "I'm straight up just stealing these from the FastAI notebooks 😈"
   ]
  },
  {
   "cell_type": "code",
   "execution_count": 13,
   "id": "d5ecffe3-5855-49e8-b456-784ae3f1927b",
   "metadata": {},
   "outputs": [],
   "source": [
    "# |export\n",
    "@fc.delegates(plt.subplots, keep=True)\n",
    "def subplots(\n",
    "    nrows: int = 1,  # Number of rows in returned axes grid\n",
    "    ncols: int = 1,  # Number of columns in returned axes grid\n",
    "    figsize: tuple = None,  # Width, height in inches of the returned figure\n",
    "    imsize: int = 3,  # Size (in inches) of images that will be displayed in the returned figure\n",
    "    suptitle: str = None,  # Title to be set to returned figure\n",
    "    **kwargs,\n",
    "):  # fig and axs\n",
    "    \"A figure and set of subplots to display images of `imsize` inches\"\n",
    "    if figsize is None:\n",
    "        figsize = (ncols * imsize, nrows * imsize)\n",
    "    fig, ax = plt.subplots(nrows, ncols, figsize=figsize, **kwargs)\n",
    "    if suptitle is not None:\n",
    "        fig.suptitle(suptitle)\n",
    "    if nrows * ncols == 1:\n",
    "        ax = np.array([ax])\n",
    "    return fig, ax\n",
    "\n",
    "\n",
    "@fc.delegates(subplots)\n",
    "def get_grid(\n",
    "    n: int,  # Number of axes\n",
    "    nrows: int = None,  # Number of rows, defaulting to `int(math.sqrt(n))`\n",
    "    ncols: int = None,  # Number of columns, defaulting to `ceil(n/rows)`\n",
    "    title: str = None,  # If passed, title set to the figure\n",
    "    weight: str = \"bold\",  # Title font weight\n",
    "    size: int = 14,  # Title font size\n",
    "    **kwargs,\n",
    "):  # fig and axs\n",
    "    \"Return a grid of `n` axes, `rows` by `cols`\"\n",
    "    if nrows:\n",
    "        ncols = ncols or int(np.floor(n / nrows))\n",
    "    elif ncols:\n",
    "        nrows = nrows or int(np.ceil(n / ncols))\n",
    "    else:\n",
    "        nrows = int(math.sqrt(n))\n",
    "        ncols = int(np.floor(n / nrows))\n",
    "    fig, axs = subplots(nrows, ncols, **kwargs)\n",
    "    for i in range(n, nrows * ncols):\n",
    "        axs.flat[i].set_axis_off()\n",
    "    if title is not None:\n",
    "        fig.suptitle(title, weight=weight, size=size)\n",
    "    return fig, axs\n",
    "\n",
    "\n",
    "@fc.delegates(plt.Axes.imshow)\n",
    "def show_image(im, ax=None, figsize=None, title=None, noframe=True, **kwargs):\n",
    "    \"Show a PIL or PyTorch image on `ax`.\"\n",
    "    if fc.hasattrs(im, (\"cpu\", \"permute\", \"detach\")):\n",
    "        im = im.detach().cpu()\n",
    "        if len(im.shape) == 3 and im.shape[0] < 5:\n",
    "            im = im.permute(1, 2, 0)\n",
    "    elif not isinstance(im, np.ndarray):\n",
    "        im = np.array(im)\n",
    "    if im.shape[-1] == 1:\n",
    "        im = im[..., 0]\n",
    "    if ax is None:\n",
    "        _, ax = plt.subplots(figsize=figsize)\n",
    "    ax.imshow(im, **kwargs)\n",
    "    if title is not None:\n",
    "        ax.set_title(title)\n",
    "    ax.set_xticks([])\n",
    "    ax.set_yticks([])\n",
    "    if noframe:\n",
    "        ax.axis(\"off\")\n",
    "    return ax\n",
    "\n",
    "\n",
    "@fc.delegates(subplots)\n",
    "def show_images(\n",
    "    ims: list,  # Images to show\n",
    "    nrows: Optional[int] = None,  # Number of rows in grid\n",
    "    ncols: Optional[int] = None,  # Number of columns in grid (auto-calculated if None)\n",
    "    titles: Optional[list] = None,  # Optional list of titles for each image\n",
    "    **kwargs,\n",
    "):\n",
    "    \"Show all images `ims` as subplots with `rows` using `titles`\"\n",
    "    axs = get_grid(len(ims), nrows, ncols, **kwargs)[1].flat\n",
    "    for im, t, ax in zip_longest(ims, titles or [], axs):\n",
    "        show_image(im, ax=ax, title=t)"
   ]
  },
  {
   "cell_type": "code",
   "execution_count": 14,
   "id": "433a2c19-53d5-4660-97ca-bb27d415b1db",
   "metadata": {},
   "outputs": [
    {
     "data": {
      "image/png": "[encoded data removed]",
      "text/plain": [
       "<Figure size 600x600 with 16 Axes>"
      ]
     },
     "metadata": {},
     "output_type": "display_data"
    }
   ],
   "source": [
    "b = t_trn[:16]\n",
    "show_images(b[\"image\"], figsize=(6, 6))"
   ]
  },
  {
   "cell_type": "code",
   "execution_count": 15,
   "id": "c474e89c-3740-4d15-81cb-417f54316f7a",
   "metadata": {},
   "outputs": [],
   "source": [
    "#| hide\n",
    "import nbdev\n",
    "\n",
    "nbdev.nbdev_export()"
   ]
  },
  {
   "cell_type": "code",
   "execution_count": null,
   "id": "7ee5a9da-4f96-4c8f-a590-64edb415256e",
   "metadata": {},
   "outputs": [],
   "source": []
  }
 ],
 "metadata": {
  "kernelspec": {
   "display_name": "SlowAI",
   "language": "python",
   "name": "slowai"
  },
  "language_info": {
   "codemirror_mode": {
    "name": "ipython",
    "version": 3
   },
   "file_extension": ".py",
   "mimetype": "text/x-python",
   "name": "python",
   "nbconvert_exporter": "python",
   "pygments_lexer": "ipython3",
   "version": "3.11.5"
  }
 },
 "nbformat": 4,
 "nbformat_minor": 5
}

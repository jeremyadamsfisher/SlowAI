{
 "cells": [
  {
   "cell_type": "markdown",
   "id": "f7ce5939-77ef-4fc8-9dfd-6d68ca008190",
   "metadata": {},
   "source": [
    "# ResNets\n",
    "\n",
    "> Can we beat 90% accuracy on FashionMNIST?"
   ]
  },
  {
   "cell_type": "markdown",
   "id": "9cd598f8",
   "metadata": {},
   "source": [
    "Adapted from:\n",
    "\n",
    "- [https://www.youtube.com/watch?v=nlVOG2Nzc3k&t=3398s](https://www.youtube.com/watch?v=nlVOG2Nzc3k&t=3398s)"
   ]
  },
  {
   "cell_type": "code",
   "execution_count": 1,
   "id": "9c5a2e34-85d8-468b-a602-277fea08fb15",
   "metadata": {},
   "outputs": [],
   "source": [
    "#| default_exp resnets"
   ]
  },
  {
   "cell_type": "code",
   "execution_count": 2,
   "id": "839ca386-fa54-44ec-a86c-defcae141a94",
   "metadata": {},
   "outputs": [
    {
     "name": "stderr",
     "output_type": "stream",
     "text": [
      "/Users/jeremiahfisher/miniforge3/envs/slowai/lib/python3.10/site-packages/tqdm/auto.py:21: TqdmWarning: IProgress not found. Please update jupyter and ipywidgets. See https://ipywidgets.readthedocs.io/en/stable/user_install.html\n",
      "  from .autonotebook import tqdm as notebook_tqdm\n"
     ]
    }
   ],
   "source": [
    "# |export\n",
    "from functools import partial\n",
    "\n",
    "import fastcore.all as fc\n",
    "import matplotlib.pyplot as plt\n",
    "import numpy as np\n",
    "import timm\n",
    "import torch\n",
    "import torch.nn.functional as F\n",
    "from einops import rearrange\n",
    "from IPython.display import Latex, Markdown, display\n",
    "from torch import nn\n",
    "from torch.nn import init\n",
    "from torch.optim import lr_scheduler\n",
    "from torch.optim.lr_scheduler import OneCycleLR\n",
    "from torchmetrics.classification import MulticlassAccuracy\n",
    "\n",
    "from slowai.activations import Hook, HooksCallback, set_seed\n",
    "from slowai.learner import CancelFitException, DeviceCB, TrainLearner, fashion_mnist\n",
    "from slowai.sgd import train_1cycle"
   ]
  },
  {
   "cell_type": "code",
   "execution_count": 3,
   "id": "3c4c1c4b-b4bb-4b67-adff-d16a8b2d695c",
   "metadata": {},
   "outputs": [],
   "source": [
    "set_seed(42)\n",
    "plt.style.use(\"ggplot\")"
   ]
  },
  {
   "cell_type": "markdown",
   "id": "448dd763-2023-46cc-a98b-bff58b8c37cf",
   "metadata": {},
   "source": [
    "Let's start by cleaning up some of the module implementations."
   ]
  },
  {
   "cell_type": "code",
   "execution_count": 75,
   "id": "19a33a6a-6646-4a9c-adc0-876d0ff00c98",
   "metadata": {},
   "outputs": [],
   "source": [
    "# |export\n",
    "class GeneralReLU(nn.Module):\n",
    "    def __init__(self, a=0.1, b=0.4):\n",
    "        \"\"\"Generalized ReLU activation function with bias and leaky slope.\"\"\"\n",
    "        super().__init__()\n",
    "        self.a = a\n",
    "        self.b = b\n",
    "\n",
    "    def forward(self, x):\n",
    "        if self.a:\n",
    "            x = F.leaky_relu(x, self.a)\n",
    "        else:\n",
    "            x = F.relu(x)\n",
    "        if self.b:\n",
    "            x -= self.b\n",
    "        return x\n",
    "\n",
    "\n",
    "class Conv(nn.Conv2d):\n",
    "    \"\"\"Convolutional block with norms and activations\"\"\"\n",
    "\n",
    "    def __init__(self, c_in, c_out, stride=2, ks=3, act=True, norm=True):\n",
    "        super().__init__(\n",
    "            c_in,\n",
    "            c_out,\n",
    "            stride=stride,\n",
    "            kernel_size=ks,\n",
    "            padding=ks // 2,\n",
    "            bias=not norm,\n",
    "        )\n",
    "        self.norm = nn.BatchNorm2d(c_out) if norm else None\n",
    "        self.act = GeneralReLU() if act else None\n",
    "\n",
    "    def forward(self, x):\n",
    "        x = super(Conv, self).forward(x)\n",
    "        if self.act:\n",
    "            x = self.act(x)\n",
    "        if self.norm:\n",
    "            x = self.norm(x)\n",
    "        return x\n",
    "\n",
    "\n",
    "def init_leaky_weights(module):\n",
    "    if isinstance(module, Conv):\n",
    "        if module.act is not None:\n",
    "            init.kaiming_normal_(module.weight, a=module.act.a)\n",
    "        else:\n",
    "            init.kaiming_normal_(module.weight)\n",
    "\n",
    "\n",
    "class CNN(nn.Module):\n",
    "    \"\"\"6 layer convolutional neural network with GeneralReLU\"\"\"\n",
    "\n",
    "    def __init__(self, nfs=(8, 16, 32, 64), n_outputs=10, block=None):\n",
    "        super().__init__()\n",
    "        self.nfs = nfs\n",
    "        self.n_outputs = n_outputs\n",
    "        self.layers = nn.Sequential(*self.get_layers(nfs, n_outputs, block))\n",
    "\n",
    "    def get_layers(self, nfs, n_outputs=10, C=None):\n",
    "        if C is None:\n",
    "            C = Conv\n",
    "        assert len(nfs) == 4\n",
    "        layers = [C(1, 8, ks=5)]\n",
    "        for c_in, c_out in zip(nfs, nfs[1:]):\n",
    "            layers.append(C(c_in, c_out))\n",
    "        layers.append(C(nfs[-1], n_outputs, act=False))\n",
    "        return layers\n",
    "\n",
    "    def forward(self, x):\n",
    "        x = self.layers(x)\n",
    "        bs, c, w, h = x.shape\n",
    "        assert c == self.n_outputs\n",
    "        assert w == h == 1\n",
    "        return rearrange(x, \"bs c w h -> bs (c w h)\")\n",
    "\n",
    "    @classmethod\n",
    "    def kaiming(cls, *args, **kwargs):\n",
    "        model = cls(*args, **kwargs)\n",
    "        model.apply(init_leaky_weights)\n",
    "        return model"
   ]
  },
  {
   "cell_type": "code",
   "execution_count": 76,
   "id": "d9bcdcab-5e99-451b-a406-b11e453be70e",
   "metadata": {},
   "outputs": [
    {
     "data": {
      "text/html": [
       "\n",
       "<style>\n",
       "    /* Turns off some styling */\n",
       "    progress {\n",
       "        /* gets rid of default border in Firefox and Opera. */\n",
       "        border: none;\n",
       "        /* Needs to be in here for Safari polyfill so background images work as expected. */\n",
       "        background-size: auto;\n",
       "    }\n",
       "    progress:not([value]), progress:not([value])::-webkit-progress-bar {\n",
       "        background: repeating-linear-gradient(45deg, #7e7e7e, #7e7e7e 10px, #5c5c5c 10px, #5c5c5c 20px);\n",
       "    }\n",
       "    .progress-bar-interrupted, .progress-bar-interrupted::-webkit-progress-bar {\n",
       "        background: #F44336;\n",
       "    }\n",
       "</style>\n"
      ],
      "text/plain": [
       "<IPython.core.display.HTML object>"
      ]
     },
     "metadata": {},
     "output_type": "display_data"
    },
    {
     "data": {
      "text/html": [
       "\n",
       "    <div>\n",
       "      <progress value='0' class='' max='3' style='width:300px; height:20px; vertical-align: middle;'></progress>\n",
       "      0.00% [0/3 00:00&lt;?]\n",
       "    </div>\n",
       "    \n",
       "\n",
       "\n",
       "    <div>\n",
       "      <progress value='94' class='' max='118' style='width:300px; height:20px; vertical-align: middle;'></progress>\n",
       "      79.66% [94/118 00:06&lt;00:01 0.478]\n",
       "    </div>\n",
       "    "
      ],
      "text/plain": [
       "<IPython.core.display.HTML object>"
      ]
     },
     "metadata": {},
     "output_type": "display_data"
    },
    {
     "name": "stderr",
     "output_type": "stream",
     "text": [
      "\n",
      "KeyboardInterrupt\n",
      "\n"
     ]
    }
   ],
   "source": [
    "_, stats = train_1cycle(CNN.kaiming(nfs=(8, 16, 32, 64)))"
   ]
  },
  {
   "cell_type": "code",
   "execution_count": null,
   "id": "80652655-caab-4a4d-92b4-95a4e6511a43",
   "metadata": {},
   "outputs": [],
   "source": [
    "stats.mean_std_plot()"
   ]
  },
  {
   "cell_type": "markdown",
   "id": "93ddb68a-35d5-43ef-bfdc-541f1b965cb4",
   "metadata": {},
   "source": [
    "## Going deeper\n",
    "\n",
    "At this point, we can try to go deeper by adding a stride 1 convolution layer"
   ]
  },
  {
   "cell_type": "code",
   "execution_count": 77,
   "id": "787a554e-80bf-46ae-a2c0-024c38090f76",
   "metadata": {},
   "outputs": [],
   "source": [
    "class DeeperCNN(CNN):\n",
    "    \"\"\"7 layer convolutional neural network with GeneralReLU\"\"\"\n",
    "\n",
    "    def get_layers(self, nfs, n_outputs=10, C=None):\n",
    "        if C is None:\n",
    "            C = Conv\n",
    "        assert len(nfs) == 5\n",
    "        # Notice we changed the stride to 1 to fit another layer --+\n",
    "        layers = [C(1, 8, ks=5, stride=1)]  # 👈 ------------------+\n",
    "        for c_in, c_out in zip(nfs, nfs[1:]):\n",
    "            layers.append(C(c_in, c_out))\n",
    "        layers.append(C(nfs[-1], n_outputs, act=False))\n",
    "        return layers"
   ]
  },
  {
   "cell_type": "code",
   "execution_count": 78,
   "id": "b1be9619-1c87-4838-bc9f-91f2f1491ec1",
   "metadata": {},
   "outputs": [
    {
     "data": {
      "text/html": [
       "\n",
       "<style>\n",
       "    /* Turns off some styling */\n",
       "    progress {\n",
       "        /* gets rid of default border in Firefox and Opera. */\n",
       "        border: none;\n",
       "        /* Needs to be in here for Safari polyfill so background images work as expected. */\n",
       "        background-size: auto;\n",
       "    }\n",
       "    progress:not([value]), progress:not([value])::-webkit-progress-bar {\n",
       "        background: repeating-linear-gradient(45deg, #7e7e7e, #7e7e7e 10px, #5c5c5c 10px, #5c5c5c 20px);\n",
       "    }\n",
       "    .progress-bar-interrupted, .progress-bar-interrupted::-webkit-progress-bar {\n",
       "        background: #F44336;\n",
       "    }\n",
       "</style>\n"
      ],
      "text/plain": [
       "<IPython.core.display.HTML object>"
      ]
     },
     "metadata": {},
     "output_type": "display_data"
    },
    {
     "data": {
      "text/html": [
       "<table border=\"1\" class=\"dataframe\">\n",
       "  <thead>\n",
       "    <tr style=\"text-align: left;\">\n",
       "      <th>MulticlassAccuracy</th>\n",
       "      <th>loss</th>\n",
       "      <th>epoch</th>\n",
       "      <th>train</th>\n",
       "    </tr>\n",
       "  </thead>\n",
       "  <tbody>\n",
       "    <tr>\n",
       "      <td>0.783</td>\n",
       "      <td>0.764</td>\n",
       "      <td>0</td>\n",
       "      <td>train</td>\n",
       "    </tr>\n",
       "    <tr>\n",
       "      <td>0.818</td>\n",
       "      <td>0.544</td>\n",
       "      <td>0</td>\n",
       "      <td>eval</td>\n",
       "    </tr>\n",
       "    <tr>\n",
       "      <td>0.885</td>\n",
       "      <td>0.364</td>\n",
       "      <td>1</td>\n",
       "      <td>train</td>\n",
       "    </tr>\n",
       "    <tr>\n",
       "      <td>0.873</td>\n",
       "      <td>0.366</td>\n",
       "      <td>1</td>\n",
       "      <td>eval</td>\n",
       "    </tr>\n",
       "    <tr>\n",
       "      <td>0.913</td>\n",
       "      <td>0.271</td>\n",
       "      <td>2</td>\n",
       "      <td>train</td>\n",
       "    </tr>\n",
       "    <tr>\n",
       "      <td>0.895</td>\n",
       "      <td>0.314</td>\n",
       "      <td>2</td>\n",
       "      <td>eval</td>\n",
       "    </tr>\n",
       "  </tbody>\n",
       "</table>"
      ],
      "text/plain": [
       "<IPython.core.display.HTML object>"
      ]
     },
     "metadata": {},
     "output_type": "display_data"
    },
    {
     "data": {
      "image/png": "[encoded data removed]",
      "text/plain": [
       "<Figure size 600x400 with 1 Axes>"
      ]
     },
     "metadata": {},
     "output_type": "display_data"
    }
   ],
   "source": [
    "train_1cycle(DeeperCNN.kaiming(nfs=(8, 16, 32, 64, 128)));"
   ]
  },
  {
   "cell_type": "markdown",
   "id": "7ffc00c7-13a3-40d3-b622-7ec889a3b33c",
   "metadata": {},
   "source": [
    "This gives us 90% in 3 epochs, which is the quickest we've been able to achieve that accuracy.\n",
    "\n",
    "We want to make our networks wider and deeper, but this has a limit even with an apropriate initialization. In \"Deep Residual Learning for Image Recognition,\" Kaiming observed that a 56 layer network had worse performance than a 20 layer network. Why?\n",
    "\n",
    "Notice, if the 36 extra layers were $I$, it should have the same performance of the smaller network. In other words, it's a superset of the small network. We should be able to table advantage of the initial training dynamics of the shallower network with deeper networks with **Skip Connections**.\n",
    "\n",
    "![](https://upload.wikimedia.org/wikipedia/commons/b/ba/ResBlock.png)"
   ]
  },
  {
   "cell_type": "code",
   "execution_count": 6,
   "id": "5294b196-5eb4-4d2c-9f97-e72c4302c505",
   "metadata": {},
   "outputs": [],
   "source": [
    "class ResidualBlock(nn.Module):\n",
    "    def __init__(self, inner):\n",
    "        self.inner = inner\n",
    "\n",
    "    def forward(self, x):\n",
    "        x_orig = x\n",
    "        x = self.inner(x)\n",
    "        assert x.shape == x_orig.shape\n",
    "        return x + x_orig"
   ]
  },
  {
   "cell_type": "markdown",
   "id": "a7e5e503-54bf-47d5-8ee9-c965fedbaa72",
   "metadata": {},
   "source": [
    "Note that the shape must not change after the inner transformation. To do so with a Convolutional Neural Network, we need a very simple \"Identity\" convolution that does the same transformation."
   ]
  },
  {
   "cell_type": "code",
   "execution_count": 7,
   "id": "0d599e50-f824-4e1e-af13-aad97a04f7a2",
   "metadata": {},
   "outputs": [
    {
     "data": {
      "text/plain": [
       "\u001b[0;31mDocstring:\u001b[0m\n",
       "avg_pool2d(input, kernel_size, stride=None, padding=0, ceil_mode=False, count_include_pad=True, divisor_override=None) -> Tensor\n",
       "\n",
       "Applies 2D average-pooling operation in :math:`kH \\times kW` regions by step size\n",
       ":math:`sH \\times sW` steps. The number of output features is equal to the number of\n",
       "input planes.\n",
       "\n",
       "See :class:`~torch.nn.AvgPool2d` for details and output shape.\n",
       "\n",
       "Args:\n",
       "    input: input tensor :math:`(\\text{minibatch} , \\text{in\\_channels} , iH , iW)`\n",
       "    kernel_size: size of the pooling region. Can be a single number or a\n",
       "      tuple `(kH, kW)`\n",
       "    stride: stride of the pooling operation. Can be a single number or a\n",
       "      tuple `(sH, sW)`. Default: :attr:`kernel_size`\n",
       "    padding: implicit zero paddings on both sides of the input. Can be a\n",
       "      single number or a tuple `(padH, padW)`. Default: 0\n",
       "    ceil_mode: when True, will use `ceil` instead of `floor` in the formula\n",
       "        to compute the output shape. Default: ``False``\n",
       "    count_include_pad: when True, will include the zero-padding in the\n",
       "        averaging calculation. Default: ``True``\n",
       "    divisor_override: if specified, it will be used as divisor, otherwise\n",
       "         size of the pooling region will be used. Default: None\n",
       "\u001b[0;31mType:\u001b[0m      builtin_function_or_method"
      ]
     },
     "metadata": {},
     "output_type": "display_data"
    }
   ],
   "source": [
    "F.avg_pool2d?"
   ]
  },
  {
   "cell_type": "code",
   "execution_count": 97,
   "id": "9a7f9865-a6d0-4bce-bf4c-9b7827473b81",
   "metadata": {},
   "outputs": [],
   "source": [
    "# |export\n",
    "class ResidualConvBlock(nn.Module):\n",
    "    \"\"\"Convolutional block with residual links\"\"\"\n",
    "\n",
    "    def __init__(self, c_in, c_out, stride=2, ks=3, act=True, norm=True):\n",
    "        super().__init__()\n",
    "        self.conv_a = Conv(c_in, c_out, stride=1, ks=ks, act=act, norm=norm)\n",
    "        self.conv_b = Conv(c_out, c_out, stride=stride, ks=ks, act=False, norm=norm)\n",
    "        self.id_conv = nn.Conv2d(c_in, c_out, stride=1, kernel_size=1)\n",
    "        self.act = GeneralReLU() if act else None\n",
    "\n",
    "    def forward(self, x):\n",
    "        x_orig = x.clone()\n",
    "        # Downsample the original, if neccesary\n",
    "        if self.conv_b.stride == (2, 2):\n",
    "            x_orig = F.avg_pool2d(x_orig, kernel_size=2, ceil_mode=True)\n",
    "        elif self.conv_b.stride[0] > 2 or self.conv_b.stride[1] > 2:\n",
    "            raise ValueError\n",
    "        else:\n",
    "            assert self.conv_b.stride == (1, 1)\n",
    "        # Add extra channels, if neccesary\n",
    "        if self.conv_a.in_channels != self.conv_b.out_channels:\n",
    "            x_orig = self.id_conv(x_orig)\n",
    "        x = self.conv_a(x)\n",
    "        x = self.conv_b(x)\n",
    "        x += x_orig\n",
    "        if self.act:\n",
    "            x = self.act(x)\n",
    "        return x"
   ]
  },
  {
   "cell_type": "code",
   "execution_count": 98,
   "id": "c3e09f5a-2673-4beb-aa6c-9cc7c472de48",
   "metadata": {},
   "outputs": [
    {
     "data": {
      "text/html": [
       "\n",
       "<style>\n",
       "    /* Turns off some styling */\n",
       "    progress {\n",
       "        /* gets rid of default border in Firefox and Opera. */\n",
       "        border: none;\n",
       "        /* Needs to be in here for Safari polyfill so background images work as expected. */\n",
       "        background-size: auto;\n",
       "    }\n",
       "    progress:not([value]), progress:not([value])::-webkit-progress-bar {\n",
       "        background: repeating-linear-gradient(45deg, #7e7e7e, #7e7e7e 10px, #5c5c5c 10px, #5c5c5c 20px);\n",
       "    }\n",
       "    .progress-bar-interrupted, .progress-bar-interrupted::-webkit-progress-bar {\n",
       "        background: #F44336;\n",
       "    }\n",
       "</style>\n"
      ],
      "text/plain": [
       "<IPython.core.display.HTML object>"
      ]
     },
     "metadata": {},
     "output_type": "display_data"
    },
    {
     "data": {
      "text/html": [
       "<table border=\"1\" class=\"dataframe\">\n",
       "  <thead>\n",
       "    <tr style=\"text-align: left;\">\n",
       "      <th>MulticlassAccuracy</th>\n",
       "      <th>loss</th>\n",
       "      <th>epoch</th>\n",
       "      <th>train</th>\n",
       "    </tr>\n",
       "  </thead>\n",
       "  <tbody>\n",
       "    <tr>\n",
       "      <td>0.807</td>\n",
       "      <td>0.583</td>\n",
       "      <td>0</td>\n",
       "      <td>train</td>\n",
       "    </tr>\n",
       "    <tr>\n",
       "      <td>0.869</td>\n",
       "      <td>0.384</td>\n",
       "      <td>0</td>\n",
       "      <td>eval</td>\n",
       "    </tr>\n",
       "    <tr>\n",
       "      <td>0.894</td>\n",
       "      <td>0.289</td>\n",
       "      <td>1</td>\n",
       "      <td>train</td>\n",
       "    </tr>\n",
       "    <tr>\n",
       "      <td>0.893</td>\n",
       "      <td>0.288</td>\n",
       "      <td>1</td>\n",
       "      <td>eval</td>\n",
       "    </tr>\n",
       "    <tr>\n",
       "      <td>0.926</td>\n",
       "      <td>0.201</td>\n",
       "      <td>2</td>\n",
       "      <td>train</td>\n",
       "    </tr>\n",
       "    <tr>\n",
       "      <td>0.915</td>\n",
       "      <td>0.228</td>\n",
       "      <td>2</td>\n",
       "      <td>eval</td>\n",
       "    </tr>\n",
       "  </tbody>\n",
       "</table>"
      ],
      "text/plain": [
       "<IPython.core.display.HTML object>"
      ]
     },
     "metadata": {},
     "output_type": "display_data"
    },
    {
     "data": {
      "image/png": "[encoded data removed]",
      "text/plain": [
       "<Figure size 600x400 with 1 Axes>"
      ]
     },
     "metadata": {},
     "output_type": "display_data"
    }
   ],
   "source": [
    "m = DeeperCNN.kaiming(nfs=(8, 16, 32, 64, 128), block=ResidualConvBlock)\n",
    "_ = train_1cycle(m)"
   ]
  },
  {
   "cell_type": "markdown",
   "id": "d87604a1-694a-4d4c-b1f7-a3a25f9298fa",
   "metadata": {},
   "source": [
    "Recall, the previous best was %90.9 after 5 epochs 🥳\n",
    "\n",
    "Let's take a closer look at how the parameters are allocated"
   ]
  },
  {
   "cell_type": "code",
   "execution_count": 164,
   "id": "ea0be681-5161-4a7d-8ace-db0a28cc4870",
   "metadata": {},
   "outputs": [],
   "source": [
    "# |export\n",
    "class SummaryCB(HooksCallback):\n",
    "    \"\"\"Summarize the model\"\"\"\n",
    "\n",
    "    def __init__(self, mods=None, mod_filter=fc.noop):\n",
    "        super().__init__(hook_cls=partial(Hook, f=self.shape))\n",
    "        self.mods = mods\n",
    "        self.mod_filter = fc.noop\n",
    "        self.total = 0\n",
    "        self.lines = [\n",
    "            \"| Type | Input | Output | N. params | MFlops |\",\n",
    "            \"| -- | -- | -- | -- | -- |\",\n",
    "        ]\n",
    "\n",
    "    def flops(self, x, w, h):\n",
    "        \"\"\"Estimate flops\"\"\"\n",
    "        if x.dim() < 3:\n",
    "            return x.numel()\n",
    "        else:\n",
    "            return x.numel() * w * h\n",
    "\n",
    "    def shape(self, hook, module, input_, output_):\n",
    "        i, o = input_[0], output_[0]\n",
    "        *_, h, w = o.shape\n",
    "        np = sum(p.numel() for p in module.parameters())\n",
    "        self.total += np\n",
    "        flops = sum(self.flops(p, h, w) for p in module.parameters()) / 1e6\n",
    "        l = f\"| {type(module).__name__} | {tuple(i.shape)} | {tuple(o.shape)} | {np:,} | {flops:.1f}\"\n",
    "        self.lines.append(l)\n",
    "\n",
    "    def after_batch(self, learn):\n",
    "        self.lines.append(f\"| Total | | | {self.total:,} | |\")\n",
    "        display(Markdown(\"\\n\".join(self.lines)))\n",
    "        self.cleanup_fit(learn)\n",
    "        raise CancelFitException"
   ]
  },
  {
   "cell_type": "code",
   "execution_count": 169,
   "id": "42f360df-d1a4-48e4-9e78-7166734c6d57",
   "metadata": {},
   "outputs": [],
   "source": [
    "# |export\n",
    "def summarize(m, mods, dls=fashion_mnist(512)):\n",
    "    TrainLearner(\n",
    "        m,\n",
    "        dls,\n",
    "        F.cross_entropy,\n",
    "        lr=0.0,\n",
    "        cbs=[SummaryCB(mods=mods), DeviceCB()],\n",
    "        opt_func=torch.optim.AdamW,\n",
    "    ).fit()"
   ]
  },
  {
   "cell_type": "code",
   "execution_count": 170,
   "id": "24704542-e91d-4872-b19e-2af72ec6f205",
   "metadata": {},
   "outputs": [
    {
     "name": "stdout",
     "output_type": "stream",
     "text": [
      "Conv\n"
     ]
    },
    {
     "data": {
      "text/markdown": [
       "| Type | Input | Output | N. params | MFlops |\n",
       "| -- | -- | -- | -- | -- |\n",
       "| Conv | (512, 1, 28, 28) | (8, 28, 28) | 216 | 0.2\n",
       "| Conv | (512, 8, 28, 28) | (16, 14, 14) | 1,184 | 0.2\n",
       "| Conv | (512, 16, 14, 14) | (32, 7, 7) | 4,672 | 0.2\n",
       "| Conv | (512, 32, 7, 7) | (64, 4, 4) | 18,560 | 0.3\n",
       "| Conv | (512, 64, 4, 4) | (128, 2, 2) | 73,984 | 0.3\n",
       "| Conv | (512, 128, 2, 2) | (10, 1, 1) | 11,540 | 0.0\n",
       "| Total | | | 110,156 | |"
      ],
      "text/plain": [
       "<IPython.core.display.Markdown object>"
      ]
     },
     "metadata": {},
     "output_type": "display_data"
    },
    {
     "name": "stdout",
     "output_type": "stream",
     "text": [
      "ResidualConvBlock\n"
     ]
    },
    {
     "data": {
      "text/markdown": [
       "| Type | Input | Output | N. params | MFlops |\n",
       "| -- | -- | -- | -- | -- |\n",
       "| ResidualConvBlock | (512, 1, 28, 28) | (8, 28, 28) | 1,848 | 1.4\n",
       "| ResidualConvBlock | (512, 8, 28, 28) | (16, 14, 14) | 3,664 | 0.7\n",
       "| ResidualConvBlock | (512, 16, 14, 14) | (32, 7, 7) | 14,496 | 0.7\n",
       "| ResidualConvBlock | (512, 32, 7, 7) | (64, 4, 4) | 57,664 | 0.9\n",
       "| ResidualConvBlock | (512, 64, 4, 4) | (128, 2, 2) | 230,016 | 0.9\n",
       "| ResidualConvBlock | (512, 128, 2, 2) | (10, 1, 1) | 13,750 | 0.0\n",
       "| Total | | | 321,438 | |"
      ],
      "text/plain": [
       "<IPython.core.display.Markdown object>"
      ]
     },
     "metadata": {},
     "output_type": "display_data"
    }
   ],
   "source": [
    "for block in [Conv, ResidualConvBlock]:\n",
    "    print(block.__name__)\n",
    "    m = DeeperCNN.kaiming(nfs=(8, 16, 32, 64, 128), block=block)\n",
    "    summarize(m, m.layers)"
   ]
  },
  {
   "cell_type": "markdown",
   "id": "d305e75a-634f-4807-9300-4016552a8713",
   "metadata": {},
   "source": [
    "Indeed, we have almost 3x as many paramters and the training dynamics are quite stable!\n",
    "\n",
    "How does this compare to a standard implementation?"
   ]
  },
  {
   "cell_type": "code",
   "execution_count": 119,
   "id": "7293de64-e72e-4a99-8007-705da768c7b3",
   "metadata": {},
   "outputs": [],
   "source": [
    "def train_timm(id):\n",
    "    m = timm.create_model(id, in_chans=1, num_classes=10)\n",
    "    m.layers = []  # Because we're not recording anything\n",
    "    np = sum(p.numel() for p in m.parameters())\n",
    "    print(f\"N. parameters: {np:,}\")\n",
    "    train_1cycle(m)"
   ]
  },
  {
   "cell_type": "code",
   "execution_count": 121,
   "id": "f9c70cce-ba3f-4c21-a14f-5e381a680ffe",
   "metadata": {},
   "outputs": [
    {
     "name": "stdout",
     "output_type": "stream",
     "text": [
      "N. parameters: 11,175,370\n"
     ]
    },
    {
     "data": {
      "text/html": [
       "\n",
       "<style>\n",
       "    /* Turns off some styling */\n",
       "    progress {\n",
       "        /* gets rid of default border in Firefox and Opera. */\n",
       "        border: none;\n",
       "        /* Needs to be in here for Safari polyfill so background images work as expected. */\n",
       "        background-size: auto;\n",
       "    }\n",
       "    progress:not([value]), progress:not([value])::-webkit-progress-bar {\n",
       "        background: repeating-linear-gradient(45deg, #7e7e7e, #7e7e7e 10px, #5c5c5c 10px, #5c5c5c 20px);\n",
       "    }\n",
       "    .progress-bar-interrupted, .progress-bar-interrupted::-webkit-progress-bar {\n",
       "        background: #F44336;\n",
       "    }\n",
       "</style>\n"
      ],
      "text/plain": [
       "<IPython.core.display.HTML object>"
      ]
     },
     "metadata": {},
     "output_type": "display_data"
    },
    {
     "data": {
      "text/html": [
       "<table border=\"1\" class=\"dataframe\">\n",
       "  <thead>\n",
       "    <tr style=\"text-align: left;\">\n",
       "      <th>MulticlassAccuracy</th>\n",
       "      <th>loss</th>\n",
       "      <th>epoch</th>\n",
       "      <th>train</th>\n",
       "    </tr>\n",
       "  </thead>\n",
       "  <tbody>\n",
       "    <tr>\n",
       "      <td>0.776</td>\n",
       "      <td>0.663</td>\n",
       "      <td>0</td>\n",
       "      <td>train</td>\n",
       "    </tr>\n",
       "    <tr>\n",
       "      <td>0.729</td>\n",
       "      <td>0.935</td>\n",
       "      <td>0</td>\n",
       "      <td>eval</td>\n",
       "    </tr>\n",
       "    <tr>\n",
       "      <td>0.884</td>\n",
       "      <td>0.312</td>\n",
       "      <td>1</td>\n",
       "      <td>train</td>\n",
       "    </tr>\n",
       "    <tr>\n",
       "      <td>0.890</td>\n",
       "      <td>0.316</td>\n",
       "      <td>1</td>\n",
       "      <td>eval</td>\n",
       "    </tr>\n",
       "    <tr>\n",
       "      <td>0.914</td>\n",
       "      <td>0.230</td>\n",
       "      <td>2</td>\n",
       "      <td>train</td>\n",
       "    </tr>\n",
       "    <tr>\n",
       "      <td>0.906</td>\n",
       "      <td>0.260</td>\n",
       "      <td>2</td>\n",
       "      <td>eval</td>\n",
       "    </tr>\n",
       "  </tbody>\n",
       "</table>"
      ],
      "text/plain": [
       "<IPython.core.display.HTML object>"
      ]
     },
     "metadata": {},
     "output_type": "display_data"
    },
    {
     "data": {
      "image/png": "[encoded data removed]",
      "text/plain": [
       "<Figure size 600x400 with 1 Axes>"
      ]
     },
     "metadata": {},
     "output_type": "display_data"
    }
   ],
   "source": [
    "train_timm(\"resnet18\")"
   ]
  },
  {
   "cell_type": "markdown",
   "id": "574bf493-6895-49e7-b26f-fc30e1514458",
   "metadata": {},
   "source": [
    "Slightly better! Of course, this model has 30x more parameters, so it's not surprising."
   ]
  },
  {
   "cell_type": "markdown",
   "id": "2dd5d5d9-4367-410b-b428-c8f5578e0f71",
   "metadata": {},
   "source": [
    "How does this compare to a network without these links?"
   ]
  },
  {
   "cell_type": "code",
   "execution_count": 122,
   "id": "a68dade3-16e1-4c6e-aa80-a60166153faa",
   "metadata": {},
   "outputs": [],
   "source": [
    "class DoubleConvBlock(nn.Module):\n",
    "    \"\"\"Convolutional block with residual links\"\"\"\n",
    "\n",
    "    def __init__(self, c_in, c_out, stride=2, ks=3, act=True, norm=True):\n",
    "        super().__init__()\n",
    "        self.conv_a = Conv(c_in, c_out, stride=1, ks=ks, act=act, norm=norm)\n",
    "        self.conv_b = Conv(c_out, c_out, stride=stride, ks=ks, act=act, norm=norm)\n",
    "\n",
    "    def forward(self, x):\n",
    "        x = self.conv_a(x)\n",
    "        x = self.conv_b(x)\n",
    "        return x"
   ]
  },
  {
   "cell_type": "code",
   "execution_count": 125,
   "id": "45437fd3-306e-44fe-95d5-1c62918d405b",
   "metadata": {},
   "outputs": [],
   "source": [
    "m = DeeperCNN.kaiming(nfs=(8, 16, 32, 64, 128), block=DoubleConvBlock)"
   ]
  },
  {
   "cell_type": "code",
   "execution_count": 126,
   "id": "1ad7d388-ff48-49c3-86ac-f9fbffe6d7a1",
   "metadata": {},
   "outputs": [
    {
     "data": {
      "text/html": [
       "\n",
       "<style>\n",
       "    /* Turns off some styling */\n",
       "    progress {\n",
       "        /* gets rid of default border in Firefox and Opera. */\n",
       "        border: none;\n",
       "        /* Needs to be in here for Safari polyfill so background images work as expected. */\n",
       "        background-size: auto;\n",
       "    }\n",
       "    progress:not([value]), progress:not([value])::-webkit-progress-bar {\n",
       "        background: repeating-linear-gradient(45deg, #7e7e7e, #7e7e7e 10px, #5c5c5c 10px, #5c5c5c 20px);\n",
       "    }\n",
       "    .progress-bar-interrupted, .progress-bar-interrupted::-webkit-progress-bar {\n",
       "        background: #F44336;\n",
       "    }\n",
       "</style>\n"
      ],
      "text/plain": [
       "<IPython.core.display.HTML object>"
      ]
     },
     "metadata": {},
     "output_type": "display_data"
    },
    {
     "data": {
      "text/html": [
       "\n",
       "    <div>\n",
       "      <progress value='0' class='' max='3' style='width:300px; height:20px; vertical-align: middle;'></progress>\n",
       "      0.00% [0/3 00:00&lt;?]\n",
       "    </div>\n",
       "    \n",
       "\n",
       "\n",
       "    <div>\n",
       "      <progress value='0' class='' max='118' style='width:300px; height:20px; vertical-align: middle;'></progress>\n",
       "      0.00% [0/118 00:00&lt;?]\n",
       "    </div>\n",
       "    "
      ],
      "text/plain": [
       "<IPython.core.display.HTML object>"
      ]
     },
     "metadata": {},
     "output_type": "display_data"
    },
    {
     "data": {
      "text/markdown": [
       "| Type | Input | Output | N. params\n",
       "| -- | -- | -- | -- |\n",
       "| DoubleConvBlock | (512, 1, 28, 28) | (8, 28, 28) | 1,832\n",
       "| DoubleConvBlock | (512, 8, 28, 28) | (16, 14, 14) | 3,520\n",
       "| DoubleConvBlock | (512, 16, 14, 14) | (32, 7, 7) | 13,952\n",
       "| DoubleConvBlock | (512, 32, 7, 7) | (64, 4, 4) | 55,552\n",
       "| DoubleConvBlock | (512, 64, 4, 4) | (128, 2, 2) | 221,696\n",
       "| DoubleConvBlock | (512, 128, 2, 2) | (10, 1, 1) | 12,460\n",
       "| Total | | | 309,012 |"
      ],
      "text/plain": [
       "<IPython.core.display.Markdown object>"
      ]
     },
     "metadata": {},
     "output_type": "display_data"
    }
   ],
   "source": [
    "shape(m)"
   ]
  },
  {
   "cell_type": "code",
   "execution_count": 123,
   "id": "fc843406-7343-49bf-99b5-14cef0760754",
   "metadata": {},
   "outputs": [
    {
     "data": {
      "text/html": [
       "\n",
       "<style>\n",
       "    /* Turns off some styling */\n",
       "    progress {\n",
       "        /* gets rid of default border in Firefox and Opera. */\n",
       "        border: none;\n",
       "        /* Needs to be in here for Safari polyfill so background images work as expected. */\n",
       "        background-size: auto;\n",
       "    }\n",
       "    progress:not([value]), progress:not([value])::-webkit-progress-bar {\n",
       "        background: repeating-linear-gradient(45deg, #7e7e7e, #7e7e7e 10px, #5c5c5c 10px, #5c5c5c 20px);\n",
       "    }\n",
       "    .progress-bar-interrupted, .progress-bar-interrupted::-webkit-progress-bar {\n",
       "        background: #F44336;\n",
       "    }\n",
       "</style>\n"
      ],
      "text/plain": [
       "<IPython.core.display.HTML object>"
      ]
     },
     "metadata": {},
     "output_type": "display_data"
    },
    {
     "data": {
      "text/html": [
       "<table border=\"1\" class=\"dataframe\">\n",
       "  <thead>\n",
       "    <tr style=\"text-align: left;\">\n",
       "      <th>MulticlassAccuracy</th>\n",
       "      <th>loss</th>\n",
       "      <th>epoch</th>\n",
       "      <th>train</th>\n",
       "    </tr>\n",
       "  </thead>\n",
       "  <tbody>\n",
       "    <tr>\n",
       "      <td>0.793</td>\n",
       "      <td>0.730</td>\n",
       "      <td>0</td>\n",
       "      <td>train</td>\n",
       "    </tr>\n",
       "    <tr>\n",
       "      <td>0.806</td>\n",
       "      <td>0.599</td>\n",
       "      <td>0</td>\n",
       "      <td>eval</td>\n",
       "    </tr>\n",
       "    <tr>\n",
       "      <td>0.889</td>\n",
       "      <td>0.348</td>\n",
       "      <td>1</td>\n",
       "      <td>train</td>\n",
       "    </tr>\n",
       "    <tr>\n",
       "      <td>0.898</td>\n",
       "      <td>0.304</td>\n",
       "      <td>1</td>\n",
       "      <td>eval</td>\n",
       "    </tr>\n",
       "    <tr>\n",
       "      <td>0.920</td>\n",
       "      <td>0.247</td>\n",
       "      <td>2</td>\n",
       "      <td>train</td>\n",
       "    </tr>\n",
       "    <tr>\n",
       "      <td>0.910</td>\n",
       "      <td>0.275</td>\n",
       "      <td>2</td>\n",
       "      <td>eval</td>\n",
       "    </tr>\n",
       "  </tbody>\n",
       "</table>"
      ],
      "text/plain": [
       "<IPython.core.display.HTML object>"
      ]
     },
     "metadata": {},
     "output_type": "display_data"
    },
    {
     "data": {
      "image/png": "[encoded data removed]",
      "text/plain": [
       "<Figure size 600x400 with 1 Axes>"
      ]
     },
     "metadata": {},
     "output_type": "display_data"
    }
   ],
   "source": [
    "_ = train_1cycle(m)"
   ]
  },
  {
   "cell_type": "markdown",
   "id": "0efed7f7-f86c-441a-a4b7-16ab0e7465c0",
   "metadata": {},
   "source": [
    "Interestingly, only the slightest bit worse"
   ]
  },
  {
   "cell_type": "code",
   "execution_count": 171,
   "id": "c474e89c-3740-4d15-81cb-417f54316f7a",
   "metadata": {},
   "outputs": [],
   "source": [
    "#| hide\n",
    "import nbdev\n",
    "\n",
    "nbdev.nbdev_export()"
   ]
  },
  {
   "cell_type": "code",
   "execution_count": null,
   "id": "d661fe31-fa26-4245-b9aa-df669b6dace9",
   "metadata": {},
   "outputs": [],
   "source": []
  },
  {
   "cell_type": "code",
   "execution_count": null,
   "id": "ab071871-c05a-4cdc-894b-c1acc2d01983",
   "metadata": {},
   "outputs": [],
   "source": []
  }
 ],
 "metadata": {
  "kernelspec": {
   "display_name": "SlowAI",
   "language": "python",
   "name": "slowai"
  },
  "language_info": {
   "codemirror_mode": {
    "name": "ipython",
    "version": 3
   },
   "file_extension": ".py",
   "mimetype": "text/x-python",
   "name": "python",
   "nbconvert_exporter": "python",
   "pygments_lexer": "ipython3",
   "version": "3.10.13"
  }
 },
 "nbformat": 4,
 "nbformat_minor": 5
}

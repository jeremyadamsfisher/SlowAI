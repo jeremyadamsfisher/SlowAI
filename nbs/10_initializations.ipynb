{
 "cells": [
  {
   "cell_type": "markdown",
   "id": "f7ce5939-77ef-4fc8-9dfd-6d68ca008190",
   "metadata": {},
   "source": [
    "# Initializations\n",
    "\n",
    "> Weights should be initialized apropriately"
   ]
  },
  {
   "cell_type": "markdown",
   "id": "fcf6401e",
   "metadata": {},
   "source": [
    "Adapted from:\n",
    "\n",
    "- [https://www.youtube.com/watch?v=vGsc_NbU7xc&t=129s](https://www.youtube.com/watch?v=vGsc_NbU7xc&t=129s)"
   ]
  },
  {
   "cell_type": "code",
   "execution_count": 1,
   "id": "6c8511f0-53c5-402a-aa71-56fa2041955d",
   "metadata": {},
   "outputs": [],
   "source": [
    "#| default_exp initializations"
   ]
  },
  {
   "cell_type": "code",
   "execution_count": 3,
   "id": "66b53d5d-1502-4b49-9c3a-c0248826c27f",
   "metadata": {},
   "outputs": [],
   "source": [
    "# |export\n",
    "import random\n",
    "from contextlib import contextmanager\n",
    "from functools import partial\n",
    "\n",
    "import fastcore.all as fc\n",
    "import matplotlib.pyplot as plt\n",
    "import numpy as np\n",
    "import torch\n",
    "import torch.nn.functional as F\n",
    "from einops import rearrange\n",
    "from torch import Tensor, nn\n",
    "from torchmetrics.classification import MulticlassAccuracy\n",
    "\n",
    "from slowai.activations import set_seed\n",
    "from slowai.datasets import get_grid, show_image\n",
    "from slowai.learner import (\n",
    "    Callback,\n",
    "    DeviceCB,\n",
    "    MetricsCB,\n",
    "    ProgressCB,\n",
    "    TrainLearner,\n",
    "    fashion_mnist,\n",
    "    to_cpu,\n",
    ")"
   ]
  },
  {
   "cell_type": "code",
   "execution_count": 4,
   "id": "43a875e6-d413-461f-86aa-95dd91478350",
   "metadata": {},
   "outputs": [],
   "source": [
    "set_seed(42)\n",
    "plt.style.use(\"ggplot\")"
   ]
  },
  {
   "cell_type": "markdown",
   "id": "d6a5c2f2-78f3-4017-a9cd-5f88cbbe75e8",
   "metadata": {},
   "source": [
    "## Baseline\n",
    "\n",
    "Let's look at a fashion MNIST classification problem. "
   ]
  },
  {
   "cell_type": "code",
   "execution_count": null,
   "id": "0e68cdab-c8f7-413f-83d6-6d3a6329829a",
   "metadata": {},
   "outputs": [],
   "source": []
  },
  {
   "cell_type": "code",
   "execution_count": 12,
   "id": "c474e89c-3740-4d15-81cb-417f54316f7a",
   "metadata": {},
   "outputs": [],
   "source": [
    "#| hide\n",
    "import nbdev\n",
    "\n",
    "nbdev.nbdev_export()"
   ]
  }
 ],
 "metadata": {
  "kernelspec": {
   "display_name": "SlowAI",
   "language": "python",
   "name": "slowai"
  },
  "language_info": {
   "codemirror_mode": {
    "name": "ipython",
    "version": 3
   },
   "file_extension": ".py",
   "mimetype": "text/x-python",
   "name": "python",
   "nbconvert_exporter": "python",
   "pygments_lexer": "ipython3",
   "version": "3.11.5"
  }
 },
 "nbformat": 4,
 "nbformat_minor": 5
}

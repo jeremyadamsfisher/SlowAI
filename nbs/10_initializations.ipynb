{
 "cells": [
  {
   "cell_type": "markdown",
   "id": "f7ce5939-77ef-4fc8-9dfd-6d68ca008190",
   "metadata": {},
   "source": [
    "# Initializations\n",
    "\n",
    "> Weights should be initialized apropriately"
   ]
  },
  {
   "cell_type": "markdown",
   "id": "fcf6401e",
   "metadata": {},
   "source": [
    "Adapted from:\n",
    "\n",
    "- [https://www.youtube.com/watch?v=vGsc_NbU7xc&t=129s](https://www.youtube.com/watch?v=vGsc_NbU7xc&t=129s)"
   ]
  },
  {
   "cell_type": "code",
   "execution_count": 1,
   "id": "6c8511f0-53c5-402a-aa71-56fa2041955d",
   "metadata": {},
   "outputs": [],
   "source": [
    "#| default_exp initializations"
   ]
  },
  {
   "cell_type": "code",
   "execution_count": 2,
   "id": "66b53d5d-1502-4b49-9c3a-c0248826c27f",
   "metadata": {},
   "outputs": [],
   "source": [
    "# |export\n",
    "import math\n",
    "import random\n",
    "from contextlib import contextmanager\n",
    "from functools import partial\n",
    "\n",
    "import fastcore.all as fc\n",
    "import matplotlib.pyplot as plt\n",
    "import numpy as np\n",
    "import torch\n",
    "import torch.nn.functional as F\n",
    "from einops import rearrange\n",
    "from torch import Tensor, nn\n",
    "from torch.nn import init\n",
    "from torchmetrics.classification import MulticlassAccuracy\n",
    "\n",
    "from slowai.activations import Conv2dWithReLU, StoreModuleStatsCB, set_seed\n",
    "from slowai.datasets import get_grid, show_image\n",
    "from slowai.learner import (\n",
    "    Callback,\n",
    "    DeviceCB,\n",
    "    LRFinderCB,\n",
    "    MetricsCB,\n",
    "    ProgressCB,\n",
    "    TrainLearner,\n",
    "    fashion_mnist,\n",
    "    to_cpu,\n",
    ")"
   ]
  },
  {
   "cell_type": "code",
   "execution_count": 3,
   "id": "43a875e6-d413-461f-86aa-95dd91478350",
   "metadata": {},
   "outputs": [],
   "source": [
    "set_seed(42)\n",
    "plt.style.use(\"ggplot\")"
   ]
  },
  {
   "cell_type": "markdown",
   "id": "0272a03a-0491-41fc-bca1-3649bbe4f8f7",
   "metadata": {
    "jp-MarkdownHeadingCollapsed": true
   },
   "source": [
    "## Probability, Miscellaneous\n",
    "\n",
    "- \"Average error\" is typically 0 because positive and negative errors cancel out, making this metric not useful. We can avoid this by using the \"{Root, }Mean Squared Error,\" which counts large errors more strongly\n",
    "- **Variance**\n",
    "\n",
    "> In probability theory and statistics, variance is the expected value of the squared deviation from the mean of a random variable\n",
    "\n",
    "[https://en.wikipedia.org/wiki/Variance](https://en.wikipedia.org/wiki/Variance)\n",
    "\n",
    "$$\\sigma^2 = \\sum \\frac{(x-\\mathbb{E}[X])^2}{N}$$\n",
    "\n",
    "  This version is quicker to calculate:\n",
    "\n",
    "$$\\sigma^2 = \\mathbb{E}[X^2] - \\mathbb{E}[X]^2$$\n",
    "\n",
    "- **Convariance**\n",
    "\n",
    "> Covariance in probability theory and statistics is a measure of the joint variability of two random variables.\n",
    "\n",
    "[https://en.wikipedia.org/wiki/Covariance](https://en.wikipedia.org/wiki/Covariance)\n",
    "\n",
    "$$\\operatorname{cov}(X,Y) = \\operatorname{E}{\\big[(X - \\operatorname{E}[X])(Y - \\operatorname{E}[Y])\\big]}$$\n",
    "\n",
    "You can think about this as the average product of residuals of different features. If two features \"co-vary,\" these products will be very large or very small; if not, they the products will be totally random and the sum will be small (because different directions cancel eachother out).\n",
    "\n",
    "- **Pearson correlation coefficient**\n",
    "\n",
    "$$\\rho_{X,Y}= \\frac{\\operatorname{cov}(X,Y)}{\\sigma_X \\sigma_Y}$$\n",
    "\n",
    "Think of this as a __normalized covariance__. "
   ]
  },
  {
   "cell_type": "markdown",
   "id": "d6a5c2f2-78f3-4017-a9cd-5f88cbbe75e8",
   "metadata": {},
   "source": [
    "## Baseline\n",
    "\n",
    "Let's look at a fashion MNIST classification problem. Our goal is to get accuracy to at least 90%."
   ]
  },
  {
   "cell_type": "code",
   "execution_count": 4,
   "id": "f8407763-7bbf-4f2e-840e-fd2b643a6aa1",
   "metadata": {},
   "outputs": [],
   "source": [
    "class CNN(nn.Module):\n",
    "    \"\"\"Six layer convolutional neural network\"\"\"\n",
    "\n",
    "    def __init__(self):\n",
    "        super().__init__()\n",
    "        self.layers = nn.Sequential(\n",
    "            Conv2dWithReLU(1, 8, kernel_size=5, stride=2, padding=2),  # 14x14\n",
    "            Conv2dWithReLU(8, 16, kernel_size=3, stride=2, padding=1),  # 7x7\n",
    "            Conv2dWithReLU(16, 32, kernel_size=3, stride=2, padding=1),  # 4x4\n",
    "            Conv2dWithReLU(32, 64, kernel_size=3, stride=2, padding=1),  # 2x2\n",
    "            nn.Conv2d(64, 10, kernel_size=3, stride=2, padding=1),  # 1x1\n",
    "        )\n",
    "\n",
    "    def forward(self, x):\n",
    "        x = self.layers(x)\n",
    "        return rearrange(x, \"bs c w h -> bs (c w h)\")"
   ]
  },
  {
   "cell_type": "markdown",
   "id": "ac1bba26-d910-4705-a369-d443891368fa",
   "metadata": {},
   "source": [
    "Let's start by finding the learning rate.\n",
    "\n",
    "This diverges very quickly"
   ]
  },
  {
   "cell_type": "code",
   "execution_count": 5,
   "id": "bb3eb778-153c-42e5-baff-2c9fb8ded1ca",
   "metadata": {},
   "outputs": [
    {
     "data": {
      "image/png": "[encoded data removed]",
      "text/plain": [
       "<Figure size 640x480 with 1 Axes>"
      ]
     },
     "metadata": {},
     "output_type": "display_data"
    }
   ],
   "source": [
    "learn = TrainLearner(\n",
    "    CNN(),\n",
    "    fashion_mnist(),\n",
    "    F.cross_entropy,\n",
    "    lr=0.6,\n",
    "    cbs=[LRFinderCB()],\n",
    ").fit()"
   ]
  },
  {
   "cell_type": "markdown",
   "id": "ee40651f-b199-4fe2-9537-9bfc3c240dee",
   "metadata": {},
   "source": [
    "That's unusable. Let's dial down the learning rate increase and start at a lower learning rate."
   ]
  },
  {
   "cell_type": "code",
   "execution_count": 6,
   "id": "41edf3c4-bac2-4963-b181-1eb8044473b3",
   "metadata": {},
   "outputs": [
    {
     "data": {
      "text/plain": [
       "\u001b[0;31mInit signature:\u001b[0m \u001b[0mLRFinderCB\u001b[0m\u001b[0;34m(\u001b[0m\u001b[0mgamma\u001b[0m\u001b[0;34m=\u001b[0m\u001b[0;36m1.3\u001b[0m\u001b[0;34m,\u001b[0m \u001b[0mmax_mult\u001b[0m\u001b[0;34m=\u001b[0m\u001b[0;36m3\u001b[0m\u001b[0;34m)\u001b[0m\u001b[0;34m\u001b[0m\u001b[0;34m\u001b[0m\u001b[0m\n",
       "\u001b[0;31mDocstring:\u001b[0m     \n",
       "Find an apopriate learning rate by increasing it by a constant factor for each batch\n",
       "until the loss diverges\n",
       "\u001b[0;31mFile:\u001b[0m           ~/Desktop/SlowAI/nbs/slowai/learner.py\n",
       "\u001b[0;31mType:\u001b[0m           type\n",
       "\u001b[0;31mSubclasses:\u001b[0m     "
      ]
     },
     "metadata": {},
     "output_type": "display_data"
    }
   ],
   "source": [
    "LRFinderCB?"
   ]
  },
  {
   "cell_type": "code",
   "execution_count": 7,
   "id": "15262562-cd15-40f2-8fee-96ef8b6cd07e",
   "metadata": {},
   "outputs": [
    {
     "data": {
      "image/png": "[encoded data removed]",
      "text/plain": [
       "<Figure size 640x480 with 1 Axes>"
      ]
     },
     "metadata": {},
     "output_type": "display_data"
    }
   ],
   "source": [
    "learn = TrainLearner(\n",
    "    CNN(),\n",
    "    fashion_mnist(64),\n",
    "    F.cross_entropy,\n",
    "    lr=1e-2,\n",
    "    cbs=[LRFinderCB(gamma=1.05)],\n",
    ").fit()"
   ]
  },
  {
   "cell_type": "code",
   "execution_count": null,
   "id": "9ba4b034-ee64-4b2c-8ba2-bcd87dcd8d69",
   "metadata": {},
   "outputs": [
    {
     "data": {
      "text/html": [
       "\n",
       "<style>\n",
       "    /* Turns off some styling */\n",
       "    progress {\n",
       "        /* gets rid of default border in Firefox and Opera. */\n",
       "        border: none;\n",
       "        /* Needs to be in here for Safari polyfill so background images work as expected. */\n",
       "        background-size: auto;\n",
       "    }\n",
       "    progress:not([value]), progress:not([value])::-webkit-progress-bar {\n",
       "        background: repeating-linear-gradient(45deg, #7e7e7e, #7e7e7e 10px, #5c5c5c 10px, #5c5c5c 20px);\n",
       "    }\n",
       "    .progress-bar-interrupted, .progress-bar-interrupted::-webkit-progress-bar {\n",
       "        background: #F44336;\n",
       "    }\n",
       "</style>\n"
      ],
      "text/plain": [
       "<IPython.core.display.HTML object>"
      ]
     },
     "metadata": {},
     "output_type": "display_data"
    },
    {
     "data": {
      "text/html": [
       "\n",
       "    <div>\n",
       "      <progress value='1' class='' max='2' style='width:300px; height:20px; vertical-align: middle;'></progress>\n",
       "      50.00% [1/2 00:13&lt;00:13]\n",
       "    </div>\n",
       "    \n",
       "<table border=\"1\" class=\"dataframe\">\n",
       "  <thead>\n",
       "    <tr style=\"text-align: left;\">\n",
       "      <th>MulticlassAccuracy</th>\n",
       "      <th>loss</th>\n",
       "      <th>epoch</th>\n",
       "      <th>train</th>\n",
       "    </tr>\n",
       "  </thead>\n",
       "  <tbody>\n",
       "    <tr>\n",
       "      <td>0.168</td>\n",
       "      <td>2.375</td>\n",
       "      <td>0</td>\n",
       "      <td>train</td>\n",
       "    </tr>\n",
       "    <tr>\n",
       "      <td>0.100</td>\n",
       "      <td>2.301</td>\n",
       "      <td>0</td>\n",
       "      <td>eval</td>\n",
       "    </tr>\n",
       "  </tbody>\n",
       "</table><p>\n",
       "\n",
       "    <div>\n",
       "      <progress value='0' class='' max='30' style='width:300px; height:20px; vertical-align: middle;'></progress>\n",
       "      0.00% [0/30 00:00&lt;?]\n",
       "    </div>\n",
       "    "
      ],
      "text/plain": [
       "<IPython.core.display.HTML object>"
      ]
     },
     "metadata": {},
     "output_type": "display_data"
    },
    {
     "data": {
      "image/png": "[encoded data removed]",
      "text/plain": [
       "<Figure size 600x400 with 1 Axes>"
      ]
     },
     "metadata": {},
     "output_type": "display_data"
    }
   ],
   "source": [
    "model = CNN()\n",
    "stats = StoreModuleStatsCB(mods=model.layers)\n",
    "cbs = [\n",
    "    MetricsCB(MulticlassAccuracy(num_classes=10)),\n",
    "    DeviceCB(),\n",
    "    ProgressCB(plot=True),\n",
    "    stats,\n",
    "]\n",
    "learn = TrainLearner(\n",
    "    model,\n",
    "    fashion_mnist(),\n",
    "    F.cross_entropy,\n",
    "    lr=0.6,\n",
    "    cbs=cbs,\n",
    ").fit(2)"
   ]
  },
  {
   "cell_type": "code",
   "execution_count": null,
   "id": "87cd1a74-57fd-4375-b9c6-6ffeec3c0e07",
   "metadata": {},
   "outputs": [],
   "source": [
    "stats.hist_plot()"
   ]
  },
  {
   "cell_type": "markdown",
   "id": "311e648a-a29c-4bbd-b4ec-aad451458b5b",
   "metadata": {},
   "source": [
    "The issue with neural networks in real life is that they must be represented by discrete data structures. These can overflow..."
   ]
  },
  {
   "cell_type": "code",
   "execution_count": null,
   "id": "65a69336-ea48-48c4-a004-34e5e0c0be7d",
   "metadata": {},
   "outputs": [],
   "source": [
    "x = torch.randn(200, 100)\n",
    "for i in range(50):\n",
    "    x = x @ torch.randn(100, 100)\n",
    "x[0:5, 0:5]"
   ]
  },
  {
   "cell_type": "markdown",
   "id": "be4f18fa-c089-4945-a8eb-02bc5388b011",
   "metadata": {},
   "source": [
    "...or underflow.."
   ]
  },
  {
   "cell_type": "code",
   "execution_count": null,
   "id": "f338ecfe-db4f-482f-8c4a-5d7c006f3391",
   "metadata": {},
   "outputs": [],
   "source": [
    "x = torch.randn(200, 100)\n",
    "for i in range(50):\n",
    "    x = x @ torch.randn(100, 100) * 0.01\n",
    "x[0:5, 0:5]"
   ]
  },
  {
   "cell_type": "markdown",
   "id": "ef278352-9406-4099-b752-4df138e749c2",
   "metadata": {},
   "source": [
    "We should scale our weights such that, throughout the training process, the mean remains near 0 and the standard deviation remains near 1. Otherwise, we are suseptible to these \"dead units\"\n",
    "\n",
    "## Glorot/Xavier\n",
    "\n",
    "Normally, the mean variance of a layer is approximately the number of output dimensions"
   ]
  },
  {
   "cell_type": "code",
   "execution_count": null,
   "id": "b8358853-6ab4-4100-b65e-36495bf90ccb",
   "metadata": {},
   "outputs": [],
   "source": [
    "for d in [1, 100]:\n",
    "    means = []\n",
    "    sqrs = []\n",
    "\n",
    "    for _ in range(500):\n",
    "        x = torch.randn(d)\n",
    "        a = torch.randn(512, d)\n",
    "        y = a @ x\n",
    "        means.append(y.mean())\n",
    "        sqrs.append(y.pow(2).mean())\n",
    "\n",
    "    res = torch.stack(means).mean(), torch.stack(sqrs).mean()\n",
    "    print(res)"
   ]
  },
  {
   "cell_type": "markdown",
   "id": "adc51361-44ab-4367-9ef6-59d9404d5e58",
   "metadata": {},
   "source": [
    "\n",
    "\n",
    "To encourage of variance of 1, the paper from Xavier Glorot and Yoshua Bengio proposed that each layer have a coefficient of $\\frac{1}{\\sqrt{d}}$ where $d$ is the number of inputs"
   ]
  },
  {
   "cell_type": "code",
   "execution_count": null,
   "id": "0b876c91-6937-47fc-9ead-e34a7a566229",
   "metadata": {},
   "outputs": [],
   "source": [
    "d = 100\n",
    "x = torch.randn(200, d)\n",
    "for i in range(50):\n",
    "    layer = torch.randn(d, d) * (1 / math.sqrt(d))\n",
    "    x = x @ layer\n",
    "x[0:5, 0:5]"
   ]
  },
  {
   "cell_type": "markdown",
   "id": "88ed66bb-bd74-4b84-bf42-da6571591d0a",
   "metadata": {},
   "source": [
    "Indeed, this gives us reasonable numbers! However, this doesn't work for modern deep learning because of the **activation layers**.\n",
    "\n",
    "\n",
    "## Kaiming/He init\n",
    "\n",
    "Notice that the first layer of a neural network has a favorable activation distribution"
   ]
  },
  {
   "cell_type": "code",
   "execution_count": null,
   "id": "df34dcb8-7eed-4ac6-b605-2fc61f2340b4",
   "metadata": {},
   "outputs": [],
   "source": [
    "d1, d2 = 100, 100\n",
    "x = torch.randn(200, d1)\n",
    "y = torch.randn(200)\n",
    "w = torch.randn(d1, d2) / math.sqrt(d1)\n",
    "b = torch.zeros(d2)"
   ]
  },
  {
   "cell_type": "code",
   "execution_count": null,
   "id": "eae19512-b03f-4fba-9e7c-c43c6bcef975",
   "metadata": {},
   "outputs": [],
   "source": [
    "l1 = x @ w + b\n",
    "l1.mean(), l1.std()"
   ]
  },
  {
   "cell_type": "markdown",
   "id": "0e3e18e2-e052-4338-a463-eb7eddec9d94",
   "metadata": {},
   "source": [
    "But what happens when we add non-linearities?"
   ]
  },
  {
   "cell_type": "code",
   "execution_count": null,
   "id": "4db872c9-c6f1-4ed8-ae71-6b187b4200be",
   "metadata": {},
   "outputs": [],
   "source": [
    "def relu(x):\n",
    "    return x.clamp_min(0.0)\n",
    "\n",
    "\n",
    "l1r = relu(l1)\n",
    "l1r.mean(), l1r.std()"
   ]
  },
  {
   "cell_type": "markdown",
   "id": "f7eb595b-b20f-4455-b110-39f17cfabea1",
   "metadata": {},
   "source": [
    "Indeed, this property is lost...thus lies the path to perdition..."
   ]
  },
  {
   "cell_type": "code",
   "execution_count": null,
   "id": "cc5bacfa-6d1f-483a-9fe2-54e455ab9771",
   "metadata": {},
   "outputs": [],
   "source": [
    "l = l1r\n",
    "for _ in range(50):\n",
    "    w = torch.randn(d2, d2) * math.sqrt(1 / d2)\n",
    "    l = relu(l @ w)\n",
    "l[0:5, 0:5]"
   ]
  },
  {
   "cell_type": "markdown",
   "id": "f04cd0d1-5b3e-4a72-bb84-c026d16d3af0",
   "metadata": {},
   "source": [
    "To rectify this situation, Kaiming proposed using $\\sqrt{\\frac{2}{d}}$ 😂"
   ]
  },
  {
   "cell_type": "code",
   "execution_count": null,
   "id": "39c825e4-a4a1-4d52-800a-3651621b3934",
   "metadata": {},
   "outputs": [],
   "source": [
    "l = l1r\n",
    "for _ in range(50):\n",
    "    w = torch.randn(d2, d2) * math.sqrt(2 / d2)\n",
    "    l = relu(l @ w)\n",
    "l[0:5, 0:5]"
   ]
  },
  {
   "cell_type": "markdown",
   "id": "242df526-b302-4aa7-be38-fa74ac9f3330",
   "metadata": {},
   "source": [
    "Notice, there are still positive numbers even after 50 layers!\n",
    "\n",
    "This is the best way to initialize a network. But how do we do this on a code level? We use the `.apply()` method."
   ]
  },
  {
   "cell_type": "code",
   "execution_count": null,
   "id": "c70d6c2b-6650-4dd7-a9b2-caa1e32c1ea0",
   "metadata": {},
   "outputs": [],
   "source": [
    "def init_weights(module):\n",
    "    # `kaiming_normal_` is an in-place operation, unlike `kaiming_normal`\n",
    "    if not isinstance(module, (nn.Sequential, Conv2dWithReLU, CNN)):\n",
    "        init.kaiming_normal_(module.weight)"
   ]
  },
  {
   "cell_type": "code",
   "execution_count": null,
   "id": "873123c9-5219-498e-80e7-95a701a8d629",
   "metadata": {},
   "outputs": [],
   "source": [
    "model = CNN()\n",
    "model.apply(init_weights)\n",
    "learn = TrainLearner(\n",
    "    CNN(),\n",
    "    fashion_mnist(64),\n",
    "    F.cross_entropy,\n",
    "    lr=1e-2,\n",
    "    cbs=[LRFinderCB(gamma=1.05)],\n",
    ").fit()"
   ]
  },
  {
   "cell_type": "markdown",
   "id": "d06bec81-36b3-4de0-b1f0-3e9c570c02e3",
   "metadata": {},
   "source": [
    "Better! Let's try training with 0.25."
   ]
  },
  {
   "cell_type": "code",
   "execution_count": null,
   "id": "5efe181e-fbb1-4932-a4be-0c223f6fb362",
   "metadata": {},
   "outputs": [],
   "source": [
    "model = CNN()\n",
    "model.apply(init_weights)\n",
    "stats = StoreModuleStatsCB(mods=model.layers)\n",
    "cbs = [\n",
    "    MetricsCB(MulticlassAccuracy(num_classes=10)),\n",
    "    DeviceCB(),\n",
    "    ProgressCB(plot=True),\n",
    "    stats,\n",
    "]\n",
    "learn = TrainLearner(\n",
    "    model,\n",
    "    fashion_mnist(),\n",
    "    F.cross_entropy,\n",
    "    lr=0.25,\n",
    "    cbs=cbs,\n",
    ").fit(2)"
   ]
  },
  {
   "cell_type": "code",
   "execution_count": null,
   "id": "b7d6245e-54e6-4f68-861e-1ac834d8c49c",
   "metadata": {},
   "outputs": [],
   "source": [
    "stats.mean_std_plot()"
   ]
  },
  {
   "cell_type": "markdown",
   "id": "41136dde-3251-47b5-aa93-c764562fa6d0",
   "metadata": {},
   "source": [
    "That's okay. Keep in mind, I didn't include momentum, like Jeremy; but I did globally normalize the inputs."
   ]
  },
  {
   "cell_type": "code",
   "execution_count": null,
   "id": "72ca5a56-d897-4762-b59d-053419b64258",
   "metadata": {},
   "outputs": [],
   "source": [
    "fash"
   ]
  },
  {
   "cell_type": "code",
   "execution_count": null,
   "id": "39bc7189-4246-48e6-b1ba-cc466c0c57cd",
   "metadata": {},
   "outputs": [],
   "source": []
  },
  {
   "cell_type": "code",
   "execution_count": null,
   "id": "c474e89c-3740-4d15-81cb-417f54316f7a",
   "metadata": {},
   "outputs": [],
   "source": [
    "#| hide\n",
    "import nbdev\n",
    "\n",
    "nbdev.nbdev_export()"
   ]
  },
  {
   "cell_type": "code",
   "execution_count": null,
   "id": "9649c9ef-4a49-445f-9d7a-007b81bfb660",
   "metadata": {},
   "outputs": [],
   "source": []
  }
 ],
 "metadata": {
  "kernelspec": {
   "display_name": "SlowAI",
   "language": "python",
   "name": "slowai"
  },
  "language_info": {
   "codemirror_mode": {
    "name": "ipython",
    "version": 3
   },
   "file_extension": ".py",
   "mimetype": "text/x-python",
   "name": "python",
   "nbconvert_exporter": "python",
   "pygments_lexer": "ipython3",
   "version": "3.11.5"
  }
 },
 "nbformat": 4,
 "nbformat_minor": 5
}

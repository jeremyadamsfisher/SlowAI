{
 "cells": [
  {
   "cell_type": "markdown",
   "id": "32ca5ed5-e3b5-42d6-a548-010215a4655c",
   "metadata": {
    "tags": []
   },
   "source": [
    "# lesson name\n",
    "\n",
    "> Fill in a module description here\n",
    "\n",
    "## KEY POINTS\n",
    "\n",
    "- concepts and ideas about the subject\n",
    "- write down as you watch\n",
    "- add as you read, explore or implement\n",
    "- compile items across notes, polish and publish\n",
    "\n",
    "## ADVICE\n",
    "\n",
    "- general advice and meta ideas from Jeremy\n",
    "- write down as you watch\n",
    "- add as you read, explore or implement\n",
    "\n",
    "## TO-DO\n",
    "\n",
    "- items as experiments, challenges, project ideas, blog ideas\n",
    "- mark as urgent or later, done or not done\n",
    "- update during second pass\n",
    "- revisit to pick up where you left, to revise in detail or to go bottom-up\n",
    "\n",
    "## READING & EXPLORING\n",
    "\n",
    "- notebooks (use debugger), blogs, papers\n",
    "- deep learning concepts to study and explore\n",
    "- mark as done or to keep exploring later\n",
    "\n",
    "## QUESTIONS\n",
    "\n",
    "- doubts on topic & curious questions out of topic\n",
    "- add answers or follow-up questions from your own study & research\n",
    "- then post question to forum and update with definitive answers"
   ]
  },
  {
   "cell_type": "markdown",
   "id": "8443e5b1-d813-44c7-b739-4199adb93d87",
   "metadata": {},
   "source": []
  }
 ],
 "metadata": {
  "kernelspec": {
   "display_name": "crunch-11",
   "language": "python",
   "name": "crunch-11"
  },
  "language_info": {
   "codemirror_mode": {
    "name": "ipython",
    "version": 3
   },
   "file_extension": ".py",
   "mimetype": "text/x-python",
   "name": "python",
   "nbconvert_exporter": "python",
   "pygments_lexer": "ipython3",
   "version": "3.11.4"
  }
 },
 "nbformat": 4,
 "nbformat_minor": 5
}

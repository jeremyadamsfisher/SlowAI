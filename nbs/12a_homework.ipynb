{
 "cells": [
  {
   "cell_type": "markdown",
   "id": "60283ecd-8d01-4a86-888c-369eca580027",
   "metadata": {},
   "source": [
    "# Augmentation: Homework\n",
    "\n",
    "> Beating Jeremy's accuracy score of 94.6%"
   ]
  },
  {
   "cell_type": "code",
   "execution_count": null,
   "id": "797d721c-4f9e-46ce-9847-5bb5692349db",
   "metadata": {},
   "outputs": [],
   "source": []
  }
 ],
 "metadata": {
  "kernelspec": {
   "display_name": "SlowAI",
   "language": "python",
   "name": "slowai"
  },
  "language_info": {
   "codemirror_mode": {
    "name": "ipython",
    "version": 3
   },
   "file_extension": ".py",
   "mimetype": "text/x-python",
   "name": "python",
   "nbconvert_exporter": "python",
   "pygments_lexer": "ipython3",
   "version": "3.10.13"
  }
 },
 "nbformat": 4,
 "nbformat_minor": 5
}

{
 "cells": [
  {
   "cell_type": "markdown",
   "id": "3f01d2e2-889b-4358-8096-e59d85ddef0b",
   "metadata": {},
   "source": [
    "# VAE\n",
    "\n",
    "> In this module, we train a variational autoencoder"
   ]
  },
  {
   "cell_type": "code",
   "execution_count": 1,
   "id": "ffc5bbe0-2c11-4627-aaf6-2e34de5ec18c",
   "metadata": {},
   "outputs": [],
   "source": [
    "#| default_exp fashion_unet"
   ]
  },
  {
   "cell_type": "code",
   "execution_count": 11,
   "id": "3dfcce60-3377-4e37-85e2-a8e88da5a010",
   "metadata": {},
   "outputs": [],
   "source": [
    "# |export\n",
    "import torch.nn.functional as F\n",
    "from torch import nn\n",
    "\n",
    "from slowai.attention import ConditionalTAUnet, conditional_train\n",
    "from slowai.cos_revisited import aesthetics\n",
    "from slowai.super_rez import KaimingMixin\n",
    "from slowai.tinyimagenet_a import denorm, get_imagenet_dls\n",
    "from slowai.utils import show_images"
   ]
  },
  {
   "cell_type": "code",
   "execution_count": 5,
   "id": "4621a04f-ec53-4700-af1d-5465433f41d1",
   "metadata": {},
   "outputs": [],
   "source": [
    "aesthetics()"
   ]
  },
  {
   "cell_type": "code",
   "execution_count": 12,
   "id": "fce1321b-e56d-4729-98a8-3070976681cc",
   "metadata": {},
   "outputs": [
    {
     "data": {
      "text/plain": [
       "<function torch.nn.functional.relu(input: torch.Tensor, inplace: bool = False) -> torch.Tensor>"
      ]
     },
     "execution_count": 12,
     "metadata": {},
     "output_type": "execute_result"
    }
   ],
   "source": []
  },
  {
   "cell_type": "code",
   "execution_count": 15,
   "id": "5cd565d7-e762-4cba-8fe3-7858d45e7d72",
   "metadata": {},
   "outputs": [],
   "source": [
    "class Lin(nn.Module):\n",
    "    def __init__(self, c_in, c_out, bias=True, activation=True):\n",
    "        super().__init__()\n",
    "        self.lin = nn.Linear(c_in, c_out, bias=bias)\n",
    "        self.activation = activation\n",
    "\n",
    "    def forward(self, x):\n",
    "        x = self.lin(x)\n",
    "        if self.activation(x):\n",
    "            x = F.relu(x)\n",
    "        x = F.batch_norm(x)\n",
    "        return x"
   ]
  },
  {
   "cell_type": "code",
   "execution_count": 16,
   "id": "7d40f4df-2d74-4e9a-8047-a86c9483fe7a",
   "metadata": {},
   "outputs": [],
   "source": [
    "class AE(nn.Module, KaimingMixin):\n",
    "    def __init__(self, c_in, c_hidden, c_bottleneck):\n",
    "        super().__init__()\n",
    "        self.encoder = nn.Sequential(\n",
    "            Lin(c_in, c_hidden),\n",
    "            Lin(c_hidden, c_hidden),\n",
    "            Lin(c_hidden, c_bottleneck),\n",
    "        )\n",
    "        self.decoder = nn.Sequential(\n",
    "            Lin(c_bottleneck, c_hidden),\n",
    "            Lin(c_hidden, c_hidden),\n",
    "            Lin(c_hidden, c_in, activation=False),\n",
    "        )\n",
    "\n",
    "    def forward(self, x):\n",
    "        x = self.encoder(x)\n",
    "        return x, self.decoder(x)"
   ]
  },
  {
   "cell_type": "code",
   "execution_count": null,
   "id": "4baf3983-2db2-4e67-801c-2aa4032a968e",
   "metadata": {},
   "outputs": [],
   "source": [
    "#| hide\n",
    "import nbdev\n",
    "\n",
    "nbdev.nbdev_export()"
   ]
  },
  {
   "cell_type": "code",
   "execution_count": null,
   "id": "ed507a9d-43fb-4df8-9c0f-7e4ed6f3bf21",
   "metadata": {},
   "outputs": [],
   "source": []
  }
 ],
 "metadata": {
  "kernelspec": {
   "display_name": "SlowAI",
   "language": "python",
   "name": "slowai"
  },
  "language_info": {
   "codemirror_mode": {
    "name": "ipython",
    "version": 3
   },
   "file_extension": ".py",
   "mimetype": "text/x-python",
   "name": "python",
   "nbconvert_exporter": "python",
   "pygments_lexer": "ipython3",
   "version": "3.11.5"
  }
 },
 "nbformat": 4,
 "nbformat_minor": 5
}

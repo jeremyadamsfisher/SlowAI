{
 "cells": [
  {
   "cell_type": "markdown",
   "id": "f7ce5939-77ef-4fc8-9dfd-6d68ca008190",
   "metadata": {},
   "source": [
    "# Convolutions\n",
    "\n",
    "> Convolutions and convolutional neural network"
   ]
  },
  {
   "cell_type": "markdown",
   "id": "b77db186",
   "metadata": {},
   "source": [
    "Adapted from:\n",
    "\n",
    "- [https://youtu.be/0Hi2r4CaHvk?si=Adfv4DL1LfoNr0nC](https://youtu.be/0Hi2r4CaHvk?si=Adfv4DL1LfoNr0nC)"
   ]
  },
  {
   "cell_type": "code",
   "execution_count": 1,
   "id": "6c8511f0-53c5-402a-aa71-56fa2041955d",
   "metadata": {},
   "outputs": [],
   "source": [
    "#| default_exp convs"
   ]
  },
  {
   "cell_type": "code",
   "execution_count": 2,
   "id": "66b53d5d-1502-4b49-9c3a-c0248826c27f",
   "metadata": {},
   "outputs": [],
   "source": [
    "# |export\n",
    "import os\n",
    "import tempfile\n",
    "from contextlib import contextmanager\n",
    "from typing import Mapping\n",
    "\n",
    "import datasets\n",
    "import torch\n",
    "import torch.nn.functional as F\n",
    "import torchvision.transforms.functional as T\n",
    "from datasets import load_dataset, load_from_disk\n",
    "from torch import nn, optim, tensor\n",
    "from torch.utils.data import DataLoader, default_collate\n",
    "from tqdm import tqdm\n",
    "\n",
    "from slowai.datasets import show_image, show_images"
   ]
  },
  {
   "cell_type": "code",
   "execution_count": 3,
   "id": "163f42c9-3755-40d6-8a46-2aaf17d03460",
   "metadata": {},
   "outputs": [
    {
     "data": {
      "text/plain": [
       "torch.Size([1, 1, 28, 28])"
      ]
     },
     "execution_count": 3,
     "metadata": {},
     "output_type": "execute_result"
    }
   ],
   "source": [
    "dsd = load_dataset(\"mnist\")\n",
    "trn, tst = dsd[\"train\"], dsd[\"test\"]\n",
    "xb = T.to_tensor(trn[0][\"image\"])[None, ...]\n",
    "xb.shape"
   ]
  },
  {
   "cell_type": "markdown",
   "id": "8cc075b8-862e-4351-8378-d5019d2fb518",
   "metadata": {},
   "source": [
    "This is a [nice resource](https://medium.com/impactai/cnns-from-different-viewpoints-fab7f52d159c)."
   ]
  },
  {
   "cell_type": "markdown",
   "id": "945d860c-1f5c-41f2-97ff-08e8888b165e",
   "metadata": {},
   "source": [
    "Convolutions encode **position equivariance** like the probability that there is a bird at any particular location in an image. It's implemented as a sliding matrix multiplication, followed by a sum like so:"
   ]
  },
  {
   "cell_type": "code",
   "execution_count": 4,
   "id": "8c4bb342-d854-4240-b984-f216737b2453",
   "metadata": {},
   "outputs": [
    {
     "data": {
      "image/png": "[encoded data removed]",
      "text/plain": [
       "<Figure size 800x800 with 3 Axes>"
      ]
     },
     "metadata": {},
     "output_type": "display_data"
    }
   ],
   "source": [
    "kernel = tensor([[-1, -1, -1], [0, 0, 0], [1, 1, 1]])\n",
    "\n",
    "\n",
    "def apply_kernel(row, col, img, kernel):\n",
    "    # Normally, you would need to check if the kernel has\n",
    "    # an odd or even size\n",
    "    width, height = kernel.shape\n",
    "    receptive_field = img[\n",
    "        row - (height // 2) : row + (height // 2) + 1,\n",
    "        col - (width // 2) : col + (width // 2) + 1,\n",
    "    ]\n",
    "    return (receptive_field * kernel).sum()\n",
    "\n",
    "\n",
    "*_, w, h = xb.shape\n",
    "processed = [\n",
    "    [apply_kernel(i, j, xb.squeeze(), kernel) for j in range(1, w - 1)]\n",
    "    for i in range(1, h - 1)\n",
    "]\n",
    "processed = tensor(processed)\n",
    "\n",
    "show_images(\n",
    "    [kernel, xb.squeeze(), processed],\n",
    "    titles=[\"Kernel\", \"Original\", \"Original + Kernel\"],\n",
    "    figsize=(8, 8),\n",
    ");"
   ]
  },
  {
   "cell_type": "markdown",
   "id": "a78a1303-26bc-4812-a1af-1bd94b09f62e",
   "metadata": {},
   "source": [
    "You can see it is very easy to think of interesting features of images that are just convolutional filters.\n",
    "\n",
    "One clever way of implementing this is the `im2col` algorithm that represents a convolution as a matrix multiplication and take advantage of highly efficient algorithms for matrix multiplications. It does so by unrolling the input matrix matrix such that every receptive field is a contiguous block of values, with a correspondingly unrolled contiguous block of convolutional filter values. The values of the convolutional matrix can change, but they are shared.\n",
    "\n",
    "This has a corresponding function in PyTorch."
   ]
  },
  {
   "cell_type": "code",
   "execution_count": 5,
   "id": "5994623e-a469-4062-bea7-5b1c78721d81",
   "metadata": {},
   "outputs": [
    {
     "data": {
      "text/plain": [
       "\u001b[0;31mSignature:\u001b[0m\n",
       "\u001b[0mF\u001b[0m\u001b[0;34m.\u001b[0m\u001b[0munfold\u001b[0m\u001b[0;34m(\u001b[0m\u001b[0;34m\u001b[0m\n",
       "\u001b[0;34m\u001b[0m    \u001b[0minput\u001b[0m\u001b[0;34m:\u001b[0m \u001b[0mtorch\u001b[0m\u001b[0;34m.\u001b[0m\u001b[0mTensor\u001b[0m\u001b[0;34m,\u001b[0m\u001b[0;34m\u001b[0m\n",
       "\u001b[0;34m\u001b[0m    \u001b[0mkernel_size\u001b[0m\u001b[0;34m:\u001b[0m \u001b[0;32mNone\u001b[0m\u001b[0;34m,\u001b[0m\u001b[0;34m\u001b[0m\n",
       "\u001b[0;34m\u001b[0m    \u001b[0mdilation\u001b[0m\u001b[0;34m:\u001b[0m \u001b[0;32mNone\u001b[0m \u001b[0;34m=\u001b[0m \u001b[0;36m1\u001b[0m\u001b[0;34m,\u001b[0m\u001b[0;34m\u001b[0m\n",
       "\u001b[0;34m\u001b[0m    \u001b[0mpadding\u001b[0m\u001b[0;34m:\u001b[0m \u001b[0;32mNone\u001b[0m \u001b[0;34m=\u001b[0m \u001b[0;36m0\u001b[0m\u001b[0;34m,\u001b[0m\u001b[0;34m\u001b[0m\n",
       "\u001b[0;34m\u001b[0m    \u001b[0mstride\u001b[0m\u001b[0;34m:\u001b[0m \u001b[0;32mNone\u001b[0m \u001b[0;34m=\u001b[0m \u001b[0;36m1\u001b[0m\u001b[0;34m,\u001b[0m\u001b[0;34m\u001b[0m\n",
       "\u001b[0;34m\u001b[0m\u001b[0;34m)\u001b[0m \u001b[0;34m->\u001b[0m \u001b[0mtorch\u001b[0m\u001b[0;34m.\u001b[0m\u001b[0mTensor\u001b[0m\u001b[0;34m\u001b[0m\u001b[0;34m\u001b[0m\u001b[0m\n",
       "\u001b[0;31mDocstring:\u001b[0m\n",
       "Extracts sliding local blocks from a batched input tensor.\n",
       "\n",
       ".. warning::\n",
       "    Currently, only 4-D input tensors (batched image-like tensors) are\n",
       "    supported.\n",
       "\n",
       ".. warning::\n",
       "\n",
       "    More than one element of the unfolded tensor may refer to a single\n",
       "    memory location. As a result, in-place operations (especially ones that\n",
       "    are vectorized) may result in incorrect behavior. If you need to write\n",
       "    to the tensor, please clone it first.\n",
       "\n",
       "\n",
       "See :class:`torch.nn.Unfold` for details\n",
       "\u001b[0;31mFile:\u001b[0m      ~/micromamba/envs/slowai/lib/python3.11/site-packages/torch/nn/functional.py\n",
       "\u001b[0;31mType:\u001b[0m      function"
      ]
     },
     "metadata": {},
     "output_type": "display_data"
    }
   ],
   "source": [
    "F.unfold?"
   ]
  },
  {
   "cell_type": "code",
   "execution_count": 6,
   "id": "0afe2ba8-f3dd-4c0d-b6cc-b7f3035d2bbd",
   "metadata": {},
   "outputs": [
    {
     "data": {
      "image/png": "[encoded data removed]",
      "text/plain": [
       "<Figure size 640x480 with 1 Axes>"
      ]
     },
     "metadata": {},
     "output_type": "display_data"
    }
   ],
   "source": [
    "# Need to add a channel dimension and a batch dimension\n",
    "xb_unfolded = F.unfold(xb, kernel_size=(3, 3)).float()\n",
    "kernel_unfolded = kernel.view(-1).float()\n",
    "\n",
    "# im2col\n",
    "xb_processed = kernel_unfolded @ xb_unfolded\n",
    "\n",
    "# Reshape\n",
    "xb_processed = xb_processed.view(26, 26)\n",
    "show_image(xb_processed);"
   ]
  },
  {
   "cell_type": "markdown",
   "id": "2b2c05e5-3178-407b-9e92-89ba436d452d",
   "metadata": {},
   "source": [
    "This unfold trick is about the same efficiency as the built-in convolution layer. \n",
    "\n",
    "For better performance, we can apply a bunch of convolutions simultaneously."
   ]
  },
  {
   "cell_type": "code",
   "execution_count": 7,
   "id": "494392f7-fc00-4828-9a0d-8f253eaca4d9",
   "metadata": {},
   "outputs": [
    {
     "data": {
      "text/plain": [
       "torch.Size([3, 3, 3])"
      ]
     },
     "execution_count": 7,
     "metadata": {},
     "output_type": "execute_result"
    }
   ],
   "source": [
    "diag1_edge = tensor([[0, -1, 1], [-1, 1, 0], [1, 0, 0]]).float()\n",
    "diag2_edge = tensor([[1, -1, 0], [0, 1, -1], [0, 0, 1]]).float()\n",
    "left_edge = tensor([[-1, 0, 1], [-1, 0, 1], [-1, 0, 1]]).float()\n",
    "\n",
    "edge_kernels = torch.stack([left_edge, diag1_edge, diag2_edge])\n",
    "edge_kernels.shape"
   ]
  },
  {
   "cell_type": "code",
   "execution_count": 8,
   "id": "e7fa38cc-7c47-4897-8d5d-ac86725d1741",
   "metadata": {},
   "outputs": [
    {
     "data": {
      "image/png": "[encoded data removed]",
      "text/plain": [
       "<Figure size 900x300 with 3 Axes>"
      ]
     },
     "metadata": {},
     "output_type": "display_data"
    }
   ],
   "source": [
    "batch_features = F.conv2d(xb, edge_kernels[:, None, ...])\n",
    "show_images([batch_features[0, i] for i in range(3)])"
   ]
  },
  {
   "cell_type": "markdown",
   "id": "72cbc594-6b7b-42d3-bbb3-c665493be34c",
   "metadata": {},
   "source": [
    "The parameters to a convolutional layer are the **stride** and **padding**, which allow us to manipulate the size of the feature map."
   ]
  },
  {
   "cell_type": "markdown",
   "id": "caac4706-d548-4318-bf58-b19777455a3c",
   "metadata": {},
   "source": [
    "## Creating a CNN\n",
    "\n",
    "For classifying digits, we cannot solely use convolutional layers because it gives 10 outputs _per pixel_!"
   ]
  },
  {
   "cell_type": "code",
   "execution_count": 9,
   "id": "398455ca-603d-484e-becc-96697f3228a2",
   "metadata": {},
   "outputs": [
    {
     "data": {
      "text/plain": [
       "torch.Size([1, 10, 28, 28])"
      ]
     },
     "execution_count": 9,
     "metadata": {},
     "output_type": "execute_result"
    }
   ],
   "source": [
    "nh, n_outputs = 30, 10\n",
    "\n",
    "partial_model = torch.nn.Sequential(\n",
    "    torch.nn.Conv2d(1, 30, kernel_size=3, padding=1),\n",
    "    torch.nn.ReLU(),\n",
    "    torch.nn.Conv2d(30, 10, kernel_size=3, padding=1),\n",
    ")\n",
    "\n",
    "partial_model(xb).shape"
   ]
  },
  {
   "cell_type": "markdown",
   "id": "43c49d49-8c9f-4ce6-9c9a-d59d79f687a9",
   "metadata": {},
   "source": [
    "Instead, we'll add a lot of layers and chew up the extra feature map dimensions until we have a 1x1x10 feature map.\n",
    "\n",
    "We'll add a convenience function to create conv layers with optional activations."
   ]
  },
  {
   "cell_type": "code",
   "execution_count": 10,
   "id": "ebca5e56-4d04-402d-8d40-c5a9373280f8",
   "metadata": {},
   "outputs": [],
   "source": [
    "# |export\n",
    "def conv(ni, nf, ks=3, stride=2, act=True):\n",
    "    conv_ = nn.Conv2d(ni, nf, stride=stride, kernel_size=ks, padding=ks // 2)\n",
    "    if act:\n",
    "        return nn.Sequential(conv_, nn.ReLU())\n",
    "    else:\n",
    "        return conv_"
   ]
  },
  {
   "cell_type": "markdown",
   "id": "a2f33bb4-4973-4c6d-b8f4-460376c34d02",
   "metadata": {},
   "source": [
    "We also need some annoying `device` stuff."
   ]
  },
  {
   "cell_type": "code",
   "execution_count": 11,
   "id": "b8d341b1-a0cd-43d6-bceb-06bf98959ddf",
   "metadata": {},
   "outputs": [],
   "source": [
    "# |export\n",
    "def_device = (\n",
    "    \"mps\"\n",
    "    if torch.backends.mps.is_available()\n",
    "    else \"cuda\"\n",
    "    if torch.cuda.is_available()\n",
    "    else \"cpu\"\n",
    ")\n",
    "\n",
    "\n",
    "def to_device(x, device=def_device):\n",
    "    if isinstance(x, torch.Tensor):\n",
    "        return x.to(device)\n",
    "    if isinstance(x, Mapping):\n",
    "        return {k: v.to(device) for k, v in x.items()}\n",
    "    return type(x)(to_device(o, device) for o in x)"
   ]
  },
  {
   "cell_type": "markdown",
   "id": "b9a4ff35-f921-432c-a3d4-54d9c00485f2",
   "metadata": {},
   "source": [
    "Now, define the model...\n",
    "\n",
    "Note here that the default stride is `2`, such that the feature map is downsampled by 2 each layer."
   ]
  },
  {
   "cell_type": "code",
   "execution_count": 12,
   "id": "71193195-3fde-40de-ad48-1a086f9c5cad",
   "metadata": {},
   "outputs": [
    {
     "data": {
      "text/plain": [
       "Sequential(\n",
       "  (0): Sequential(\n",
       "    (0): Conv2d(1, 4, kernel_size=(3, 3), stride=(2, 2), padding=(1, 1))\n",
       "    (1): ReLU()\n",
       "  )\n",
       "  (1): Sequential(\n",
       "    (0): Conv2d(4, 8, kernel_size=(3, 3), stride=(2, 2), padding=(1, 1))\n",
       "    (1): ReLU()\n",
       "  )\n",
       "  (2): Sequential(\n",
       "    (0): Conv2d(8, 16, kernel_size=(3, 3), stride=(2, 2), padding=(1, 1))\n",
       "    (1): ReLU()\n",
       "  )\n",
       "  (3): Sequential(\n",
       "    (0): Conv2d(16, 16, kernel_size=(3, 3), stride=(2, 2), padding=(1, 1))\n",
       "    (1): ReLU()\n",
       "  )\n",
       "  (4): Conv2d(16, 10, kernel_size=(3, 3), stride=(2, 2), padding=(1, 1))\n",
       "  (5): Flatten(start_dim=1, end_dim=-1)\n",
       ")"
      ]
     },
     "execution_count": 12,
     "metadata": {},
     "output_type": "execute_result"
    }
   ],
   "source": [
    "# |export\n",
    "def get_model():\n",
    "    model = nn.Sequential(\n",
    "        conv(1, 4),  # 14x14\n",
    "        conv(4, 8),  # 7x7\n",
    "        conv(8, 16),  # 4x4\n",
    "        conv(16, 16),  # 2x2\n",
    "        conv(16, 10, act=False),  # 1x1\n",
    "        nn.Flatten(),\n",
    "    )\n",
    "    return model.to(def_device)\n",
    "\n",
    "\n",
    "get_model()"
   ]
  },
  {
   "cell_type": "markdown",
   "id": "1dfecc72-f4cd-4d76-bccd-5d92ec0356a8",
   "metadata": {},
   "source": [
    "And we can train! 🏋️"
   ]
  },
  {
   "cell_type": "code",
   "execution_count": 13,
   "id": "562754a9-b577-41c1-a08c-c37779047887",
   "metadata": {},
   "outputs": [],
   "source": [
    "# |export\n",
    "def accuracy(y, y_pred):\n",
    "    n, _ = y.shape\n",
    "    return (y.argmax(axis=1) == y_pred).sum() / n\n",
    "\n",
    "\n",
    "def fit(epochs, model, loss_func, opt, train_dl, valid_dl, tqdm_=False):\n",
    "    progress = tqdm if tqdm_ else lambda x: x\n",
    "    for epoch in range(epochs):\n",
    "        model.train()\n",
    "        for batch in progress(train_dl):\n",
    "            xb, yb = map(to_device, batch)\n",
    "            loss = loss_func(model(xb), yb)\n",
    "            loss.backward()\n",
    "            opt.step()\n",
    "            opt.zero_grad()\n",
    "\n",
    "        model.eval()\n",
    "        with torch.no_grad():\n",
    "            tot_loss, tot_acc, count = 0.0, 0.0, 0\n",
    "            for batch in progress(valid_dl):\n",
    "                xb, yb = map(to_device, batch)\n",
    "                pred = model(xb)\n",
    "                n = len(xb)\n",
    "                count += n\n",
    "                tot_loss += loss_func(pred, yb).item() * n\n",
    "                tot_acc += accuracy(pred, yb).item() * n\n",
    "\n",
    "        print(\n",
    "            f\"{epoch=}, validation loss={tot_loss / count:.3f}, validation accuracy={tot_acc / count:.2f}\"\n",
    "        )\n",
    "    return tot_loss / count, tot_acc / count\n",
    "\n",
    "\n",
    "@contextmanager\n",
    "def get_dls_from_dataset_dict(dsd, collate_fn=default_collate, bs=32):\n",
    "    datasets.logging.disable_progress_bar()\n",
    "    with tempfile.TemporaryDirectory() as tdir:\n",
    "        dls = []\n",
    "        for split in [\"train\", \"test\"]:\n",
    "            dir_ = os.path.join(tdir, split)\n",
    "            dsd[split].save_to_disk(dir_)\n",
    "            ds = load_from_disk(dir_).with_format(\"torch\")\n",
    "            dl = DataLoader(ds, batch_size=bs, collate_fn=collate_fn, num_workers=8)\n",
    "            dls.append(dl)\n",
    "        yield dls"
   ]
  },
  {
   "cell_type": "code",
   "execution_count": 14,
   "id": "0e6225bd-02ac-4bf6-9efb-8405789ca865",
   "metadata": {},
   "outputs": [],
   "source": [
    "# |export\n",
    "def fashion_collate(examples):\n",
    "    batch = default_collate(examples)\n",
    "    xb = batch[\"image\"][:, None, ...].float() / 255\n",
    "    yb = batch[\"label\"]\n",
    "    return xb, yb\n",
    "\n",
    "\n",
    "@contextmanager\n",
    "def fashion_mnist(bs=256):\n",
    "    dsd = load_dataset(\"fashion_mnist\")\n",
    "    with get_dls_from_dataset_dict(dsd, collate_fn=fashion_collate, bs=bs) as dls:\n",
    "        yield dls"
   ]
  },
  {
   "cell_type": "code",
   "execution_count": 15,
   "id": "b66fbeae-8346-4b25-8b03-ea373f31eb5d",
   "metadata": {},
   "outputs": [
    {
     "name": "stdout",
     "output_type": "stream",
     "text": [
      "epoch=0, validation loss=1.041, validation accuracy=0.62\n",
      "epoch=1, validation loss=0.767, validation accuracy=0.73\n",
      "epoch=2, validation loss=0.623, validation accuracy=0.78\n",
      "epoch=3, validation loss=0.561, validation accuracy=0.80\n",
      "epoch=4, validation loss=0.515, validation accuracy=0.81\n",
      "epoch=5, validation loss=0.483, validation accuracy=0.82\n"
     ]
    }
   ],
   "source": [
    "model = get_model()\n",
    "with fashion_mnist() as dls:\n",
    "    fit(6, model, F.cross_entropy, optim.SGD(model.parameters(), lr=0.1), *dls)"
   ]
  },
  {
   "cell_type": "markdown",
   "id": "5493863b-0364-40bd-8026-c6b72ff0bf63",
   "metadata": {},
   "source": [
    "This gives us comparable accuracy to the linear model, which had 39,760 parameters. In contrast..."
   ]
  },
  {
   "cell_type": "code",
   "execution_count": 16,
   "id": "b01e4ffb-a574-4e60-aaed-868f6b74add1",
   "metadata": {},
   "outputs": [
    {
     "data": {
      "text/plain": [
       "5274"
      ]
     },
     "execution_count": 16,
     "metadata": {},
     "output_type": "execute_result"
    }
   ],
   "source": [
    "sum(p.numel() for p in model.parameters())"
   ]
  },
  {
   "cell_type": "markdown",
   "id": "b1cdf578-fc7e-40f5-8b11-206bb304a234",
   "metadata": {},
   "source": [
    "More tips:\n",
    "\n",
    "- Chewing up the feature map until we have one logit per dimension is not the only way to summarize the features before a classification/regression head. We can also use a dense layer or global average pooling\n",
    "- The receptive field of a convolution grows through the network, as the convolutions are functions of convolutions. Really nice illustration of that [here](https://www.youtube.com/watch?v=0Hi2r4CaHvk&t=2769s)"
   ]
  },
  {
   "cell_type": "code",
   "execution_count": 17,
   "id": "c474e89c-3740-4d15-81cb-417f54316f7a",
   "metadata": {},
   "outputs": [],
   "source": [
    "#| hide\n",
    "import nbdev\n",
    "\n",
    "nbdev.nbdev_export()"
   ]
  },
  {
   "cell_type": "code",
   "execution_count": null,
   "id": "3d5a3c99-8b08-43d7-8de5-dfa4af129ba5",
   "metadata": {},
   "outputs": [],
   "source": []
  }
 ],
 "metadata": {
  "kernelspec": {
   "display_name": "SlowAI",
   "language": "python",
   "name": "slowai"
  },
  "language_info": {
   "codemirror_mode": {
    "name": "ipython",
    "version": 3
   },
   "file_extension": ".py",
   "mimetype": "text/x-python",
   "name": "python",
   "nbconvert_exporter": "python",
   "pygments_lexer": "ipython3",
   "version": "3.11.5"
  }
 },
 "nbformat": 4,
 "nbformat_minor": 5
}

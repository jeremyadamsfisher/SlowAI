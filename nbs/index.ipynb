{
 "cells": [
  {
   "attachments": {},
   "cell_type": "markdown",
   "metadata": {},
   "source": [
    "# SlowAI\n",
    "\n",
    "> FastAI, but developed extremely slowly"
   ]
  },
  {
   "attachments": {},
   "cell_type": "markdown",
   "metadata": {},
   "source": [
    "```sh\n",
    "pip install -e .\n",
    "```"
   ]
  },
  {
   "attachments": {},
   "cell_type": "markdown",
   "metadata": {},
   "source": [
    "This repo represents my plodding, meticulous notetaking from [FastAI's Practical Deep Learning Part II](https://course.fast.ai). Hence, SlowAI 😴\n",
    "\n",
    "These notebook contains copied code from the [course repository](https://github.com/fastai/course22p2/tree/master) and, therefore, no part of this work should be considered original. **Most of it is rewritten to reflect my code aesthetics and to clarify mathematical points, which is the reason I am sharing it.** However, all credit goes to Jeremy Howard except where noted otherwise."
   ]
  },
  {
   "cell_type": "code",
   "execution_count": null,
   "metadata": {},
   "outputs": [],
   "source": []
  }
 ],
 "metadata": {
  "kernelspec": {
   "display_name": "Python 3 (ipykernel)",
   "language": "python",
   "name": "python3"
  },
  "language_info": {
   "codemirror_mode": {
    "name": "ipython",
    "version": 3
   },
   "file_extension": ".py",
   "mimetype": "text/x-python",
   "name": "python",
   "nbconvert_exporter": "python",
   "pygments_lexer": "ipython3",
   "version": "3.9.18"
  }
 },
 "nbformat": 4,
 "nbformat_minor": 4
}
